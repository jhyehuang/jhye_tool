{
 "cells": [
  {
   "cell_type": "code",
   "execution_count": 107,
   "metadata": {},
   "outputs": [],
   "source": [
    "import requests  \n",
    "import json  \n",
    "from requests.packages.urllib3.exceptions import InsecureRequestWarning,InsecurePlatformWarning \n",
    "requests.packages.urllib3.disable_warnings(InsecureRequestWarning) \n",
    "requests.packages.urllib3.disable_warnings(InsecurePlatformWarning)\n",
    "\n",
    "\n",
    "url = 'https://rmfygg.court.gov.cn/web/rmfyportal/noticeinfo?p_p_id=noticelist_WAR_rmfynoticeListportlet&p_p_lifecycle=2&p_p_state=normal&p_p_mode=view&p_p_resource_id=initNoticeList&p_p_cacheability=cacheLevelPage&p_p_col_id=column-1&p_p_col_count=1'\n",
    "   "
   ]
  },
  {
   "cell_type": "code",
   "execution_count": 108,
   "metadata": {},
   "outputs": [],
   "source": [
    "header={}\n",
    "header['Accept']=\"application/json,text/javascript,*/*;q=0.01\"\n",
    "header['Accept-Encoding']='gzip,deflate,br'\n",
    "header['Accept-Language']=\"zh-CN,zh;q=0.8,zh-TW;q=0.7,zh-HK;q=0.5,en-US;q=0.3,en;q=0.2\"\n",
    "header['Cache-Control']=\"max-age=0\"\n",
    "header['Connection']=\"keep-alive\"\n",
    "header['Content-Length']='1097'\n",
    "header['Content-Type']=\"application/x-www-form-urlencoded;charset=UTF-8\"\n",
    "header['TE']='Trailers'\n",
    "header['User-Agent']=\"Mozilla/5.0 Gecko/20100101 Firefox/62.0\"\n",
    "header['X-Requested-With']='XMLHttpRequest' \n"
   ]
  },
  {
   "cell_type": "code",
   "execution_count": 110,
   "metadata": {},
   "outputs": [],
   "source": [
    "data ={} \n",
    "data['_noticelist_WAR_rmfynoticeListportlet_aoData']=[{\"name\":\"sEcho\",\"value\":1},\n",
    "                                                      {\"name\":\"iColumns\",\"value\":6},\n",
    "                                                      {\"name\":\"sColumns\",\"value\":\",,,,,\"},\n",
    "                                                      {\"name\":\"iDisplayStart\",\"value\":0},\n",
    "                                                      {\"name\":\"iDisplayLength\",\"value\":15},\n",
    "                                                      {\"name\":\"mDataProp_0\",\"value\":None},\n",
    "                                                      {\"name\":\"mDataProp_1\",\"value\":None},\n",
    "                                                      {\"name\":\"mDataProp_2\",\"value\":None},\n",
    "                                                      {\"name\":\"mDataProp_3\",\"value\":None},\n",
    "                                                      {\"name\":\"mDataProp_4\",\"value\":None},\n",
    "                                                      {\"name\":\"mDataProp_5\",\"value\":None}]\n",
    "data['_noticelist_WAR_rmfynoticeListportlet_content']=''\n",
    "data['_noticelist_WAR_rmfynoticeListportlet_courtParam']=''\n",
    "data['_noticelist_WAR_rmfynoticeListportlet_flag']='init'\n",
    "data['_noticelist_WAR_rmfynoticeListportlet_IEVersion']='ie'\n",
    "data['_noticelist_WAR_rmfynoticeListportlet_noticeType']='66'\n",
    "data['_noticelist_WAR_rmfynoticeListportlet_noticeTypeVal']='执行文书'\n",
    "data['_noticelist_WAR_rmfynoticeListportlet_searchContent']=''\n"
   ]
  },
  {
   "cell_type": "code",
   "execution_count": 111,
   "metadata": {},
   "outputs": [],
   "source": [
    "cookies={}\n",
    "cookies['CNZZDATA1273632440']='1075069879-1539783711-|1539789174'\n",
    "cookies['JSESSIONID']='422A23CC55188A62772397E204FE8364'\n",
    "cookies['LFR_SESSION_STATE_20158']='1539789819894'\n",
    "cookies['tgw_l7_route']='fb4686ab27ce2dbeb7cbdd7edefce9f4'\n",
    "cookies['UM_distinctid']='16682844456a-075a0ee45c2db08-75276752-1fa400-16682844457ef'"
   ]
  },
  {
   "cell_type": "code",
   "execution_count": 112,
   "metadata": {},
   "outputs": [],
   "source": [
    "wbdata = requests.post(url=url,data=data,headers=header,cookies=cookies)"
   ]
  },
  {
   "cell_type": "code",
   "execution_count": 113,
   "metadata": {},
   "outputs": [
    {
     "data": {
      "text/plain": [
       "<Response [200]>"
      ]
     },
     "execution_count": 113,
     "metadata": {},
     "output_type": "execute_result"
    }
   ],
   "source": [
    "wbdata"
   ]
  },
  {
   "cell_type": "code",
   "execution_count": 114,
   "metadata": {},
   "outputs": [
    {
     "data": {
      "text/plain": [
       "'{\"iTotalRecords\":0,\"iTotalDisplayRecords\":0,\"data\":[]}'"
      ]
     },
     "execution_count": 114,
     "metadata": {},
     "output_type": "execute_result"
    }
   ],
   "source": [
    "wbdata.text"
   ]
  },
  {
   "cell_type": "code",
   "execution_count": null,
   "metadata": {},
   "outputs": [],
   "source": []
  }
 ],
 "metadata": {
  "kernelspec": {
   "display_name": "Python 3",
   "language": "python",
   "name": "python3"
  },
  "language_info": {
   "codemirror_mode": {
    "name": "ipython",
    "version": 3
   },
   "file_extension": ".py",
   "mimetype": "text/x-python",
   "name": "python",
   "nbconvert_exporter": "python",
   "pygments_lexer": "ipython3",
   "version": "3.6.4"
  }
 },
 "nbformat": 4,
 "nbformat_minor": 2
}
