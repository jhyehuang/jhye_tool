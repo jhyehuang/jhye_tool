{
 "cells": [
  {
   "cell_type": "code",
   "execution_count": 1,
   "metadata": {},
   "outputs": [
    {
     "name": "stderr",
     "output_type": "stream",
     "text": [
      "C:\\ProgramData\\Anaconda3\\lib\\site-packages\\pyspider\\libs\\utils.py:196: FutureWarning: timeout is not supported on your platform.\n",
      "  warnings.warn(\"timeout is not supported on your platform.\", FutureWarning)\n"
     ]
    }
   ],
   "source": [
    "#!/usr/bin/env python\n",
    "# -*- encoding: utf-8 -*-\n",
    "# Created on 2017-11-27 19:31:47\n",
    "# Project: zhainannvshen\n",
    "\n",
    "from pyspider.libs.base_handler import *\n",
    "import os\n",
    "\n",
    "\n",
    "class Handler(BaseHandler):\n",
    "    crawl_config = {\n",
    "    }\n",
    "\n",
    "    @every(minutes=24 * 60)\n",
    "    def on_start(self):\n",
    "        # self.crawl('https://www.nvshens.com/tag/new/', callback=self.index_page, validate_cert=False)\n",
    "        for i in range(1, 16):\n",
    "            next_page = 'https://www.nvshens.com/tag/new/' + str(i) + '.html'\n",
    "            self.crawl(next_page, callback=self.index_page, validate_cert=False)\n",
    "\n",
    "    @config(age=10 * 24 * 60 * 60)\n",
    "    def index_page(self, response):\n",
    "        for each in response.doc('strong > a').items():\n",
    "            self.crawl(each.attr.href, callback=self.detail_page, validate_cert=False)\n",
    "\n",
    "    @config(priority=2)\n",
    "    def detail_page(self, response):\n",
    "        pic_url = response.doc(\n",
    "            '#post > div:nth-child(8) > div > div.post_entry > ul > li > div.igalleryli_div > a').attr.href\n",
    "        print(pic_url)\n",
    "        self.crawl(pic_url, callback=self.picture_page, validate_cert=False)\n",
    "        return {\n",
    "            \"url\": response.url,\n",
    "            \"title\": response.doc('title').text(),\n",
    "            \"pic_url\": response.doc(\n",
    "                '#post > div:nth-child(8) > div > div.post_entry > ul > li > div.igalleryli_div > a').attr('href')\n",
    "        }\n",
    "\n",
    "    def picture_page(self, response):\n",
    "        title = response.doc('#htilte').text().replace(\" \", \"_\")\n",
    "        print('title:', title)\n",
    "        dirName = u\"pyspider\\【{}】\".format(title)\n",
    "        print('dirName:', dirName)\n",
    "        dir_path = '{0}\\{1}'.format(os.getcwd(), dirName)\n",
    "        print('dir_path: ', dir_path)\n",
    "        if not os.path.exists(dir_path):\n",
    "            os.mkdir(dir_path)\n",
    "        if os.path.exists(dir_path):\n",
    "            for img in response.doc('#hgallery > img').items():\n",
    "                url = img.attr.src\n",
    "                if url:\n",
    "                    file_name = '{0}\\{1}'.format(dir_path, url.split('/')[-1])\n",
    "                    print('file_name: ', file_name)\n",
    "                    self.crawl(url, callback=self.save_img,\n",
    "                               save={'file_name': file_name, 'dir_path': dir_path}, validate_cert=False)\n",
    "            next = response.doc('#pages > a:nth-child(10)').attr.href\n",
    "            self.crawl(next, callback=self.picture_page, validate_cert=False)\n",
    "\n",
    "    def save_img(self, response):\n",
    "        content = response.content\n",
    "        file_name = response.save['file_name']\n",
    "        print('dir_path in save_img: ', response.save['dir_path'])\n",
    "        path = os.path.exists(response.save['dir_path'])\n",
    "        print(path)\n",
    "        if response.status_code == 200:\n",
    "            if os.path.exists(path):\n",
    "                f = open(file_name, 'wb')\n",
    "                f.write(content)\n",
    "                print('save image ok: ', file_name)\n",
    "                f.close()\n",
    "            else:\n",
    "                print('dir not exist: ', path)\n",
    "        else:\n",
    "            print('save failed: ', file_name)\n"
   ]
  },
  {
   "cell_type": "code",
   "execution_count": null,
   "metadata": {
    "collapsed": true
   },
   "outputs": [],
   "source": []
  }
 ],
 "metadata": {
  "kernelspec": {
   "display_name": "Python 3",
   "language": "python",
   "name": "python3"
  },
  "language_info": {
   "codemirror_mode": {
    "name": "ipython",
    "version": 3
   },
   "file_extension": ".py",
   "mimetype": "text/x-python",
   "name": "python",
   "nbconvert_exporter": "python",
   "pygments_lexer": "ipython3",
   "version": "3.6.3"
  }
 },
 "nbformat": 4,
 "nbformat_minor": 2
}
