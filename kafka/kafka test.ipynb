{
 "cells": [
  {
   "cell_type": "code",
   "execution_count": 44,
   "metadata": {},
   "outputs": [
    {
     "name": "stdout",
     "output_type": "stream",
     "text": [
      "{b'test': None, b'report_out_queue': None, b'report_in_queue': None, b'bmp_ori_data': None, b'bmp_format_data': None, b'mytopic': None}\n"
     ]
    }
   ],
   "source": [
    "# -* coding:utf8 *-  \n",
    "from pykafka import KafkaClient  \n",
    "host = '172.18.19.156:9092'\n",
    "client = KafkaClient(hosts = host)  \n",
    "print(client.topics )"
   ]
  },
  {
   "cell_type": "code",
   "execution_count": 50,
   "metadata": {},
   "outputs": [],
   "source": [
    "import time\n",
    "from pykafka import KafkaClient\n",
    "\n",
    "\n",
    "class Kafka(object):\n",
    "    \"\"\"\n",
    "    测试kafka常用api\n",
    "    \"\"\"\n",
    "    def __init__(self, host=\"172.18.19.156:9092\"):\n",
    "        self.host = host\n",
    "        self.client = KafkaClient(hosts=self.host)\n",
    "\n",
    "    def producer_partition(self):\n",
    "        \"\"\"\n",
    "        生产者分区查看，主要查看生产消息时offset的变化\n",
    "        :return:\n",
    "        \"\"\"\n",
    "        topic = self.client.topics[\"report_in_queue\".encode()]\n",
    "        partitions = topic.partitions\n",
    "        print (u\"查看所有分区 {}\".format(partitions))\n",
    "\n",
    "        earliest_offset = topic.earliest_available_offsets()\n",
    "        print(u\"获取最早可用的offset {}\".format(earliest_offset))\n",
    "\n",
    "        # 生产消息之前看看offset\n",
    "        last_offset = topic.latest_available_offsets()\n",
    "        print(u\"最近可用offset {}\".format(last_offset))\n",
    "\n",
    "        # 同步生产消息\n",
    "        p = topic.get_producer(sync=True)\n",
    "        p.produce(str(time.strftime(\"%Y-%m-%d %H:%M:%S\", time.localtime())).encode())\n",
    "\n",
    "        # 查看offset的变化\n",
    "        last_offset = topic.latest_available_offsets()\n",
    "        print(u\"最近可用offset {}\".format(last_offset))\n",
    "\n",
    "    def producer_designated_partition(self):\n",
    "        \"\"\"\n",
    "        往指定分区写消息，如果要控制打印到某个分区，\n",
    "        需要在获取生产者的时候指定选区函数，\n",
    "        并且在生产消息的时候额外指定一个key\n",
    "        :return:\n",
    "        \"\"\"\n",
    "\n",
    "        def assign_patition(pid, key):\n",
    "            \"\"\"\n",
    "            指定特定分区, 这里测试写入第一个分区(id=0)\n",
    "            :param pid: 为分区列表\n",
    "            :param key:\n",
    "            :return:\n",
    "            \"\"\"\n",
    "            print(\"为消息分配partition {} {}\".format(pid, key))\n",
    "            return pid[0]\n",
    "\n",
    "        topic = self.client.topics[\"report_in_queue\".encode()]\n",
    "        p = topic.get_producer(sync=True, partitioner=assign_patition)\n",
    "        p.produce(str(time.time()).encode(), partition_key=b\"partition_key_0\")\n",
    "\n",
    "    def async_produce_message(self):\n",
    "        \"\"\"\n",
    "        异步生产消息，消息会被推到一个队列里面，\n",
    "        另外一个线程会在队列中消息大小满足一个阈值（min_queued_messages）\n",
    "        或到达一段时间（linger_ms）后统一发送,默认5s\n",
    "        :return:\n",
    "        \"\"\"\n",
    "        topic = self.client.topics[\"bmp_ori_data\".encode()]\n",
    "        last_offset = topic.latest_available_offsets()\n",
    "        print(\"最近的偏移量 offset {}\".format(last_offset))\n",
    "\n",
    "        # 记录最初的偏移量\n",
    "        old_offset = last_offset[0].offset[0]\n",
    "        p = topic.get_producer(sync=False, partitioner=lambda pid, key: pid[0])\n",
    "        p.produce(str(time.time()).encode())\n",
    "        s_time = time.time()\n",
    "        while True:\n",
    "            last_offset = topic.latest_available_offsets()\n",
    "            print(\"最近可用offset {}\".format(last_offset))\n",
    "            if last_offset[0].offset[0] != old_offset:\n",
    "                e_time = time.time()\n",
    "                print('cost time {}'.format(e_time-s_time))\n",
    "                break\n",
    "            time.sleep(1)\n",
    "\n",
    "    def get_produce_message_report(self):\n",
    "        \"\"\"\n",
    "        查看异步发送消报告,默认会等待5s后才能获得报告\n",
    "        \"\"\"\n",
    "        topic = self.client.topics[\"bmp_ori_data\".encode()]\n",
    "        last_offset = topic.latest_available_offsets()\n",
    "        print(\"最近的偏移量 offset {}\".format(last_offset))\n",
    "        p = topic.get_producer(sync=False, delivery_reports=True, partitioner=lambda pid, key: pid[0])\n",
    "        p.produce(str(time.time()).encode())\n",
    "        s_time = time.time()\n",
    "        delivery_report = p.get_delivery_report()\n",
    "        e_time = time.time()\n",
    "        print ('等待{}s, 递交报告{}'.format(e_time-s_time, delivery_report))\n",
    "        last_offset = topic.latest_available_offsets()\n",
    "        print(\"最近的偏移量 offset {}\".format(last_offset))\n",
    "\n",
    "\n",
    "\n",
    "\n"
   ]
  },
  {
   "cell_type": "code",
   "execution_count": 51,
   "metadata": {},
   "outputs": [],
   "source": [
    "kafka_ins = Kafka()"
   ]
  },
  {
   "cell_type": "code",
   "execution_count": 77,
   "metadata": {},
   "outputs": [
    {
     "name": "stdout",
     "output_type": "stream",
     "text": [
      "查看所有分区 {0: <pykafka.partition.Partition at 0x1b11c2bb860 (id=0)>}\n",
      "获取最早可用的offset {0: OffsetPartitionResponse(offset=[0], err=0)}\n",
      "最近可用offset {0: OffsetPartitionResponse(offset=[31], err=0)}\n",
      "最近可用offset {0: OffsetPartitionResponse(offset=[32], err=0)}\n"
     ]
    }
   ],
   "source": [
    "\n",
    "kafka_ins.producer_partition()\n",
    "#kafka_ins.producer_designated_partition()\n",
    "#kafka_ins.async_produce_message()\n",
    "#kafka_ins.get_produce_message_report()"
   ]
  },
  {
   "cell_type": "code",
   "execution_count": null,
   "metadata": {
    "collapsed": true
   },
   "outputs": [],
   "source": []
  },
  {
   "cell_type": "code",
   "execution_count": null,
   "metadata": {
    "collapsed": true
   },
   "outputs": [],
   "source": []
  }
 ],
 "metadata": {
  "kernelspec": {
   "display_name": "Python 3",
   "language": "python",
   "name": "python3"
  },
  "language_info": {
   "codemirror_mode": {
    "name": "ipython",
    "version": 3
   },
   "file_extension": ".py",
   "mimetype": "text/x-python",
   "name": "python",
   "nbconvert_exporter": "python",
   "pygments_lexer": "ipython3",
   "version": "3.6.3"
  }
 },
 "nbformat": 4,
 "nbformat_minor": 2
}
