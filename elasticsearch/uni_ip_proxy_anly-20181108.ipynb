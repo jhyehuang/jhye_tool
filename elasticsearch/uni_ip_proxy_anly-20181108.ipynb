{
 "cells": [
  {
   "cell_type": "code",
   "execution_count": 1,
   "metadata": {
    "collapsed": true
   },
   "outputs": [],
   "source": [
    "import sys\n",
    "sys.path.append('../')\n",
    "from  mongo.lib.mongo_db  import db_conn\n",
    "import pandas as pd\n",
    "import numpy as np\n",
    "from pyecharts import Bar,configure,Pie\n",
    "import time\n",
    "from es_select import ES\n",
    "import itertools\n",
    "\n"
   ]
  },
  {
   "cell_type": "code",
   "execution_count": 2,
   "metadata": {
    "collapsed": true
   },
   "outputs": [],
   "source": [
    "def date_to_time(date):\n",
    "    timeArray = time.strptime(date, \"%Y%m%d\")\n",
    "    time_semp = time.mktime(timeArray)\n",
    "    return time_semp   # 2013\n",
    "def date_to_date(date):\n",
    "    timeArray = time.strptime(date, \"%a %b %d %H:%M:%S %Y\")\n",
    "    time_semp = time.strftime(\"%Y%m%d%H%M%S\", timeArray);\n",
    "    return time_semp   # 2013\n",
    "\n",
    "def time_to_today(timeStamp):\n",
    "    timeArray = time.localtime(int(timeStamp))\n",
    "    timeArray =time.strftime(\"%Y-%m-%d %H:%M:%S\",timeArray)\n",
    "    return timeArray   # 2013"
   ]
  },
  {
   "cell_type": "markdown",
   "metadata": {},
   "source": [
    "## 1、查询20181108日联通出现 5017 （尊敬的客户您好，系统检测您的访问过于频繁，为保障您的账户安全请明天再试。）"
   ]
  },
  {
   "cell_type": "code",
   "execution_count": 3,
   "metadata": {
    "collapsed": true
   },
   "outputs": [],
   "source": [
    "data=db_conn.sid_info.find({\"end_time\":{'$gte':date_to_time('20181108'),'$lte':date_to_time('20181109')},'status':5017})\n",
    "data1=list(data)"
   ]
  },
  {
   "cell_type": "code",
   "execution_count": 4,
   "metadata": {
    "collapsed": true
   },
   "outputs": [],
   "source": [
    "data1_rpt_pd=pd.DataFrame(x for x in data1)"
   ]
  },
  {
   "cell_type": "markdown",
   "metadata": {},
   "source": [
    "## 2、将代理信息和目标URL取出，统计请求次数、使用代理数量、代理去重列表"
   ]
  },
  {
   "cell_type": "code",
   "execution_count": 5,
   "metadata": {
    "collapsed": true
   },
   "outputs": [],
   "source": [
    "def get_proxy(data1_rpt_pd):\n",
    "    all_sid_http_proxy=[]\n",
    "    for sid in data1_rpt_pd.sid.values.tolist():\n",
    "        es=ES('20181109')\n",
    "        one_sid_http_proxy={}\n",
    "        #print (sid)\n",
    "        ret_list=es.get_all_ret(sid)\n",
    "        #print(len(ret_list))\n",
    "        one_sid_http_proxy['sid']=sid\n",
    "        one_sid_http_proxy['tel']=data1_rpt_pd.loc[data1_rpt_pd.sid.values==sid,'tel'].values.tolist()[0]\n",
    "        one_sid_http_proxy['status']=data1_rpt_pd.loc[data1_rpt_pd.sid.values==sid,'status'].values.tolist()[0]\n",
    "        one_sid_http_proxy['http_proxy']=[]\n",
    "        one_sid_http_proxy['url_base']=[]\n",
    "        one_sid_http_proxy['dates']=[]\n",
    "        for i,one_http in enumerate(ret_list):\n",
    "            one_sid_http_proxy['http_proxy'].append(one_http['_source']['MSG']['proxies']['http'].replace('http://','').split('.')[0])\n",
    "            one_sid_http_proxy['url_base'].append(one_http['_source']['MSG']['url'])\n",
    "            one_sid_http_proxy['dates'].append(date_to_date(one_http['_source']['DATETIME']))\n",
    "        l = [(k, len(list(g))) for k, g in itertools.groupby(one_sid_http_proxy['http_proxy'])]\n",
    "        one_sid_http_proxy['http_req_count']=l\n",
    "        one_sid_http_proxy['req_count']=len(ret_list)\n",
    "        one_sid_http_proxy['http_unique']=list(set(one_sid_http_proxy['http_proxy']))\n",
    "        one_sid_http_proxy['http_unique_count']=len(one_sid_http_proxy['http_unique'])\n",
    "        all_sid_http_proxy.append(one_sid_http_proxy)\n",
    "    return all_sid_http_proxy\n",
    "        "
   ]
  },
  {
   "cell_type": "code",
   "execution_count": 6,
   "metadata": {
    "collapsed": true
   },
   "outputs": [],
   "source": [
    "all_sid_http_proxy=get_proxy(data1_rpt_pd)"
   ]
  },
  {
   "cell_type": "code",
   "execution_count": 7,
   "metadata": {
    "collapsed": true
   },
   "outputs": [],
   "source": [
    "all_sid_http_proxy_pd=pd.DataFrame(x for x in all_sid_http_proxy) "
   ]
  },
  {
   "cell_type": "code",
   "execution_count": 8,
   "metadata": {
    "collapsed": true
   },
   "outputs": [],
   "source": [
    "all_sid_http_proxy_pd=all_sid_http_proxy_pd.fillna(0)"
   ]
  },
  {
   "cell_type": "markdown",
   "metadata": {},
   "source": [
    "## 3、将数据按照手机号码组织，并获取单个客户的请求此次，使用的代理数量"
   ]
  },
  {
   "cell_type": "code",
   "execution_count": 9,
   "metadata": {
    "collapsed": true
   },
   "outputs": [],
   "source": [
    "def chain_l(l):\n",
    "    ret_dict={}\n",
    "    for one in l:\n",
    "        if one[0] in ret_dict:\n",
    "            ret_dict[one[0]]+=one[1]\n",
    "        else:\n",
    "            ret_dict[one[0]]=one[1]\n",
    "    return ret_dict"
   ]
  },
  {
   "cell_type": "code",
   "execution_count": 10,
   "metadata": {
    "collapsed": true
   },
   "outputs": [],
   "source": [
    "import itertools\n",
    "def get_new_tel_list(all_sid_http_proxy_pd):\n",
    "    new_tel_list=[]\n",
    "    for tel in all_sid_http_proxy_pd.tel.unique().tolist():\n",
    "        new_tel_dict={}\n",
    "        tmp=all_sid_http_proxy_pd.loc[all_sid_http_proxy_pd.tel.values==tel,['tel','req_count','http_req_count','http_unique_count','http_unique']]\n",
    "        tmp=tmp.fillna(0)\n",
    "        #print(tmp.shape)\n",
    "        new_tel_dict['tel']=tel\n",
    "        new_tel_dict['req_count']=tmp.req_count.values.sum()\n",
    "        #print(tmp.http_req_count.values.tolist())\n",
    "        l=list(itertools.chain(*tmp.http_req_count.values.tolist()))\n",
    "        l_dict=chain_l(l)\n",
    "        new_tel_dict['http_req_count']=tuple(l_dict.values())\n",
    "        new_tel_dict['http_unique_count']=tmp.http_unique_count.values.sum()\n",
    "        new_tel_dict['http_unique']= tuple(l_dict)\n",
    "        new_tel_list.append(new_tel_dict)\n",
    "    new_tel_pd=pd.DataFrame(x for x in new_tel_list)\n",
    "    return new_tel_pd"
   ]
  },
  {
   "cell_type": "code",
   "execution_count": 11,
   "metadata": {
    "collapsed": true
   },
   "outputs": [],
   "source": [
    "new_tel_pd=get_new_tel_list(all_sid_http_proxy_pd)"
   ]
  },
  {
   "cell_type": "markdown",
   "metadata": {},
   "source": [
    "## 4、当天只使用同一个代理但是被封的客户"
   ]
  },
  {
   "cell_type": "code",
   "execution_count": 12,
   "metadata": {
    "collapsed": true
   },
   "outputs": [],
   "source": [
    "filte=np.logical_and(new_tel_pd.http_unique_count.values==1,True)\n",
    "tmp_1=new_tel_pd.loc[filte,['tel','req_count','http_unique_count','http_unique']]"
   ]
  },
  {
   "cell_type": "code",
   "execution_count": 13,
   "metadata": {},
   "outputs": [
    {
     "data": {
      "text/html": [
       "<div>\n",
       "<style>\n",
       "    .dataframe thead tr:only-child th {\n",
       "        text-align: right;\n",
       "    }\n",
       "\n",
       "    .dataframe thead th {\n",
       "        text-align: left;\n",
       "    }\n",
       "\n",
       "    .dataframe tbody tr th {\n",
       "        vertical-align: top;\n",
       "    }\n",
       "</style>\n",
       "<table border=\"1\" class=\"dataframe\">\n",
       "  <thead>\n",
       "    <tr style=\"text-align: right;\">\n",
       "      <th></th>\n",
       "      <th>tel</th>\n",
       "      <th>req_count</th>\n",
       "      <th>http_unique_count</th>\n",
       "      <th>http_unique</th>\n",
       "    </tr>\n",
       "  </thead>\n",
       "  <tbody>\n",
       "    <tr>\n",
       "      <th>6</th>\n",
       "      <td>13087896586</td>\n",
       "      <td>142</td>\n",
       "      <td>1</td>\n",
       "      <td>(squidsz75,)</td>\n",
       "    </tr>\n",
       "    <tr>\n",
       "      <th>14</th>\n",
       "      <td>18685985968</td>\n",
       "      <td>2</td>\n",
       "      <td>1</td>\n",
       "      <td>(squidsz10,)</td>\n",
       "    </tr>\n",
       "    <tr>\n",
       "      <th>15</th>\n",
       "      <td>18588702023</td>\n",
       "      <td>118</td>\n",
       "      <td>1</td>\n",
       "      <td>(squidsz103,)</td>\n",
       "    </tr>\n",
       "    <tr>\n",
       "      <th>16</th>\n",
       "      <td>18608579082</td>\n",
       "      <td>132</td>\n",
       "      <td>1</td>\n",
       "      <td>(squidsz77,)</td>\n",
       "    </tr>\n",
       "    <tr>\n",
       "      <th>19</th>\n",
       "      <td>15519601164</td>\n",
       "      <td>136</td>\n",
       "      <td>1</td>\n",
       "      <td>(squidsz01,)</td>\n",
       "    </tr>\n",
       "    <tr>\n",
       "      <th>21</th>\n",
       "      <td>18585001331</td>\n",
       "      <td>124</td>\n",
       "      <td>1</td>\n",
       "      <td>(squidsz75,)</td>\n",
       "    </tr>\n",
       "    <tr>\n",
       "      <th>23</th>\n",
       "      <td>15570515422</td>\n",
       "      <td>168</td>\n",
       "      <td>1</td>\n",
       "      <td>(squidsz130,)</td>\n",
       "    </tr>\n",
       "    <tr>\n",
       "      <th>24</th>\n",
       "      <td>18666891559</td>\n",
       "      <td>146</td>\n",
       "      <td>1</td>\n",
       "      <td>(squidsz98,)</td>\n",
       "    </tr>\n",
       "    <tr>\n",
       "      <th>26</th>\n",
       "      <td>15519636356</td>\n",
       "      <td>140</td>\n",
       "      <td>1</td>\n",
       "      <td>(squidsz96,)</td>\n",
       "    </tr>\n",
       "    <tr>\n",
       "      <th>27</th>\n",
       "      <td>18606913615</td>\n",
       "      <td>17</td>\n",
       "      <td>1</td>\n",
       "      <td>(squidsz75,)</td>\n",
       "    </tr>\n",
       "    <tr>\n",
       "      <th>29</th>\n",
       "      <td>15585284220</td>\n",
       "      <td>127</td>\n",
       "      <td>1</td>\n",
       "      <td>(squidsz122,)</td>\n",
       "    </tr>\n",
       "    <tr>\n",
       "      <th>31</th>\n",
       "      <td>15572835478</td>\n",
       "      <td>157</td>\n",
       "      <td>1</td>\n",
       "      <td>(squidsz82,)</td>\n",
       "    </tr>\n",
       "    <tr>\n",
       "      <th>32</th>\n",
       "      <td>15607201880</td>\n",
       "      <td>205</td>\n",
       "      <td>1</td>\n",
       "      <td>(squidsz47,)</td>\n",
       "    </tr>\n",
       "    <tr>\n",
       "      <th>33</th>\n",
       "      <td>18664605028</td>\n",
       "      <td>115</td>\n",
       "      <td>1</td>\n",
       "      <td>(squidsz07,)</td>\n",
       "    </tr>\n",
       "  </tbody>\n",
       "</table>\n",
       "</div>"
      ],
      "text/plain": [
       "            tel  req_count  http_unique_count    http_unique\n",
       "6   13087896586        142                  1   (squidsz75,)\n",
       "14  18685985968          2                  1   (squidsz10,)\n",
       "15  18588702023        118                  1  (squidsz103,)\n",
       "16  18608579082        132                  1   (squidsz77,)\n",
       "19  15519601164        136                  1   (squidsz01,)\n",
       "21  18585001331        124                  1   (squidsz75,)\n",
       "23  15570515422        168                  1  (squidsz130,)\n",
       "24  18666891559        146                  1   (squidsz98,)\n",
       "26  15519636356        140                  1   (squidsz96,)\n",
       "27  18606913615         17                  1   (squidsz75,)\n",
       "29  15585284220        127                  1  (squidsz122,)\n",
       "31  15572835478        157                  1   (squidsz82,)\n",
       "32  15607201880        205                  1   (squidsz47,)\n",
       "33  18664605028        115                  1   (squidsz07,)"
      ]
     },
     "execution_count": 13,
     "metadata": {},
     "output_type": "execute_result"
    }
   ],
   "source": [
    "tmp_1"
   ]
  },
  {
   "cell_type": "markdown",
   "metadata": {},
   "source": [
    "### 发现  18685985968 和 18606913615 存在异常值，单查 18685985968"
   ]
  },
  {
   "cell_type": "code",
   "execution_count": 14,
   "metadata": {
    "collapsed": true
   },
   "outputs": [],
   "source": [
    "data=db_conn.sid_info.find({\"end_time\":{'$gte':date_to_time('20181108'),'$lte':date_to_time('20181109')},'tel':{'$in':['18685985968','18606913615']}})\n",
    "data2=list(data)\n",
    "data2=pd.DataFrame(x for x in data2)\n",
    "one_sid_http_proxy=get_proxy(data2)\n",
    "one_tel_http_proxy_pd=pd.DataFrame(x for x in one_sid_http_proxy) \n",
    "one_tel_http_proxy_pd=get_new_tel_list(one_tel_http_proxy_pd)"
   ]
  },
  {
   "cell_type": "code",
   "execution_count": 15,
   "metadata": {},
   "outputs": [
    {
     "data": {
      "text/html": [
       "<div>\n",
       "<style>\n",
       "    .dataframe thead tr:only-child th {\n",
       "        text-align: right;\n",
       "    }\n",
       "\n",
       "    .dataframe thead th {\n",
       "        text-align: left;\n",
       "    }\n",
       "\n",
       "    .dataframe tbody tr th {\n",
       "        vertical-align: top;\n",
       "    }\n",
       "</style>\n",
       "<table border=\"1\" class=\"dataframe\">\n",
       "  <thead>\n",
       "    <tr style=\"text-align: right;\">\n",
       "      <th></th>\n",
       "      <th>tel</th>\n",
       "      <th>req_count</th>\n",
       "      <th>http_unique_count</th>\n",
       "      <th>http_unique</th>\n",
       "    </tr>\n",
       "  </thead>\n",
       "  <tbody>\n",
       "    <tr>\n",
       "      <th>0</th>\n",
       "      <td>18606913615</td>\n",
       "      <td>17</td>\n",
       "      <td>1</td>\n",
       "      <td>(squidsz75,)</td>\n",
       "    </tr>\n",
       "    <tr>\n",
       "      <th>1</th>\n",
       "      <td>18685985968</td>\n",
       "      <td>520</td>\n",
       "      <td>13</td>\n",
       "      <td>(squidsz80, squidsz81, squidsz82, squidsz109, ...</td>\n",
       "    </tr>\n",
       "  </tbody>\n",
       "</table>\n",
       "</div>"
      ],
      "text/plain": [
       "           tel  req_count  http_unique_count  \\\n",
       "0  18606913615         17                  1   \n",
       "1  18685985968        520                 13   \n",
       "\n",
       "                                         http_unique  \n",
       "0                                       (squidsz75,)  \n",
       "1  (squidsz80, squidsz81, squidsz82, squidsz109, ...  "
      ]
     },
     "execution_count": 15,
     "metadata": {},
     "output_type": "execute_result"
    }
   ],
   "source": [
    "one_tel_http_proxy_pd.loc[:,['tel','req_count','http_unique_count','http_unique']]"
   ]
  },
  {
   "cell_type": "markdown",
   "metadata": {},
   "source": [
    "### 由此可以看出当天 18685985968 当天也发生了多次请求，只有18606913615只发生了一次请求"
   ]
  },
  {
   "cell_type": "markdown",
   "metadata": {},
   "source": [
    "### 接下来分析 代理squidsz75，在这次请求前后是否正常"
   ]
  },
  {
   "cell_type": "code",
   "execution_count": 16,
   "metadata": {
    "collapsed": true
   },
   "outputs": [],
   "source": [
    "def sid_get_err_code(sid):\n",
    "    data=db_conn.sid_info.find_one({\"sid\":sid,},{'_id':0,'status':1})\n",
    "    return data.get('status',1)"
   ]
  },
  {
   "cell_type": "code",
   "execution_count": 17,
   "metadata": {
    "collapsed": true
   },
   "outputs": [],
   "source": [
    "def sid_get_flow_type(sid):\n",
    "    data=db_conn.sid_info.find_one({\"sid\":sid,},{'_id':0,'tel_info':1,'status':1})\n",
    "    return data['tel_info']['flow_type']"
   ]
  },
  {
   "cell_type": "code",
   "execution_count": 20,
   "metadata": {
    "collapsed": true
   },
   "outputs": [],
   "source": [
    "def anly_one_ip_proxy(one_ip_proxy):\n",
    "    es=ES()\n",
    "    proxy_ret=es.get_proxy_ret(one_ip_proxy)\n",
    "    del es\n",
    "    one_sid_http_proxy_list=[]\n",
    "    for one in proxy_ret:\n",
    "        one_sid_http_proxy={}\n",
    "        one_sid_http_proxy['http_proxy']=one_ip_proxy\n",
    "        one_sid_http_proxy['url_base']=(one['_source']['MSG']['url'])\n",
    "        one_sid_http_proxy['dates']=(date_to_date(one['_source']['DATETIME']))\n",
    "        one_sid_http_proxy['sid']=((one['_source']['MSG']['sid']))\n",
    "        one_sid_http_proxy_list.append(one_sid_http_proxy)\n",
    "    one_sid_http_proxy_pd=pd.DataFrame(x for x in one_sid_http_proxy_list)\n",
    "    #one_sid_http_proxy_pd.groupby('sid')['http_proxy'].size().reset_index()\n",
    "    ip_proxy_sort_pd=one_sid_http_proxy_pd.groupby('sid')['dates'].max().reset_index().sort_values(by=\"dates\")\n",
    "    ip_proxy_sort_pd['status']=ip_proxy_sort_pd.sid.map(sid_get_err_code)\n",
    "    ip_proxy_sort_pd['flow_type']=ip_proxy_sort_pd.sid.map(sid_get_flow_type)\n",
    "    return ip_proxy_sort_pd.loc[ip_proxy_sort_pd.flow_type.values=='10010',:]"
   ]
  },
  {
   "cell_type": "code",
   "execution_count": 21,
   "metadata": {},
   "outputs": [
    {
     "data": {
      "text/html": [
       "<div>\n",
       "<style>\n",
       "    .dataframe thead tr:only-child th {\n",
       "        text-align: right;\n",
       "    }\n",
       "\n",
       "    .dataframe thead th {\n",
       "        text-align: left;\n",
       "    }\n",
       "\n",
       "    .dataframe tbody tr th {\n",
       "        vertical-align: top;\n",
       "    }\n",
       "</style>\n",
       "<table border=\"1\" class=\"dataframe\">\n",
       "  <thead>\n",
       "    <tr style=\"text-align: right;\">\n",
       "      <th></th>\n",
       "      <th>sid</th>\n",
       "      <th>dates</th>\n",
       "      <th>status</th>\n",
       "      <th>flow_type</th>\n",
       "    </tr>\n",
       "  </thead>\n",
       "  <tbody>\n",
       "    <tr>\n",
       "      <th>34</th>\n",
       "      <td>SIDc571fa3ef9ff41d19319125d28e1d629</td>\n",
       "      <td>20181108042642</td>\n",
       "      <td>0</td>\n",
       "      <td>10010</td>\n",
       "    </tr>\n",
       "    <tr>\n",
       "      <th>8</th>\n",
       "      <td>SID48448543eec548d9ab80f27c49ea3b9e</td>\n",
       "      <td>20181108085918</td>\n",
       "      <td>3003</td>\n",
       "      <td>10010</td>\n",
       "    </tr>\n",
       "    <tr>\n",
       "      <th>3</th>\n",
       "      <td>SID1e3cfd49d9444375ab21823d566e6aaa</td>\n",
       "      <td>20181108101846</td>\n",
       "      <td>0</td>\n",
       "      <td>10010</td>\n",
       "    </tr>\n",
       "    <tr>\n",
       "      <th>32</th>\n",
       "      <td>SIDb15d9246e5944e92aabfd744cffbe9a0</td>\n",
       "      <td>20181108111331</td>\n",
       "      <td>5017</td>\n",
       "      <td>10010</td>\n",
       "    </tr>\n",
       "    <tr>\n",
       "      <th>18</th>\n",
       "      <td>SID76f4ebfb381a4a76b01ac64789f1efb0</td>\n",
       "      <td>20181108120309</td>\n",
       "      <td>3003</td>\n",
       "      <td>10010</td>\n",
       "    </tr>\n",
       "    <tr>\n",
       "      <th>20</th>\n",
       "      <td>SID7bef4b88ff444a99b0cd9a9f41639375</td>\n",
       "      <td>20181108130035</td>\n",
       "      <td>5017</td>\n",
       "      <td>10010</td>\n",
       "    </tr>\n",
       "    <tr>\n",
       "      <th>41</th>\n",
       "      <td>SIDdc1334c62c6448e5923fd65353ca9239</td>\n",
       "      <td>20181108134057</td>\n",
       "      <td>0</td>\n",
       "      <td>10010</td>\n",
       "    </tr>\n",
       "    <tr>\n",
       "      <th>1</th>\n",
       "      <td>SID06463d6054864c49b142f70a3e31f842</td>\n",
       "      <td>20181108141801</td>\n",
       "      <td>0</td>\n",
       "      <td>10010</td>\n",
       "    </tr>\n",
       "    <tr>\n",
       "      <th>44</th>\n",
       "      <td>SIDe41f6cac00cb4d2c8e159b90bacdaba7</td>\n",
       "      <td>20181108143805</td>\n",
       "      <td>3003</td>\n",
       "      <td>10010</td>\n",
       "    </tr>\n",
       "    <tr>\n",
       "      <th>28</th>\n",
       "      <td>SID9c948a08d3bb4a4e94a5470190967de1</td>\n",
       "      <td>20181108150951</td>\n",
       "      <td>0</td>\n",
       "      <td>10010</td>\n",
       "    </tr>\n",
       "    <tr>\n",
       "      <th>14</th>\n",
       "      <td>SID6a04d5dcdffc446db5f4f1b6fbbe6caa</td>\n",
       "      <td>20181108152855</td>\n",
       "      <td>0</td>\n",
       "      <td>10010</td>\n",
       "    </tr>\n",
       "    <tr>\n",
       "      <th>11</th>\n",
       "      <td>SID551e70adfd4042b5b18f68df71137ddc</td>\n",
       "      <td>20181108162527</td>\n",
       "      <td>5017</td>\n",
       "      <td>10010</td>\n",
       "    </tr>\n",
       "    <tr>\n",
       "      <th>29</th>\n",
       "      <td>SIDa37268374b734867892d7287d0dbf213</td>\n",
       "      <td>20181108170559</td>\n",
       "      <td>5017</td>\n",
       "      <td>10010</td>\n",
       "    </tr>\n",
       "    <tr>\n",
       "      <th>12</th>\n",
       "      <td>SID5a337924dc064bdfb8c66eb8c9c948d9</td>\n",
       "      <td>20181108174124</td>\n",
       "      <td>5017</td>\n",
       "      <td>10010</td>\n",
       "    </tr>\n",
       "    <tr>\n",
       "      <th>36</th>\n",
       "      <td>SIDccc1e82a7dd24b868cbc817edabe1e28</td>\n",
       "      <td>20181108193539</td>\n",
       "      <td>0</td>\n",
       "      <td>10010</td>\n",
       "    </tr>\n",
       "  </tbody>\n",
       "</table>\n",
       "</div>"
      ],
      "text/plain": [
       "                                    sid           dates  status flow_type\n",
       "34  SIDc571fa3ef9ff41d19319125d28e1d629  20181108042642       0     10010\n",
       "8   SID48448543eec548d9ab80f27c49ea3b9e  20181108085918    3003     10010\n",
       "3   SID1e3cfd49d9444375ab21823d566e6aaa  20181108101846       0     10010\n",
       "32  SIDb15d9246e5944e92aabfd744cffbe9a0  20181108111331    5017     10010\n",
       "18  SID76f4ebfb381a4a76b01ac64789f1efb0  20181108120309    3003     10010\n",
       "20  SID7bef4b88ff444a99b0cd9a9f41639375  20181108130035    5017     10010\n",
       "41  SIDdc1334c62c6448e5923fd65353ca9239  20181108134057       0     10010\n",
       "1   SID06463d6054864c49b142f70a3e31f842  20181108141801       0     10010\n",
       "44  SIDe41f6cac00cb4d2c8e159b90bacdaba7  20181108143805    3003     10010\n",
       "28  SID9c948a08d3bb4a4e94a5470190967de1  20181108150951       0     10010\n",
       "14  SID6a04d5dcdffc446db5f4f1b6fbbe6caa  20181108152855       0     10010\n",
       "11  SID551e70adfd4042b5b18f68df71137ddc  20181108162527    5017     10010\n",
       "29  SIDa37268374b734867892d7287d0dbf213  20181108170559    5017     10010\n",
       "12  SID5a337924dc064bdfb8c66eb8c9c948d9  20181108174124    5017     10010\n",
       "36  SIDccc1e82a7dd24b868cbc817edabe1e28  20181108193539       0     10010"
      ]
     },
     "execution_count": 21,
     "metadata": {},
     "output_type": "execute_result"
    }
   ],
   "source": [
    "anly_one_ip_proxy('http://squidsz75.dianhua.cn:8080')"
   ]
  },
  {
   "cell_type": "markdown",
   "metadata": {},
   "source": [
    "#### 18606913615 当天发生的请求为 SIDb15d9246e5944e92aabfd744cffbe9a0 ，使用代理squidsz75，请求发送在上午11点，出现了请求频繁，该代理之后的其他会话中还是可以正常使用，并爬取成功，怀疑可能该客户当天通过其他渠道操作过账户。"
   ]
  },
  {
   "cell_type": "markdown",
   "metadata": {},
   "source": [
    "## 5、使用多个代理被封情况分析\n",
    "req_count 为请求官网次数\n",
    "\n",
    "http_req_count 为http_unique中代理对应请求次数\n",
    "\n",
    "http_unique_count 为使用代理个数\n",
    "\n",
    "http_unique 为被使用过的代理"
   ]
  },
  {
   "cell_type": "markdown",
   "metadata": {},
   "source": [
    "### A、使用代理数量超过1个的客户"
   ]
  },
  {
   "cell_type": "code",
   "execution_count": null,
   "metadata": {
    "scrolled": false
   },
   "outputs": [],
   "source": [
    "filte=np.logical_and(new_tel_pd.http_unique_count.values>1,True)\n",
    "tmp_2=new_tel_pd.loc[filte,['tel','req_count','http_req_count','http_unique_count','http_unique']]\n",
    "tmp_2"
   ]
  },
  {
   "cell_type": "markdown",
   "metadata": {},
   "source": [
    "### B、分析代理总调用次数小于100次的客户"
   ]
  },
  {
   "cell_type": "code",
   "execution_count": null,
   "metadata": {},
   "outputs": [],
   "source": [
    "filte=np.logical_and(new_tel_pd.http_unique_count.values>1,new_tel_pd.req_count.values<100)\n",
    "tmp_3=new_tel_pd.loc[filte,['tel','req_count','http_req_count','http_unique_count','http_unique']]\n",
    "tmp_3"
   ]
  },
  {
   "cell_type": "markdown",
   "metadata": {},
   "source": [
    "#### 查看这些客户当日是否有其他返回码的请求"
   ]
  },
  {
   "cell_type": "code",
   "execution_count": null,
   "metadata": {
    "collapsed": true
   },
   "outputs": [],
   "source": [
    "data=db_conn.sid_info.find({\"end_time\":{'$gte':date_to_time('20181108'),'$lte':date_to_time('20181109')},'tel':{'$in':tmp_3.tel.values.tolist()}})\n",
    "data2=list(data)\n",
    "data2=pd.DataFrame(x for x in data2)\n",
    "some_sid_http_proxy=get_proxy(data2)\n",
    "some_sid_http_proxy_pd=pd.DataFrame(x for x in some_sid_http_proxy) \n",
    "some_sid_http_proxy_pd=get_new_tel_list(some_sid_http_proxy_pd)"
   ]
  },
  {
   "cell_type": "code",
   "execution_count": null,
   "metadata": {},
   "outputs": [],
   "source": [
    "some_sid_http_proxy_pd"
   ]
  },
  {
   "cell_type": "markdown",
   "metadata": {},
   "source": [
    "#### 这些用户当日不存在其他请求，由此推测可能是频繁变更IP地址引起封禁"
   ]
  },
  {
   "cell_type": "markdown",
   "metadata": {},
   "source": [
    "### C、分析请求数量超过100的代理"
   ]
  },
  {
   "cell_type": "code",
   "execution_count": null,
   "metadata": {},
   "outputs": [],
   "source": [
    "filte=np.logical_and(new_tel_pd.http_unique_count.values>1,new_tel_pd.req_count.values>100)\n",
    "tmp_4=new_tel_pd.loc[filte,['tel','req_count','http_req_count','http_unique_count','http_unique']]\n",
    "tmp_4"
   ]
  },
  {
   "cell_type": "markdown",
   "metadata": {
    "collapsed": true
   },
   "source": [
    "#### 使用代理数量相对B情况要少，但是均存在某一个代理使用超过100的情况，可能是因为当日请求量超过阈值或者Ip地址发送变化引起"
   ]
  },
  {
   "cell_type": "markdown",
   "metadata": {},
   "source": [
    "### D、分析C中代理使用量超过100的情况发生的时机"
   ]
  },
  {
   "cell_type": "code",
   "execution_count": null,
   "metadata": {
    "collapsed": true
   },
   "outputs": [],
   "source": [
    "def select_tel(tel):\n",
    "    data=db_conn.sid_info.find({\"end_time\":{'$gte':date_to_time('20181108'),'$lte':date_to_time('20181109')},'tel':tel})\n",
    "    data2=list(data)\n",
    "    data2=pd.DataFrame(x for x in data2)\n",
    "    some_sid_http_proxy=get_proxy(data2)\n",
    "    some_sid_http_proxy_pd=pd.DataFrame(x for x in some_sid_http_proxy) \n",
    "    some_sid_http_proxy_pd=some_sid_http_proxy_pd.loc[some_sid_http_proxy_pd.req_count.values>0,['sid','req_count','tel','status','dates']]\n",
    "    some_sid_http_proxy_pd['dates']=some_sid_http_proxy_pd.dates.map(max)\n",
    "    return some_sid_http_proxy_pd"
   ]
  },
  {
   "cell_type": "code",
   "execution_count": null,
   "metadata": {},
   "outputs": [],
   "source": [
    "select_tel('13055410111')"
   ]
  },
  {
   "cell_type": "code",
   "execution_count": null,
   "metadata": {},
   "outputs": [],
   "source": [
    "select_tel('18672485919')"
   ]
  },
  {
   "cell_type": "markdown",
   "metadata": {
    "collapsed": true
   },
   "source": [
    "#### 由此可以看出，18672485919 先发生了130次官网请求，然后重试有发生了一个15次的官网请求，在首次请求时已经触发封禁"
   ]
  },
  {
   "cell_type": "markdown",
   "metadata": {},
   "source": [
    "## 5、结论\n",
    "### 1）、单次爬虫事务中，如果短时间内请求官网超过115次，可能被封禁\n",
    "### 2）、多次爬虫事务中，如果使用多个ip代理请求官网，超过3个ip将可能被封禁\n",
    "### 3）、联通反爬策略为，tel+ip进行识别，相同ip不同客户、相互不干扰\n",
    "### 4）、针对分析结果，建立爬虫代理池对该以上反爬策略无效"
   ]
  },
  {
   "cell_type": "markdown",
   "metadata": {
    "collapsed": true
   },
   "source": [
    "# 6、采样爬取成功的联通，分析"
   ]
  },
  {
   "cell_type": "code",
   "execution_count": 22,
   "metadata": {
    "collapsed": true,
    "scrolled": true
   },
   "outputs": [],
   "source": [
    "data=db_conn.sid_info.find({\"end_time\":{'$gte':date_to_time('20181108'),'$lte':date_to_time('20181109')},'status':0,'crawler_channel':{'$exists':False},'tel_info.flow_type':'10010'}).limit(40)\n",
    "data2=list(data)\n",
    "data2=pd.DataFrame(x for x in data2)\n"
   ]
  },
  {
   "cell_type": "code",
   "execution_count": 23,
   "metadata": {
    "collapsed": true
   },
   "outputs": [],
   "source": [
    "some_sid_http_proxy=get_proxy(data2)\n",
    "some_sid_http_proxy_pd=pd.DataFrame(x for x in some_sid_http_proxy) \n",
    "some_sid_http_proxy_pd=get_new_tel_list(some_sid_http_proxy_pd)"
   ]
  },
  {
   "cell_type": "code",
   "execution_count": 24,
   "metadata": {},
   "outputs": [
    {
     "data": {
      "text/html": [
       "<div>\n",
       "<style>\n",
       "    .dataframe thead tr:only-child th {\n",
       "        text-align: right;\n",
       "    }\n",
       "\n",
       "    .dataframe thead th {\n",
       "        text-align: left;\n",
       "    }\n",
       "\n",
       "    .dataframe tbody tr th {\n",
       "        vertical-align: top;\n",
       "    }\n",
       "</style>\n",
       "<table border=\"1\" class=\"dataframe\">\n",
       "  <thead>\n",
       "    <tr style=\"text-align: right;\">\n",
       "      <th></th>\n",
       "      <th>http_req_count</th>\n",
       "      <th>http_unique</th>\n",
       "      <th>http_unique_count</th>\n",
       "      <th>req_count</th>\n",
       "      <th>tel</th>\n",
       "    </tr>\n",
       "  </thead>\n",
       "  <tbody>\n",
       "    <tr>\n",
       "      <th>0</th>\n",
       "      <td>(53,)</td>\n",
       "      <td>(squidsz78,)</td>\n",
       "      <td>1</td>\n",
       "      <td>53</td>\n",
       "      <td>13034122298</td>\n",
       "    </tr>\n",
       "    <tr>\n",
       "      <th>1</th>\n",
       "      <td>(5,)</td>\n",
       "      <td>(squidsz77,)</td>\n",
       "      <td>1</td>\n",
       "      <td>5</td>\n",
       "      <td>15590090119</td>\n",
       "    </tr>\n",
       "    <tr>\n",
       "      <th>2</th>\n",
       "      <td>(69,)</td>\n",
       "      <td>(squidsz75,)</td>\n",
       "      <td>1</td>\n",
       "      <td>69</td>\n",
       "      <td>18660854098</td>\n",
       "    </tr>\n",
       "    <tr>\n",
       "      <th>3</th>\n",
       "      <td>(5,)</td>\n",
       "      <td>(squidsz76,)</td>\n",
       "      <td>1</td>\n",
       "      <td>5</td>\n",
       "      <td>18679936272</td>\n",
       "    </tr>\n",
       "    <tr>\n",
       "      <th>4</th>\n",
       "      <td>(25,)</td>\n",
       "      <td>(squidsz74,)</td>\n",
       "      <td>1</td>\n",
       "      <td>25</td>\n",
       "      <td>18502751143</td>\n",
       "    </tr>\n",
       "    <tr>\n",
       "      <th>5</th>\n",
       "      <td>(40,)</td>\n",
       "      <td>(squidsz73,)</td>\n",
       "      <td>1</td>\n",
       "      <td>40</td>\n",
       "      <td>15629691616</td>\n",
       "    </tr>\n",
       "    <tr>\n",
       "      <th>6</th>\n",
       "      <td>(7, 92)</td>\n",
       "      <td>(squidsz49, squidsz72)</td>\n",
       "      <td>2</td>\n",
       "      <td>99</td>\n",
       "      <td>18662014188</td>\n",
       "    </tr>\n",
       "    <tr>\n",
       "      <th>7</th>\n",
       "      <td>(25,)</td>\n",
       "      <td>(squidsz71,)</td>\n",
       "      <td>1</td>\n",
       "      <td>25</td>\n",
       "      <td>18627730383</td>\n",
       "    </tr>\n",
       "    <tr>\n",
       "      <th>8</th>\n",
       "      <td>(105,)</td>\n",
       "      <td>(squidsz50,)</td>\n",
       "      <td>1</td>\n",
       "      <td>105</td>\n",
       "      <td>13028222977</td>\n",
       "    </tr>\n",
       "    <tr>\n",
       "      <th>9</th>\n",
       "      <td>(39, 2, 3, 44)</td>\n",
       "      <td>(squidsz48, squidsz30, squidsz27, squidsz32)</td>\n",
       "      <td>4</td>\n",
       "      <td>88</td>\n",
       "      <td>15559684366</td>\n",
       "    </tr>\n",
       "    <tr>\n",
       "      <th>10</th>\n",
       "      <td>(31,)</td>\n",
       "      <td>(squidsz46,)</td>\n",
       "      <td>1</td>\n",
       "      <td>31</td>\n",
       "      <td>17671070739</td>\n",
       "    </tr>\n",
       "    <tr>\n",
       "      <th>11</th>\n",
       "      <td>(7, 2, 111)</td>\n",
       "      <td>(squidsz37, squidsz39, squidsz43)</td>\n",
       "      <td>3</td>\n",
       "      <td>120</td>\n",
       "      <td>13142112945</td>\n",
       "    </tr>\n",
       "    <tr>\n",
       "      <th>12</th>\n",
       "      <td>(38,)</td>\n",
       "      <td>(squidsz44,)</td>\n",
       "      <td>1</td>\n",
       "      <td>38</td>\n",
       "      <td>13205171626</td>\n",
       "    </tr>\n",
       "    <tr>\n",
       "      <th>13</th>\n",
       "      <td>(22,)</td>\n",
       "      <td>(squidsz40,)</td>\n",
       "      <td>1</td>\n",
       "      <td>22</td>\n",
       "      <td>15620717994</td>\n",
       "    </tr>\n",
       "    <tr>\n",
       "      <th>14</th>\n",
       "      <td>(2, 2, 143)</td>\n",
       "      <td>(squidsz34, squidsz35, squidsz36)</td>\n",
       "      <td>3</td>\n",
       "      <td>147</td>\n",
       "      <td>18615148628</td>\n",
       "    </tr>\n",
       "    <tr>\n",
       "      <th>15</th>\n",
       "      <td>(81,)</td>\n",
       "      <td>(squidsz33,)</td>\n",
       "      <td>1</td>\n",
       "      <td>81</td>\n",
       "      <td>15696971082</td>\n",
       "    </tr>\n",
       "    <tr>\n",
       "      <th>16</th>\n",
       "      <td>(7, 43)</td>\n",
       "      <td>(squidsz24, squidsz28)</td>\n",
       "      <td>2</td>\n",
       "      <td>50</td>\n",
       "      <td>18641933062</td>\n",
       "    </tr>\n",
       "    <tr>\n",
       "      <th>17</th>\n",
       "      <td>(46,)</td>\n",
       "      <td>(squidsz25,)</td>\n",
       "      <td>1</td>\n",
       "      <td>46</td>\n",
       "      <td>15697262290</td>\n",
       "    </tr>\n",
       "    <tr>\n",
       "      <th>18</th>\n",
       "      <td>(3, 2, 2, 31)</td>\n",
       "      <td>(squidsz02, squidsz04, squidsz05, squidsz22)</td>\n",
       "      <td>4</td>\n",
       "      <td>38</td>\n",
       "      <td>17690656622</td>\n",
       "    </tr>\n",
       "    <tr>\n",
       "      <th>19</th>\n",
       "      <td>(6, 2, 93)</td>\n",
       "      <td>(squidsz126, squidsz01, squidsz21)</td>\n",
       "      <td>3</td>\n",
       "      <td>101</td>\n",
       "      <td>18658446610</td>\n",
       "    </tr>\n",
       "    <tr>\n",
       "      <th>20</th>\n",
       "      <td>(16,)</td>\n",
       "      <td>(squidsz19,)</td>\n",
       "      <td>1</td>\n",
       "      <td>16</td>\n",
       "      <td>13195865693</td>\n",
       "    </tr>\n",
       "    <tr>\n",
       "      <th>21</th>\n",
       "      <td>(5, 5, 30)</td>\n",
       "      <td>(squidsz20, squidsz08, squidsz127)</td>\n",
       "      <td>3</td>\n",
       "      <td>40</td>\n",
       "      <td>18607141368</td>\n",
       "    </tr>\n",
       "    <tr>\n",
       "      <th>22</th>\n",
       "      <td>(73,)</td>\n",
       "      <td>(squidsz18,)</td>\n",
       "      <td>1</td>\n",
       "      <td>73</td>\n",
       "      <td>17507124522</td>\n",
       "    </tr>\n",
       "    <tr>\n",
       "      <th>23</th>\n",
       "      <td>(5, 2, 37)</td>\n",
       "      <td>(squidsz17, squidsz16, squidsz15)</td>\n",
       "      <td>3</td>\n",
       "      <td>44</td>\n",
       "      <td>17691353943</td>\n",
       "    </tr>\n",
       "    <tr>\n",
       "      <th>24</th>\n",
       "      <td>(58,)</td>\n",
       "      <td>(squidsz14,)</td>\n",
       "      <td>1</td>\n",
       "      <td>58</td>\n",
       "      <td>18612384927</td>\n",
       "    </tr>\n",
       "    <tr>\n",
       "      <th>25</th>\n",
       "      <td>(32,)</td>\n",
       "      <td>(squidsz10,)</td>\n",
       "      <td>1</td>\n",
       "      <td>32</td>\n",
       "      <td>17612932801</td>\n",
       "    </tr>\n",
       "    <tr>\n",
       "      <th>26</th>\n",
       "      <td>(2, 6, 33, 5)</td>\n",
       "      <td>(squidsz06, squidsz05, squidsz09, squidsz07)</td>\n",
       "      <td>4</td>\n",
       "      <td>46</td>\n",
       "      <td>15524191082</td>\n",
       "    </tr>\n",
       "    <tr>\n",
       "      <th>27</th>\n",
       "      <td>(180, 2, 3)</td>\n",
       "      <td>(squidsz04, squidsz03, squidsz02)</td>\n",
       "      <td>3</td>\n",
       "      <td>185</td>\n",
       "      <td>18674058360</td>\n",
       "    </tr>\n",
       "    <tr>\n",
       "      <th>28</th>\n",
       "      <td>(66,)</td>\n",
       "      <td>(squidsz01,)</td>\n",
       "      <td>1</td>\n",
       "      <td>66</td>\n",
       "      <td>15542278033</td>\n",
       "    </tr>\n",
       "    <tr>\n",
       "      <th>29</th>\n",
       "      <td>(22,)</td>\n",
       "      <td>(squidsz128,)</td>\n",
       "      <td>1</td>\n",
       "      <td>22</td>\n",
       "      <td>17623229345</td>\n",
       "    </tr>\n",
       "    <tr>\n",
       "      <th>30</th>\n",
       "      <td>(31,)</td>\n",
       "      <td>(squidsz126,)</td>\n",
       "      <td>1</td>\n",
       "      <td>31</td>\n",
       "      <td>17608910715</td>\n",
       "    </tr>\n",
       "    <tr>\n",
       "      <th>31</th>\n",
       "      <td>(42,)</td>\n",
       "      <td>(squidsz124,)</td>\n",
       "      <td>1</td>\n",
       "      <td>42</td>\n",
       "      <td>18585473708</td>\n",
       "    </tr>\n",
       "    <tr>\n",
       "      <th>32</th>\n",
       "      <td>(57,)</td>\n",
       "      <td>(squidsz123,)</td>\n",
       "      <td>1</td>\n",
       "      <td>57</td>\n",
       "      <td>17612741210</td>\n",
       "    </tr>\n",
       "    <tr>\n",
       "      <th>33</th>\n",
       "      <td>(59,)</td>\n",
       "      <td>(squidsz125,)</td>\n",
       "      <td>1</td>\n",
       "      <td>59</td>\n",
       "      <td>18560901919</td>\n",
       "    </tr>\n",
       "    <tr>\n",
       "      <th>34</th>\n",
       "      <td>(3, 89, 2)</td>\n",
       "      <td>(squidsz115, squidsz118, squidsz117)</td>\n",
       "      <td>3</td>\n",
       "      <td>94</td>\n",
       "      <td>13236620083</td>\n",
       "    </tr>\n",
       "    <tr>\n",
       "      <th>35</th>\n",
       "      <td>(41,)</td>\n",
       "      <td>(squidsz120,)</td>\n",
       "      <td>1</td>\n",
       "      <td>41</td>\n",
       "      <td>18595177785</td>\n",
       "    </tr>\n",
       "  </tbody>\n",
       "</table>\n",
       "</div>"
      ],
      "text/plain": [
       "    http_req_count                                   http_unique  \\\n",
       "0            (53,)                                  (squidsz78,)   \n",
       "1             (5,)                                  (squidsz77,)   \n",
       "2            (69,)                                  (squidsz75,)   \n",
       "3             (5,)                                  (squidsz76,)   \n",
       "4            (25,)                                  (squidsz74,)   \n",
       "5            (40,)                                  (squidsz73,)   \n",
       "6          (7, 92)                        (squidsz49, squidsz72)   \n",
       "7            (25,)                                  (squidsz71,)   \n",
       "8           (105,)                                  (squidsz50,)   \n",
       "9   (39, 2, 3, 44)  (squidsz48, squidsz30, squidsz27, squidsz32)   \n",
       "10           (31,)                                  (squidsz46,)   \n",
       "11     (7, 2, 111)             (squidsz37, squidsz39, squidsz43)   \n",
       "12           (38,)                                  (squidsz44,)   \n",
       "13           (22,)                                  (squidsz40,)   \n",
       "14     (2, 2, 143)             (squidsz34, squidsz35, squidsz36)   \n",
       "15           (81,)                                  (squidsz33,)   \n",
       "16         (7, 43)                        (squidsz24, squidsz28)   \n",
       "17           (46,)                                  (squidsz25,)   \n",
       "18   (3, 2, 2, 31)  (squidsz02, squidsz04, squidsz05, squidsz22)   \n",
       "19      (6, 2, 93)            (squidsz126, squidsz01, squidsz21)   \n",
       "20           (16,)                                  (squidsz19,)   \n",
       "21      (5, 5, 30)            (squidsz20, squidsz08, squidsz127)   \n",
       "22           (73,)                                  (squidsz18,)   \n",
       "23      (5, 2, 37)             (squidsz17, squidsz16, squidsz15)   \n",
       "24           (58,)                                  (squidsz14,)   \n",
       "25           (32,)                                  (squidsz10,)   \n",
       "26   (2, 6, 33, 5)  (squidsz06, squidsz05, squidsz09, squidsz07)   \n",
       "27     (180, 2, 3)             (squidsz04, squidsz03, squidsz02)   \n",
       "28           (66,)                                  (squidsz01,)   \n",
       "29           (22,)                                 (squidsz128,)   \n",
       "30           (31,)                                 (squidsz126,)   \n",
       "31           (42,)                                 (squidsz124,)   \n",
       "32           (57,)                                 (squidsz123,)   \n",
       "33           (59,)                                 (squidsz125,)   \n",
       "34      (3, 89, 2)          (squidsz115, squidsz118, squidsz117)   \n",
       "35           (41,)                                 (squidsz120,)   \n",
       "\n",
       "    http_unique_count  req_count          tel  \n",
       "0                   1         53  13034122298  \n",
       "1                   1          5  15590090119  \n",
       "2                   1         69  18660854098  \n",
       "3                   1          5  18679936272  \n",
       "4                   1         25  18502751143  \n",
       "5                   1         40  15629691616  \n",
       "6                   2         99  18662014188  \n",
       "7                   1         25  18627730383  \n",
       "8                   1        105  13028222977  \n",
       "9                   4         88  15559684366  \n",
       "10                  1         31  17671070739  \n",
       "11                  3        120  13142112945  \n",
       "12                  1         38  13205171626  \n",
       "13                  1         22  15620717994  \n",
       "14                  3        147  18615148628  \n",
       "15                  1         81  15696971082  \n",
       "16                  2         50  18641933062  \n",
       "17                  1         46  15697262290  \n",
       "18                  4         38  17690656622  \n",
       "19                  3        101  18658446610  \n",
       "20                  1         16  13195865693  \n",
       "21                  3         40  18607141368  \n",
       "22                  1         73  17507124522  \n",
       "23                  3         44  17691353943  \n",
       "24                  1         58  18612384927  \n",
       "25                  1         32  17612932801  \n",
       "26                  4         46  15524191082  \n",
       "27                  3        185  18674058360  \n",
       "28                  1         66  15542278033  \n",
       "29                  1         22  17623229345  \n",
       "30                  1         31  17608910715  \n",
       "31                  1         42  18585473708  \n",
       "32                  1         57  17612741210  \n",
       "33                  1         59  18560901919  \n",
       "34                  3         94  13236620083  \n",
       "35                  1         41  18595177785  "
      ]
     },
     "execution_count": 24,
     "metadata": {},
     "output_type": "execute_result"
    }
   ],
   "source": [
    "some_sid_http_proxy_pd"
   ]
  },
  {
   "cell_type": "code",
   "execution_count": 26,
   "metadata": {},
   "outputs": [
    {
     "data": {
      "text/plain": [
       "58.166666666666664"
      ]
     },
     "execution_count": 26,
     "metadata": {},
     "output_type": "execute_result"
    }
   ],
   "source": [
    "some_sid_http_proxy_pd.req_count.mean()"
   ]
  },
  {
   "cell_type": "markdown",
   "metadata": {},
   "source": [
    "#### 当日成功的联通爬取平均使用代理次数为58"
   ]
  },
  {
   "cell_type": "code",
   "execution_count": null,
   "metadata": {
    "collapsed": true
   },
   "outputs": [],
   "source": []
  }
 ],
 "metadata": {
  "kernelspec": {
   "display_name": "Python 3",
   "language": "python",
   "name": "python3"
  },
  "language_info": {
   "codemirror_mode": {
    "name": "ipython",
    "version": 3
   },
   "file_extension": ".py",
   "mimetype": "text/x-python",
   "name": "python",
   "nbconvert_exporter": "python",
   "pygments_lexer": "ipython3",
   "version": "3.6.3"
  }
 },
 "nbformat": 4,
 "nbformat_minor": 2
}
