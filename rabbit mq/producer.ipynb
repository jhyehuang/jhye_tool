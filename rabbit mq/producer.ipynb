{
 "cells": [
  {
   "cell_type": "code",
   "execution_count": 5,
   "metadata": {},
   "outputs": [
    {
     "name": "stdout",
     "output_type": "stream",
     "text": [
      " [x] Sent 'Hello World!'\n"
     ]
    }
   ],
   "source": [
    "# !/usr/bin/env python\n",
    "import pika\n",
    "import json\n",
    "credentials = pika.PlainCredentials('rabbitadmin','yulorei7')\n",
    "connection = pika.BlockingConnection(pika.ConnectionParameters(\n",
    "    '172.18.19.219',5672,'/',credentials))\n",
    "channel = connection.channel()\n",
    "\n",
    "# 声明queue\n",
    "channel.queue_declare(queue='rpt_in_queue',durable=True)\n",
    "import json\n",
    "json_filename = ('../mongo/phone.json') \n",
    "_data=json.load(open(json_filename)) \n",
    "\n",
    "post_data=json.dumps({'data':_data,'cfg':{},'sid':'','retry_times':1})\n",
    "# n RabbitMQ a message can never be sent directly to the queue, it always needs to go through an exchange.\n",
    "channel.basic_publish(exchange='',\n",
    "                      routing_key='rpt_in_queue',\n",
    "                      body=post_data,\n",
    "                      properties=pika.BasicProperties(\n",
    "                          delivery_mode=2,  # make message persistent\n",
    "                      )\n",
    "                     )\n",
    "print(\" [x] Sent 'Hello World!'\")\n",
    "connection.close()"
   ]
  },
  {
   "cell_type": "code",
   "execution_count": null,
   "metadata": {
    "collapsed": true
   },
   "outputs": [],
   "source": []
  },
  {
   "cell_type": "code",
   "execution_count": 52,
   "metadata": {},
   "outputs": [
    {
     "name": "stdout",
     "output_type": "stream",
     "text": [
      " [x] Sent 'Hello World!'\n"
     ]
    }
   ],
   "source": [
    "# !/usr/bin/env python\n",
    "import pika\n",
    "import json\n",
    "credentials = pika.PlainCredentials('rabbitadmin','yulorei7')\n",
    "connection = pika.BlockingConnection(pika.ConnectionParameters(\n",
    "    '172.18.19.219',5672,'/',credentials))\n",
    "channel = connection.channel()\n",
    "\n",
    "exchangeName='dlx'\n",
    "queueName='delayed_queue'\n",
    "# 创建交换机\n",
    "#channel.exchange_declare(exchange=exchangeName, exchange_type='topic', durable=True)\n",
    "#channel.queue_declare(queue=queueName, durable=True,arguments={'x-message-ttl':30000})\n",
    "#channel.queue_bind(queue=queueName, exchange=exchangeName, routing_key=\"dlx\")\n",
    "\n",
    "# 声明queue\n",
    "#arguments={'x-message-ttl' : 900000}\n",
    "#channel.queue_declare(queue='delayed_c_in_queue',durable=True)\n",
    "post_data=json.dumps({'data':'','cfg':{},'sid':'','retry_times':1})\n",
    "\n",
    "# n RabbitMQ a message can never be sent directly to the queue, it always needs to go through an exchange.\n",
    "channel.basic_publish(exchange=exchangeName,\n",
    "                      routing_key='dlx',\n",
    "                      body=post_data,\n",
    "                      properties=pika.BasicProperties(\n",
    "                          delivery_mode=2,  # make message persistent   \n",
    "                    content_type='application/json',\n",
    "                    content_encoding='UTF-8',\n",
    "                    priority=0,\n",
    "                    expiration=\"30000\",\n",
    "                      )\n",
    "                     )\n",
    "print(\" [x] Sent 'Hello World!'\")\n",
    "connection.close()"
   ]
  },
  {
   "cell_type": "code",
   "execution_count": null,
   "metadata": {
    "collapsed": true
   },
   "outputs": [],
   "source": []
  }
 ],
 "metadata": {
  "kernelspec": {
   "display_name": "Python 3",
   "language": "python",
   "name": "python3"
  },
  "language_info": {
   "codemirror_mode": {
    "name": "ipython",
    "version": 3
   },
   "file_extension": ".py",
   "mimetype": "text/x-python",
   "name": "python",
   "nbconvert_exporter": "python",
   "pygments_lexer": "ipython3",
   "version": "3.6.3"
  }
 },
 "nbformat": 4,
 "nbformat_minor": 2
}
