{
 "cells": [
  {
   "cell_type": "code",
   "execution_count": 5,
   "metadata": {},
   "outputs": [
    {
     "name": "stdout",
     "output_type": "stream",
     "text": [
      " [x] Sent 'Hello World!'\n"
     ]
    }
   ],
   "source": [
    "# !/usr/bin/env python\n",
    "import pika\n",
    "import json\n",
    "credentials = pika.PlainCredentials('rabbitadmin','yulorei7')\n",
    "connection = pika.BlockingConnection(pika.ConnectionParameters(\n",
    "    '172.18.19.219',5672,'/',credentials))\n",
    "channel = connection.channel()\n",
    "\n",
    "# 声明queue\n",
    "channel.queue_declare(queue='rpt_in_queue',durable=True)\n",
    "import json\n",
    "json_filename = ('../mongo/phone.json') \n",
    "_data=json.load(open(json_filename)) \n",
    "\n",
    "post_data=json.dumps({'data':_data,'cfg':{},'sid':'','retry_times':1})\n",
    "# n RabbitMQ a message can never be sent directly to the queue, it always needs to go through an exchange.\n",
    "channel.basic_publish(exchange='',\n",
    "                      routing_key='rpt_in_queue',\n",
    "                      body=post_data,\n",
    "                      properties=pika.BasicProperties(\n",
    "                          delivery_mode=2,  # make message persistent\n",
    "                      )\n",
    "                     )\n",
    "print(\" [x] Sent 'Hello World!'\")\n",
    "connection.close()"
   ]
  },
  {
   "cell_type": "code",
   "execution_count": null,
   "metadata": {},
   "outputs": [],
   "source": []
  },
  {
   "cell_type": "code",
   "execution_count": 1,
   "metadata": {},
   "outputs": [
    {
     "ename": "ModuleNotFoundError",
     "evalue": "No module named 'pika'",
     "output_type": "error",
     "traceback": [
      "\u001b[0;31m---------------------------------------------------------------------------\u001b[0m",
      "\u001b[0;31mModuleNotFoundError\u001b[0m                       Traceback (most recent call last)",
      "\u001b[0;32m<ipython-input-1-067de0355f9d>\u001b[0m in \u001b[0;36m<module>\u001b[0;34m()\u001b[0m\n\u001b[1;32m      1\u001b[0m \u001b[0;31m# !/usr/bin/env python\u001b[0m\u001b[0;34m\u001b[0m\u001b[0;34m\u001b[0m\u001b[0m\n\u001b[0;32m----> 2\u001b[0;31m \u001b[0;32mimport\u001b[0m \u001b[0mpika\u001b[0m\u001b[0;34m\u001b[0m\u001b[0m\n\u001b[0m\u001b[1;32m      3\u001b[0m \u001b[0;32mimport\u001b[0m \u001b[0mjson\u001b[0m\u001b[0;34m\u001b[0m\u001b[0m\n\u001b[1;32m      4\u001b[0m \u001b[0mcredentials\u001b[0m \u001b[0;34m=\u001b[0m \u001b[0mpika\u001b[0m\u001b[0;34m.\u001b[0m\u001b[0mPlainCredentials\u001b[0m\u001b[0;34m(\u001b[0m\u001b[0;34m'rabbitadmin'\u001b[0m\u001b[0;34m,\u001b[0m\u001b[0;34m'yulorei7'\u001b[0m\u001b[0;34m)\u001b[0m\u001b[0;34m\u001b[0m\u001b[0m\n\u001b[1;32m      5\u001b[0m connection = pika.BlockingConnection(pika.ConnectionParameters(\n",
      "\u001b[0;31mModuleNotFoundError\u001b[0m: No module named 'pika'"
     ]
    }
   ],
   "source": [
    "# !/usr/bin/env python\n",
    "import pika\n",
    "import json\n",
    "credentials = pika.PlainCredentials('rabbitadmin','yulorei7')\n",
    "connection = pika.BlockingConnection(pika.ConnectionParameters(\n",
    "    '172.18.19.219',5672,'/',credentials))\n",
    "channel = connection.channel()\n",
    "\n",
    "exchange_topic1='report_in_topic_ex'\n",
    "exchange_topic2='report_out_topic_ex'\n",
    "queue_in_novip='rpt_in_novip'\n",
    "queue_in_vip='rpt_in_vip'\n",
    "queue_out_novip='rpt_out_novip'\n",
    "queue_out_vip='rpt_out_vip'\n",
    "DELAY_EXCHANGE = 'Dead_Letter_Ex'\n",
    "REPORT_A_IN_QUEUE='delayed_a_in_queue'\n",
    "REPORT_B_IN_QUEUE='delayed_b_in_queue'\n",
    "REPORT_C_IN_QUEUE='delayed_c_in_queue'\n",
    "\n",
    "# 创建交换机\n",
    "channel.exchange_declare(exchange=exchange_topic1, exchange_type='topic', durable=True)\n",
    "channel.queue_declare(queue=queue_in_novip, durable=True)\n",
    "channel.queue_declare(queue=queue_in_vip, durable=True)\n",
    "channel.queue_bind(queue=queue_in_novip, exchange=exchange_topic1, routing_key=\"report.novip\")\n",
    "channel.queue_bind(queue=queue_in_vip, exchange=exchange_topic1, routing_key=\"report.vip\")\n",
    "\n",
    "channel.exchange_declare(exchange=exchange_topic2, exchange_type='topic', durable=True)\n",
    "channel.queue_declare(queue=queue_out_novip, durable=True)\n",
    "channel.queue_declare(queue=queue_out_vip, durable=True)\n",
    "channel.queue_bind(queue=queue_out_novip, exchange=exchange_topic2, routing_key=\"report.novip\")\n",
    "channel.queue_bind(queue=queue_out_vip, exchange=exchange_topic2, routing_key=\"report.vip\")\n",
    "\n",
    "\n",
    "arguments={'x-message-ttl' : 60*1000}\n",
    "arguments.update({'x-dead-letter-exchange': DELAY_EXCHANGE})\n",
    "channel.queue_declare(queue=REPORT_A_IN_QUEUE,durable=True,arguments=arguments)\n",
    "\n",
    "arguments={'x-message-ttl' : 180*1000}\n",
    "arguments.update({'x-dead-letter-exchange': DELAY_EXCHANGE})\n",
    "channel.queue_declare(queue=REPORT_B_IN_QUEUE,durable=True,arguments=arguments)\n",
    "\n",
    "arguments={'x-message-ttl' : 900*1000}\n",
    "arguments.update({'x-dead-letter-exchange': DELAY_EXCHANGE})\n",
    "channel.queue_declare(queue=REPORT_C_IN_QUEUE,durable=True,arguments=arguments)\n",
    "\n",
    "channel.exchange_declare(exchange=DELAY_EXCHANGE, exchange_type='direct', durable=True)\n",
    "channel.queue_bind(queue=queue_in_novip, exchange=DELAY_EXCHANGE, routing_key=\"report.novip\")\n",
    "channel.queue_bind(queue=queue_in_vip, exchange=DELAY_EXCHANGE, routing_key=\"report.vip\")\n"
   ]
  },
  {
   "cell_type": "code",
   "execution_count": null,
   "metadata": {
    "collapsed": true
   },
   "outputs": [],
   "source": [
    "post_data=json.dumps({'data':'','cfg':{},'sid':'','retry_times':1})\n",
    "\n",
    "# n RabbitMQ a message can never be sent directly to the queue, it always needs to go through an exchange.\n",
    "channel.basic_publish(exchange=exchangeName,\n",
    "                      routing_key='dlx',\n",
    "                      body=post_data,\n",
    "                      properties=pika.BasicProperties(\n",
    "                          delivery_mode=2,  # make message persistent   \n",
    "                    content_type='application/json',\n",
    "                    content_encoding='UTF-8',\n",
    "                    priority=0,\n",
    "                    expiration=\"30000\",\n",
    "                      )\n",
    "                     )\n",
    "print(\" [x] Sent 'Hello World!'\")\n",
    "connection.close()"
   ]
  }
 ],
 "metadata": {
  "kernelspec": {
   "display_name": "Python 3",
   "language": "python",
   "name": "python3"
  },
  "language_info": {
   "codemirror_mode": {
    "name": "ipython",
    "version": 3
   },
   "file_extension": ".py",
   "mimetype": "text/x-python",
   "name": "python",
   "nbconvert_exporter": "python",
   "pygments_lexer": "ipython3",
   "version": "3.6.4"
  }
 },
 "nbformat": 4,
 "nbformat_minor": 2
}
