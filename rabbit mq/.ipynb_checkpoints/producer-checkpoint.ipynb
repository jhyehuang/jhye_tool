{
 "cells": [
  {
   "cell_type": "code",
   "execution_count": 1,
   "metadata": {
    "collapsed": true
   },
   "outputs": [],
   "source": [
    "import sys\n",
    "sys.path.append('../')\n",
    "from  mongo.lib.mongo_db_dev  import db_conn\n",
    "import pandas as pd\n"
   ]
  },
  {
   "cell_type": "code",
   "execution_count": 2,
   "metadata": {},
   "outputs": [
    {
     "ename": "KeyError",
     "evalue": "'job_id'",
     "output_type": "error",
     "traceback": [
      "\u001b[1;31m---------------------------------------------------------------------------\u001b[0m",
      "\u001b[1;31mKeyError\u001b[0m                                  Traceback (most recent call last)",
      "\u001b[1;32m<ipython-input-2-4c28ed55e379>\u001b[0m in \u001b[0;36m<module>\u001b[1;34m()\u001b[0m\n\u001b[0;32m      1\u001b[0m \u001b[0msid_info\u001b[0m\u001b[1;33m=\u001b[0m\u001b[0mdb_conn\u001b[0m\u001b[1;33m.\u001b[0m\u001b[0msid_info\u001b[0m\u001b[1;33m.\u001b[0m\u001b[0mfind_one\u001b[0m\u001b[1;33m(\u001b[0m\u001b[1;33m{\u001b[0m\u001b[1;34m\"sid\"\u001b[0m\u001b[1;33m:\u001b[0m\u001b[1;34m'SID31bd4bddb7694835b0882924ecd8dd1c'\u001b[0m\u001b[1;33m}\u001b[0m\u001b[1;33m)\u001b[0m\u001b[1;33m\u001b[0m\u001b[0m\n\u001b[0;32m      2\u001b[0m \u001b[0msid_info\u001b[0m\u001b[1;33m.\u001b[0m\u001b[0mpop\u001b[0m\u001b[1;33m(\u001b[0m\u001b[1;34m'_id'\u001b[0m\u001b[1;33m)\u001b[0m\u001b[1;33m\u001b[0m\u001b[0m\n\u001b[1;32m----> 3\u001b[1;33m \u001b[0msid_info\u001b[0m\u001b[1;33m.\u001b[0m\u001b[0mpop\u001b[0m\u001b[1;33m(\u001b[0m\u001b[1;34m'job_id'\u001b[0m\u001b[1;33m)\u001b[0m\u001b[1;33m\u001b[0m\u001b[0m\n\u001b[0m\u001b[0;32m      4\u001b[0m \u001b[0mtel_info\u001b[0m\u001b[1;33m=\u001b[0m\u001b[0msid_info\u001b[0m\u001b[1;33m[\u001b[0m\u001b[1;34m'tel_info'\u001b[0m\u001b[1;33m]\u001b[0m\u001b[1;33m\u001b[0m\u001b[0m\n",
      "\u001b[1;31mKeyError\u001b[0m: 'job_id'"
     ]
    }
   ],
   "source": [
    "sid_info=db_conn.sid_info.find_one({\"sid\":'SID31bd4bddb7694835b0882924ecd8dd1c'})\n",
    "sid_info.pop('_id')\n",
    "#sid_info.pop('job_id')\n",
    "tel_info=sid_info['tel_info']"
   ]
  },
  {
   "cell_type": "code",
   "execution_count": 3,
   "metadata": {},
   "outputs": [
    {
     "ename": "AttributeError",
     "evalue": "'NoneType' object has no attribute 'pop'",
     "output_type": "error",
     "traceback": [
      "\u001b[1;31m---------------------------------------------------------------------------\u001b[0m",
      "\u001b[1;31mAttributeError\u001b[0m                            Traceback (most recent call last)",
      "\u001b[1;32m<ipython-input-3-c0c72ad2d857>\u001b[0m in \u001b[0;36m<module>\u001b[1;34m()\u001b[0m\n\u001b[0;32m      1\u001b[0m \u001b[0minfo\u001b[0m\u001b[1;33m=\u001b[0m\u001b[0mdb_conn\u001b[0m\u001b[1;33m.\u001b[0m\u001b[0muser_info\u001b[0m\u001b[1;33m.\u001b[0m\u001b[0mfind_one\u001b[0m\u001b[1;33m(\u001b[0m\u001b[1;33m{\u001b[0m\u001b[1;34m\"tel\"\u001b[0m\u001b[1;33m:\u001b[0m\u001b[0msid_info\u001b[0m\u001b[1;33m[\u001b[0m\u001b[1;34m'tel'\u001b[0m\u001b[1;33m]\u001b[0m\u001b[1;33m}\u001b[0m\u001b[1;33m)\u001b[0m\u001b[1;33m\u001b[0m\u001b[0m\n\u001b[1;32m----> 2\u001b[1;33m \u001b[0minfo\u001b[0m\u001b[1;33m.\u001b[0m\u001b[0mpop\u001b[0m\u001b[1;33m(\u001b[0m\u001b[1;34m'_id'\u001b[0m\u001b[1;33m)\u001b[0m\u001b[1;33m\u001b[0m\u001b[0m\n\u001b[0m",
      "\u001b[1;31mAttributeError\u001b[0m: 'NoneType' object has no attribute 'pop'"
     ]
    }
   ],
   "source": [
    "info=db_conn.user_info.find_one({\"tel\":sid_info['tel']})\n",
    "info.pop('_id')"
   ]
  },
  {
   "cell_type": "code",
   "execution_count": 4,
   "metadata": {},
   "outputs": [
    {
     "data": {
      "text/plain": [
       "ObjectId('5bc7ed6121cde40594fb288c')"
      ]
     },
     "execution_count": 4,
     "metadata": {},
     "output_type": "execute_result"
    }
   ],
   "source": [
    "phone=db_conn.phone.find_one({\"sid\":'SID31bd4bddb7694835b0882924ecd8dd1c'})\n",
    "phone.pop('_id')"
   ]
  },
  {
   "cell_type": "markdown",
   "metadata": {},
   "source": [
    "call_log=db_conn.call_log.find({'sid':'SID07fbf0d1d885456995eb6327ee41cd35'})\n",
    "call_log=list(call_log)\n",
    "ret_call_log=[]\n",
    "for x in call_log:\n",
    "    x.pop('_id')\n",
    "    x.pop('sid')\n",
    "    x.pop('update_time')\n",
    "    x['tel']='18920425979'\n",
    "    ret_call_log.append(x)\n",
    "ret_call_log[0]"
   ]
  },
  {
   "cell_type": "markdown",
   "metadata": {},
   "source": [
    "db_conn.phone.update({\"sid\":'SID47e25b8e4941478eb079cc3d9c661385'},{'$set':{'calls':ret_call_log}})"
   ]
  },
  {
   "cell_type": "code",
   "execution_count": 32,
   "metadata": {},
   "outputs": [
    {
     "data": {
      "text/plain": [
       "<METHOD(['channel_number=1', 'frame_type=1', 'method=<Queue.BindOk>'])>"
      ]
     },
     "execution_count": 32,
     "metadata": {},
     "output_type": "execute_result"
    }
   ],
   "source": [
    "# !/usr/bin/env python\n",
    "import pika\n",
    "import json\n",
    "credentials = pika.PlainCredentials('rabbitadmin','yulorei7')\n",
    "connection = pika.BlockingConnection(pika.ConnectionParameters(\n",
    "    '172.18.19.219',5672,'/',credentials))\n",
    "channel = connection.channel()\n",
    "\n",
    "exchange_topic1='report_in_topic_ex'\n",
    "exchange_topic2='report_out_topic_ex'\n",
    "queue_in_novip='rpt_in_novip'\n",
    "queue_in_vip='rpt_in_vip'\n",
    "queue_out_novip='rpt_out_novip'\n",
    "queue_out_vip='rpt_out_vip'\n",
    "DELAY_EXCHANGE = 'Dead_Letter_Ex'\n",
    "REPORT_A_IN_QUEUE='delayed_a_in_queue'\n",
    "REPORT_B_IN_QUEUE='delayed_b_in_queue'\n",
    "REPORT_C_IN_QUEUE='delayed_c_in_queue'\n",
    "\n",
    "exchange_rpt_a_in='delayed_a_in_ex'\n",
    "exchange_rpt_b_in='delayed_b_in_ex'\n",
    "exchange_rpt_c_in='delayed_c_in_ex'\n",
    "\n",
    "# 创建交换机\n",
    "channel.exchange_declare(exchange=exchange_topic1, exchange_type='topic', durable=True)\n",
    "channel.queue_declare(queue=queue_in_novip, durable=True)\n",
    "channel.queue_declare(queue=queue_in_vip, durable=True)\n",
    "channel.queue_bind(queue=queue_in_novip, exchange=exchange_topic1, routing_key=\"report.novip\")\n",
    "channel.queue_bind(queue=queue_in_vip, exchange=exchange_topic1, routing_key=\"report.vip\")\n",
    "\n",
    "channel.exchange_declare(exchange=exchange_topic2, exchange_type='topic', durable=True)\n",
    "channel.queue_declare(queue=queue_out_novip, durable=True)\n",
    "channel.queue_declare(queue=queue_out_vip, durable=True)\n",
    "channel.queue_bind(queue=queue_out_novip, exchange=exchange_topic2, routing_key=\"report.novip\")\n",
    "channel.queue_bind(queue=queue_out_vip, exchange=exchange_topic2, routing_key=\"report.vip\")\n",
    "\n",
    "arguments={'x-message-ttl' : 60*1000}\n",
    "arguments.update({'x-dead-letter-exchange': DELAY_EXCHANGE})\n",
    "channel.queue_declare(queue=REPORT_A_IN_QUEUE,durable=True,arguments=arguments)\n",
    "channel.exchange_declare(exchange=exchange_rpt_a_in, exchange_type='direct', durable=True)\n",
    "channel.queue_bind(queue=REPORT_A_IN_QUEUE, exchange=exchange_rpt_a_in,routing_key='report.novip')\n",
    "channel.queue_bind(queue=REPORT_A_IN_QUEUE, exchange=exchange_rpt_a_in,routing_key='report.vip')\n",
    "\n",
    "arguments={'x-message-ttl' : 180*1000}\n",
    "arguments.update({'x-dead-letter-exchange': DELAY_EXCHANGE})\n",
    "channel.queue_declare(queue=REPORT_B_IN_QUEUE,durable=True,arguments=arguments)\n",
    "channel.exchange_declare(exchange=exchange_rpt_b_in, exchange_type='direct', durable=True)\n",
    "channel.queue_bind(queue=REPORT_B_IN_QUEUE, exchange=exchange_rpt_b_in,routing_key='report.novip')\n",
    "channel.queue_bind(queue=REPORT_B_IN_QUEUE, exchange=exchange_rpt_b_in,routing_key='report.vip')\n",
    "\n",
    "arguments={'x-message-ttl' : 900*1000}\n",
    "arguments.update({'x-dead-letter-exchange': DELAY_EXCHANGE})\n",
    "channel.queue_declare(queue=REPORT_C_IN_QUEUE,durable=True,arguments=arguments)\n",
    "channel.exchange_declare(exchange=exchange_rpt_c_in, exchange_type='direct', durable=True)\n",
    "channel.queue_bind(queue=REPORT_C_IN_QUEUE, exchange=exchange_rpt_c_in,routing_key='report.novip')\n",
    "channel.queue_bind(queue=REPORT_C_IN_QUEUE, exchange=exchange_rpt_c_in,routing_key='report.vip')\n",
    "\n",
    "channel.exchange_declare(exchange=DELAY_EXCHANGE, exchange_type='direct', durable=True)\n",
    "channel.queue_bind(queue=queue_in_novip, exchange=DELAY_EXCHANGE, routing_key=\"report.novip\")\n",
    "channel.queue_bind(queue=queue_in_vip, exchange=DELAY_EXCHANGE, routing_key=\"report.vip\")\n"
   ]
  },
  {
   "cell_type": "code",
   "execution_count": 33,
   "metadata": {
    "collapsed": true
   },
   "outputs": [],
   "source": [
    "def push_msg():\n",
    "    post_data=json.dumps({'data':{\n",
    "                \"tel\": sid_info['tel'],\n",
    "                \"sid_info\":sid_info,\n",
    "                'phone':phone,\n",
    "            },\n",
    "            'config':{\n",
    "                \"is_vip\":0,  #0 novip,1 vip\n",
    "                \"need_itag\": 1,  # 1: 配置邦秒配; 2: 配置不输出邦秒配\n",
    "                \"need_blank\": 1,  # 1: 展示静默度（v3.1.1）；2: 展示静默列表（v3.0.0）；3: 展示静默详情（融宝通v3.2.1）\n",
    "                \"need_id\": 1,  # 1: 配置三要素，2: 不配置三要素\n",
    "                \"output_report\": '1',  # 1: 配置催收，2: 不配置催收\n",
    "                \"apikey\": \"cfdfbced6ebdffb444e8fa64ddfe5e64\",  # 三要素apikey\n",
    "                \"appsecret\": \"fe5bb9d7f39a6511bed8e44e92283b14b46839ad498f2c4bda4ea8205ca4f2c0\",  # 三要素appsecret\n",
    "            },'sid':'SID31bd4bddb7694835b0882924ecd8dd1c','retry_times':1})\n",
    "\n",
    "    # n RabbitMQ a message can never be sent directly to the queue, it always needs to go through an exchange.\n",
    "    channel.basic_publish(exchange=exchange_topic1,\n",
    "                          routing_key='report.novip',\n",
    "                          body=post_data,\n",
    "                          properties=pika.BasicProperties(\n",
    "                              delivery_mode=2,  # make message persistent   \n",
    "                          )\n",
    "                         )\n",
    "    print(\" [x] Sent 'Hello World!'\")\n"
   ]
  },
  {
   "cell_type": "code",
   "execution_count": 29,
   "metadata": {},
   "outputs": [
    {
     "name": "stdout",
     "output_type": "stream",
     "text": [
      " [x] Sent 'Hello World!'\n"
     ]
    }
   ],
   "source": [
    "push_msg()"
   ]
  },
  {
   "cell_type": "code",
   "execution_count": 34,
   "metadata": {},
   "outputs": [
    {
     "name": "stdout",
     "output_type": "stream",
     "text": [
      " [x] Sent 'Hello World!'\n",
      " [x] Sent 'Hello World!'\n",
      " [x] Sent 'Hello World!'\n",
      " [x] Sent 'Hello World!'\n",
      " [x] Sent 'Hello World!'\n"
     ]
    }
   ],
   "source": [
    "for i in range(5):\n",
    "    import time\n",
    "    push_msg()\n"
   ]
  },
  {
   "cell_type": "code",
   "execution_count": 13,
   "metadata": {
    "collapsed": true
   },
   "outputs": [],
   "source": [
    "connection.close()"
   ]
  },
  {
   "cell_type": "code",
   "execution_count": null,
   "metadata": {
    "collapsed": true
   },
   "outputs": [],
   "source": []
  }
 ],
 "metadata": {
  "kernelspec": {
   "display_name": "Python 3",
   "language": "python",
   "name": "python3"
  },
  "language_info": {
   "codemirror_mode": {
    "name": "ipython",
    "version": 3
   },
   "file_extension": ".py",
   "mimetype": "text/x-python",
   "name": "python",
   "nbconvert_exporter": "python",
   "pygments_lexer": "ipython3",
   "version": "3.6.3"
  }
 },
 "nbformat": 4,
 "nbformat_minor": 2
}
