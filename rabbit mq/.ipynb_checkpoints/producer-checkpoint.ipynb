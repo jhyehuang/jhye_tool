{
 "cells": [
  {
   "cell_type": "code",
<<<<<<< Updated upstream
   "execution_count": 5,
=======
   "execution_count": null,
   "metadata": {
    "collapsed": true
   },
   "outputs": [],
   "source": []
  },
  {
   "cell_type": "code",
   "execution_count": 40,
>>>>>>> Stashed changes
   "metadata": {},
   "outputs": [
    {
     "name": "stdout",
     "output_type": "stream",
     "text": [
      " [x] Sent 'Hello World!'\n"
     ]
    }
   ],
   "source": [
    "# !/usr/bin/env python\n",
    "import pika\n",
    "import json\n",
    "credentials = pika.PlainCredentials('rabbitadmin','yulorei7')\n",
    "connection = pika.BlockingConnection(pika.ConnectionParameters(\n",
    "    '172.18.19.219',5672,'/',credentials))\n",
    "channel = connection.channel()\n",
    "\n",
    "# 声明queue\n",
    "channel.queue_declare(queue='rpt_in_queue',durable=True)\n",
    "import json\n",
    "json_filename = ('../mongo/phone.json') \n",
    "_data=json.load(open(json_filename)) \n",
    "\n",
    "post_data=json.dumps({'data':{\n",
    "            \"tel\": \"\",\n",
    "            \"sid_info\":{\n",
    "                \"tel_info\": {\n",
    "                    \"province\": \"黑龙江\",\n",
    "                    \"city\": \"大庆\",\n",
    "                    \"telecom\": \"移动\"\n",
    "                },\n",
    "                \"user_info\": {\n",
    "                    \"user_name\": \"潘金生\",\n",
    "                    \"user_idcard\": \"440921198302064237\",\n",
    "                    \"user_province\": \"广东\",\n",
    "                    \"user_city\": \"东莞\",\n",
    "                    \"user_address\": \"长安镇沙头南a栋1001\"\n",
    "                },\n",
    "                \"emergency_contact\": [\n",
    "                    {\n",
    "                        \"contact_name\": \"邱立威\",\n",
    "                        \"contact_tel\": \"13580032642\",\n",
    "                        \"contact_relationship\": \"亲戚\",\n",
    "                        \"contact_priority\": \"1\"\n",
    "                    },\n",
    "                    {\n",
    "                        \"contact_name\": \"何洪海\",\n",
    "                        \"contact_tel\": \"13530934385\",\n",
    "                        \"contact_relationship\": \"同事\",\n",
    "                        \"contact_priority\": \"2\"\n",
    "                    }\n",
    "                ],\n",
    "                \"call_log_missing_month_list\": [],\n",
    "                \"call_log_possibly_missing_month_list\": [],\n",
    "                \"call_log_part_missing_month_list\": [],\n",
    "                \"phone_bill_missing_month_list\": [],\n",
    "                \"certification_result\":1,\n",
    "            },\n",
    "            'phone':{\n",
    "                \"info\": {},\n",
    "                \"calls\": [],\n",
    "                \"bills\": [],\n",
    "                \"smses\": [],\n",
    "                \"nets\": [],\n",
    "                \"recharges\": [],\n",
    "                \"packages\": [],\n",
    "                \"families\": []\n",
    "            },\n",
    "        },\n",
    "        'config':{\n",
    "            \"need_itag\": 1,  # 1: 配置邦秒配; 2: 配置不输出邦秒配\n",
    "            \"need_blank\": 3,  # 1: 展示静默度（v3.1.1）；2: 展示静默列表（v3.0.0）；3: 展示静默详情（融宝通v3.2.1）\n",
    "            \"need_id\": 1,  # 1: 配置三要素，2: 不配置三要素\n",
    "            \"output_report\": '1',  # 1: 配置催收，2: 不配置催收\n",
    "            \"apikey\": \"cfdfbced6ebdffb444e8fa64ddfe5e64\",  # 三要素apikey\n",
    "            \"appsecret\": \"fe5bb9d7f39a6511bed8e44e92283b14b46839ad498f2c4bda4ea8205ca4f2c0\",  # 三要素appsecret\n",
    "        },'sid':'SID5d57e209651742f387e0998916a3845e'})\n",
    "# n RabbitMQ a message can never be sent directly to the queue, it always needs to go through an exchange.\n",
    "channel.basic_publish(exchange='',\n",
    "                      routing_key='rpt_in_queue',\n",
    "                      body=post_data,\n",
    "                      properties=pika.BasicProperties(\n",
    "                          delivery_mode=2,  # make message persistent\n",
    "                      )\n",
    "                     )\n",
    "print(\" [x] Sent 'Hello World!'\")\n",
    "connection.close()"
   ]
  },
  {
   "cell_type": "code",
   "execution_count": null,
   "metadata": {},
   "outputs": [],
<<<<<<< Updated upstream
   "source": []
  },
  {
   "cell_type": "code",
   "execution_count": 1,
   "metadata": {},
   "outputs": [
    {
     "ename": "ModuleNotFoundError",
     "evalue": "No module named 'pika'",
     "output_type": "error",
     "traceback": [
      "\u001b[0;31m---------------------------------------------------------------------------\u001b[0m",
      "\u001b[0;31mModuleNotFoundError\u001b[0m                       Traceback (most recent call last)",
      "\u001b[0;32m<ipython-input-1-067de0355f9d>\u001b[0m in \u001b[0;36m<module>\u001b[0;34m()\u001b[0m\n\u001b[1;32m      1\u001b[0m \u001b[0;31m# !/usr/bin/env python\u001b[0m\u001b[0;34m\u001b[0m\u001b[0;34m\u001b[0m\u001b[0m\n\u001b[0;32m----> 2\u001b[0;31m \u001b[0;32mimport\u001b[0m \u001b[0mpika\u001b[0m\u001b[0;34m\u001b[0m\u001b[0m\n\u001b[0m\u001b[1;32m      3\u001b[0m \u001b[0;32mimport\u001b[0m \u001b[0mjson\u001b[0m\u001b[0;34m\u001b[0m\u001b[0m\n\u001b[1;32m      4\u001b[0m \u001b[0mcredentials\u001b[0m \u001b[0;34m=\u001b[0m \u001b[0mpika\u001b[0m\u001b[0;34m.\u001b[0m\u001b[0mPlainCredentials\u001b[0m\u001b[0;34m(\u001b[0m\u001b[0;34m'rabbitadmin'\u001b[0m\u001b[0;34m,\u001b[0m\u001b[0;34m'yulorei7'\u001b[0m\u001b[0;34m)\u001b[0m\u001b[0;34m\u001b[0m\u001b[0m\n\u001b[1;32m      5\u001b[0m connection = pika.BlockingConnection(pika.ConnectionParameters(\n",
      "\u001b[0;31mModuleNotFoundError\u001b[0m: No module named 'pika'"
     ]
    }
   ],
=======
>>>>>>> Stashed changes
   "source": [
    "# !/usr/bin/env python\n",
    "import pika\n",
    "import json\n",
    "credentials = pika.PlainCredentials('rabbitadmin','yulorei7')\n",
    "connection = pika.BlockingConnection(pika.ConnectionParameters(\n",
    "    '172.18.19.219',5672,'/',credentials))\n",
    "channel = connection.channel()\n",
    "\n",
    "exchange_topic1='report_in_topic_ex'\n",
    "exchange_topic2='report_out_topic_ex'\n",
    "queue_in_novip='rpt_in_novip'\n",
    "queue_in_vip='rpt_in_vip'\n",
    "queue_out_novip='rpt_out_novip'\n",
    "queue_out_vip='rpt_out_vip'\n",
    "DELAY_EXCHANGE = 'Dead_Letter_Ex'\n",
    "REPORT_A_IN_QUEUE='delayed_a_in_queue'\n",
    "REPORT_B_IN_QUEUE='delayed_b_in_queue'\n",
    "REPORT_C_IN_QUEUE='delayed_c_in_queue'\n",
    "\n",
    "# 创建交换机\n",
    "channel.exchange_declare(exchange=exchange_topic1, exchange_type='topic', durable=True)\n",
    "channel.queue_declare(queue=queue_in_novip, durable=True)\n",
    "channel.queue_declare(queue=queue_in_vip, durable=True)\n",
    "channel.queue_bind(queue=queue_in_novip, exchange=exchange_topic1, routing_key=\"report.novip\")\n",
    "channel.queue_bind(queue=queue_in_vip, exchange=exchange_topic1, routing_key=\"report.vip\")\n",
    "\n",
<<<<<<< Updated upstream
    "channel.exchange_declare(exchange=exchange_topic2, exchange_type='topic', durable=True)\n",
    "channel.queue_declare(queue=queue_out_novip, durable=True)\n",
    "channel.queue_declare(queue=queue_out_vip, durable=True)\n",
    "channel.queue_bind(queue=queue_out_novip, exchange=exchange_topic2, routing_key=\"report.novip\")\n",
    "channel.queue_bind(queue=queue_out_vip, exchange=exchange_topic2, routing_key=\"report.vip\")\n",
    "\n",
    "\n",
    "arguments={'x-message-ttl' : 60*1000}\n",
    "arguments.update({'x-dead-letter-exchange': DELAY_EXCHANGE})\n",
    "channel.queue_declare(queue=REPORT_A_IN_QUEUE,durable=True,arguments=arguments)\n",
    "\n",
    "arguments={'x-message-ttl' : 180*1000}\n",
    "arguments.update({'x-dead-letter-exchange': DELAY_EXCHANGE})\n",
    "channel.queue_declare(queue=REPORT_B_IN_QUEUE,durable=True,arguments=arguments)\n",
    "\n",
    "arguments={'x-message-ttl' : 900*1000}\n",
    "arguments.update({'x-dead-letter-exchange': DELAY_EXCHANGE})\n",
    "channel.queue_declare(queue=REPORT_C_IN_QUEUE,durable=True,arguments=arguments)\n",
    "\n",
    "channel.exchange_declare(exchange=DELAY_EXCHANGE, exchange_type='direct', durable=True)\n",
    "channel.queue_bind(queue=queue_in_novip, exchange=DELAY_EXCHANGE, routing_key=\"report.novip\")\n",
    "channel.queue_bind(queue=queue_in_vip, exchange=DELAY_EXCHANGE, routing_key=\"report.vip\")\n"
   ]
  },
  {
   "cell_type": "code",
   "execution_count": null,
   "metadata": {
    "collapsed": true
   },
   "outputs": [],
   "source": [
    "post_data=json.dumps({'data':'','cfg':{},'sid':'','retry_times':1})\n",
=======
    "# 声明queue\n",
    "#arguments={'x-message-ttl' : 900000}\n",
    "#channel.queue_declare(queue='delayed_c_in_queue',durable=True)\n",
    "post_data=json.dumps({'data':{\n",
    "            \"tel\": \"\",\n",
    "            \"sid_info\":{\n",
    "                \"tel_info\": {\n",
    "                    \"province\": \"黑龙江\",\n",
    "                    \"city\": \"大庆\",\n",
    "                    \"telecom\": \"移动\"\n",
    "                },\n",
    "                \"user_info\": {\n",
    "                    \"user_name\": \"潘金生\",\n",
    "                    \"user_idcard\": \"440921198302064237\",\n",
    "                    \"user_province\": \"广东\",\n",
    "                    \"user_city\": \"东莞\",\n",
    "                    \"user_address\": \"长安镇沙头南a栋1001\"\n",
    "                },\n",
    "                \"emergency_contact\": [\n",
    "                    {\n",
    "                        \"contact_name\": \"邱立威\",\n",
    "                        \"contact_tel\": \"13580032642\",\n",
    "                        \"contact_relationship\": \"亲戚\",\n",
    "                        \"contact_priority\": \"1\"\n",
    "                    },\n",
    "                    {\n",
    "                        \"contact_name\": \"何洪海\",\n",
    "                        \"contact_tel\": \"13530934385\",\n",
    "                        \"contact_relationship\": \"同事\",\n",
    "                        \"contact_priority\": \"2\"\n",
    "                    }\n",
    "                ],\n",
    "                \"call_log_missing_month_list\": [],\n",
    "                \"call_log_possibly_missing_month_list\": [],\n",
    "                \"call_log_part_missing_month_list\": [],\n",
    "                \"phone_bill_missing_month_list\": [],\n",
    "                \"certification_result\":1,\n",
    "            },\n",
    "            'phone':{\n",
    "                \"info\": {},\n",
    "                \"calls\": [],\n",
    "                \"bills\": [],\n",
    "                \"smses\": [],\n",
    "                \"nets\": [],\n",
    "                \"recharges\": [],\n",
    "                \"packages\": [],\n",
    "                \"families\": []\n",
    "            },\n",
    "        },\n",
    "        'config':{\n",
    "            \"need_itag\": 1,  # 1: 配置邦秒配; 2: 配置不输出邦秒配\n",
    "            \"need_blank\": 3,  # 1: 展示静默度（v3.1.1）；2: 展示静默列表（v3.0.0）；3: 展示静默详情（融宝通v3.2.1）\n",
    "            \"need_id\": 1,  # 1: 配置三要素，2: 不配置三要素\n",
    "            \"output_report\": '1',  # 1: 配置催收，2: 不配置催收\n",
    "            \"apikey\": \"cfdfbced6ebdffb444e8fa64ddfe5e64\",  # 三要素apikey\n",
    "            \"appsecret\": \"fe5bb9d7f39a6511bed8e44e92283b14b46839ad498f2c4bda4ea8205ca4f2c0\",  # 三要素appsecret\n",
    "        },'sid':'SID5d57e209651742f387e0998916a3845e','retry_times':1})\n",
>>>>>>> Stashed changes
    "\n",
    "# n RabbitMQ a message can never be sent directly to the queue, it always needs to go through an exchange.\n",
    "channel.basic_publish(exchange=exchangeName,\n",
    "                      routing_key='dlx',\n",
    "                      body=post_data,\n",
    "                      properties=pika.BasicProperties(\n",
    "                          delivery_mode=2,  # make message persistent   \n",
    "                    content_type='application/json',\n",
    "                    content_encoding='UTF-8',\n",
    "                    priority=0,\n",
    "                    expiration=\"30000\",\n",
    "                      )\n",
    "                     )\n",
    "print(\" [x] Sent 'Hello World!'\")\n",
    "connection.close()"
   ]
<<<<<<< Updated upstream
=======
  },
  {
   "cell_type": "code",
   "execution_count": 31,
   "metadata": {},
   "outputs": [
    {
     "name": "stdout",
     "output_type": "stream",
     "text": [
      " [x] Sent 'Hello World!'\n"
     ]
    }
   ],
   "source": [
    "# !/usr/bin/env python\n",
    "import pika\n",
    "import json\n",
    "import time\n",
    "credentials = pika.PlainCredentials('rabbitadmin','yulorei7')\n",
    "connection = pika.BlockingConnection(pika.ConnectionParameters(\n",
    "    '172.18.19.219',5672,'/',credentials))\n",
    "channel = connection.channel()\n",
    "\n",
    "# 声明queue\n",
    "channel.queue_declare(queue='rpt_out_queue',durable=True)\n",
    "import json\n",
    "json_filename = ('../mongo/phone.json') \n",
    "_data=json.load(open(json_filename)) \n",
    "\n",
    "post_data=json.dumps({'errCode':0,'err_Msg':'success','data':{'form_data':_data,'config':{},\n",
    "                                                              'sid':'SID5d57e209651742f387e0998916a3845e',\n",
    "                                                              'report':{'sid':'SID5d57e209651742f387e0998916a3845e','created_at':int(time.time())},\n",
    "                                                              'call_itags':{},\n",
    "                                                              \n",
    "                                                              'retry_times':1}})\n",
    "# n RabbitMQ a message can never be sent directly to the queue, it always needs to go through an exchange.\n",
    "channel.basic_publish(exchange='',\n",
    "                      routing_key='rpt_out_queue',\n",
    "                      body=post_data,\n",
    "                      properties=pika.BasicProperties(\n",
    "                          delivery_mode=2,  # make message persistent\n",
    "                      )\n",
    "                     )\n",
    "print(\" [x] Sent 'Hello World!'\")\n",
    "connection.close()"
   ]
  },
  {
   "cell_type": "code",
   "execution_count": 17,
   "metadata": {},
   "outputs": [
    {
     "data": {
      "text/plain": [
       "<METHOD(['channel_number=1', 'frame_type=1', 'method=<Queue.BindOk>'])>"
      ]
     },
     "execution_count": 17,
     "metadata": {},
     "output_type": "execute_result"
    }
   ],
   "source": [
    "# !/usr/bin/env python\n",
    "import pika\n",
    "import json\n",
    "credentials = pika.PlainCredentials('rabbitadmin','yulorei7')\n",
    "connection = pika.BlockingConnection(pika.ConnectionParameters(\n",
    "    '172.18.19.219',5672,'/',credentials))\n",
    "channel = connection.channel()\n",
    "\n",
    "exchange_topic1='report_in_topic_ex'\n",
    "exchange_topic2='report_out_topic_ex'\n",
    "queue_in_novip='rpt_in_novip'\n",
    "queue_in_vip='rpt_in_vip'\n",
    "queue_out_novip='rpt_out_novip'\n",
    "queue_out_vip='rpt_out_vip'\n",
    "DELAY_EXCHANGE = 'Dead_Letter_Ex'\n",
    "REPORT_A_IN_QUEUE='delayed_a_in_queue'\n",
    "REPORT_B_IN_QUEUE='delayed_b_in_queue'\n",
    "REPORT_C_IN_QUEUE='delayed_c_in_queue'\n",
    "\n",
    "exchange_rpt_a_in='delayed_a_in_ex'\n",
    "exchange_rpt_b_in='delayed_b_in_ex'\n",
    "exchange_rpt_c_in='delayed_c_in_ex'\n",
    "\n",
    "# 创建交换机\n",
    "channel.exchange_declare(exchange=exchange_topic1, exchange_type='topic', durable=True)\n",
    "channel.queue_declare(queue=queue_in_novip, durable=True)\n",
    "channel.queue_declare(queue=queue_in_vip, durable=True)\n",
    "channel.queue_bind(queue=queue_in_novip, exchange=exchange_topic1, routing_key=\"report.novip\")\n",
    "channel.queue_bind(queue=queue_in_vip, exchange=exchange_topic1, routing_key=\"report.vip\")\n",
    "\n",
    "channel.exchange_declare(exchange=exchange_topic2, exchange_type='topic', durable=True)\n",
    "channel.queue_declare(queue=queue_out_novip, durable=True)\n",
    "channel.queue_declare(queue=queue_out_vip, durable=True)\n",
    "channel.queue_bind(queue=queue_out_novip, exchange=exchange_topic2, routing_key=\"report.novip\")\n",
    "channel.queue_bind(queue=queue_out_vip, exchange=exchange_topic2, routing_key=\"report.vip\")\n",
    "\n",
    "arguments={'x-message-ttl' : 60*1000}\n",
    "arguments.update({'x-dead-letter-exchange': DELAY_EXCHANGE})\n",
    "channel.queue_declare(queue=REPORT_A_IN_QUEUE,durable=True,arguments=arguments)\n",
    "channel.exchange_declare(exchange=exchange_rpt_a_in, exchange_type='direct', durable=True)\n",
    "channel.queue_bind(queue=REPORT_A_IN_QUEUE, exchange=exchange_rpt_a_in,routing_key='report.novip')\n",
    "channel.queue_bind(queue=REPORT_A_IN_QUEUE, exchange=exchange_rpt_a_in,routing_key='report.vip')\n",
    "\n",
    "arguments={'x-message-ttl' : 180*1000}\n",
    "arguments.update({'x-dead-letter-exchange': DELAY_EXCHANGE})\n",
    "channel.queue_declare(queue=REPORT_B_IN_QUEUE,durable=True,arguments=arguments)\n",
    "channel.exchange_declare(exchange=exchange_rpt_b_in, exchange_type='direct', durable=True)\n",
    "channel.queue_bind(queue=REPORT_B_IN_QUEUE, exchange=exchange_rpt_b_in,routing_key='report.novip')\n",
    "channel.queue_bind(queue=REPORT_B_IN_QUEUE, exchange=exchange_rpt_b_in,routing_key='report.vip')\n",
    "\n",
    "arguments={'x-message-ttl' : 900*1000}\n",
    "arguments.update({'x-dead-letter-exchange': DELAY_EXCHANGE})\n",
    "channel.queue_declare(queue=REPORT_C_IN_QUEUE,durable=True,arguments=arguments)\n",
    "channel.exchange_declare(exchange=exchange_rpt_c_in, exchange_type='direct', durable=True)\n",
    "channel.queue_bind(queue=REPORT_C_IN_QUEUE, exchange=exchange_rpt_c_in,routing_key='report.novip')\n",
    "channel.queue_bind(queue=REPORT_C_IN_QUEUE, exchange=exchange_rpt_c_in,routing_key='report.vip')\n",
    "\n",
    "channel.exchange_declare(exchange=DELAY_EXCHANGE, exchange_type='direct', durable=True)\n",
    "channel.queue_bind(queue=queue_in_novip, exchange=DELAY_EXCHANGE, routing_key=\"report.novip\")\n",
    "channel.queue_bind(queue=queue_in_vip, exchange=DELAY_EXCHANGE, routing_key=\"report.vip\")\n"
   ]
  },
  {
   "cell_type": "code",
   "execution_count": 18,
   "metadata": {},
   "outputs": [
    {
     "name": "stdout",
     "output_type": "stream",
     "text": [
      " [x] Sent 'Hello World!'\n"
     ]
    }
   ],
   "source": [
    "post_data=json.dumps({'data':{\n",
    "            \"tel\": \"\",\n",
    "            \"sid_info\":{\n",
    "                \"tel_info\": {\n",
    "                    \"province\": \"黑龙江\",\n",
    "                    \"city\": \"大庆\",\n",
    "                    \"telecom\": \"移动\"\n",
    "                },\n",
    "                \"user_info\": {\n",
    "                    \"user_name\": \"潘金生\",\n",
    "                    \"user_idcard\": \"440921198302064237\",\n",
    "                    \"user_province\": \"广东\",\n",
    "                    \"user_city\": \"东莞\",\n",
    "                    \"user_address\": \"长安镇沙头南a栋1001\"\n",
    "                },\n",
    "                \"emergency_contact\": [\n",
    "                    {\n",
    "                        \"contact_name\": \"邱立威\",\n",
    "                        \"contact_tel\": \"13580032642\",\n",
    "                        \"contact_relationship\": \"亲戚\",\n",
    "                        \"contact_priority\": \"1\"\n",
    "                    },\n",
    "                    {\n",
    "                        \"contact_name\": \"何洪海\",\n",
    "                        \"contact_tel\": \"13530934385\",\n",
    "                        \"contact_relationship\": \"同事\",\n",
    "                        \"contact_priority\": \"2\"\n",
    "                    }\n",
    "                ],\n",
    "                \"call_log_missing_month_list\": [],\n",
    "                \"call_log_possibly_missing_month_list\": [],\n",
    "                \"call_log_part_missing_month_list\": [],\n",
    "                \"phone_bill_missing_month_list\": [],\n",
    "                \"certification_result\":1,\n",
    "            },\n",
    "            'phone':{\n",
    "                \"info\": {},\n",
    "                \"calls\": [],\n",
    "                \"bills\": [],\n",
    "                \"smses\": [],\n",
    "                \"nets\": [],\n",
    "                \"recharges\": [],\n",
    "                \"packages\": [],\n",
    "                \"families\": []\n",
    "            },\n",
    "        },\n",
    "        'config':{\n",
    "            \"is_vip\":1,  #0 novip,1 vip\n",
    "            \"need_itag\": 1,  # 1: 配置邦秒配; 2: 配置不输出邦秒配\n",
    "            \"need_blank\": 3,  # 1: 展示静默度（v3.1.1）；2: 展示静默列表（v3.0.0）；3: 展示静默详情（融宝通v3.2.1）\n",
    "            \"need_id\": 1,  # 1: 配置三要素，2: 不配置三要素\n",
    "            \"output_report\": '1',  # 1: 配置催收，2: 不配置催收\n",
    "            \"apikey\": \"cfdfbced6ebdffb444e8fa64ddfe5e64\",  # 三要素apikey\n",
    "            \"appsecret\": \"fe5bb9d7f39a6511bed8e44e92283b14b46839ad498f2c4bda4ea8205ca4f2c0\",  # 三要素appsecret\n",
    "        },'sid':'SID5d57e209651742f387e0998916a3845e','retry_times':1})\n",
    "\n",
    "# n RabbitMQ a message can never be sent directly to the queue, it always needs to go through an exchange.\n",
    "channel.basic_publish(exchange=exchange_topic1,\n",
    "                      routing_key='report.vip',\n",
    "                      body=post_data,\n",
    "                      properties=pika.BasicProperties(\n",
    "                          delivery_mode=2,  # make message persistent   \n",
    "                      )\n",
    "                     )\n",
    "print(\" [x] Sent 'Hello World!'\")\n"
   ]
  },
  {
   "cell_type": "code",
   "execution_count": 19,
   "metadata": {},
   "outputs": [
    {
     "name": "stdout",
     "output_type": "stream",
     "text": [
      " [x] Sent 'Hello World!'\n"
     ]
    }
   ],
   "source": [
    "channel.basic_publish(exchange=exchange_rpt_a_in,\n",
    "                      routing_key='report.novip',\n",
    "                      body=post_data,\n",
    "                      properties=pika.BasicProperties(\n",
    "                          delivery_mode=2,  # make message persistent   \n",
    "                      )\n",
    "                     )\n",
    "print(\" [x] Sent 'Hello World!'\")"
   ]
  },
  {
   "cell_type": "code",
   "execution_count": 16,
   "metadata": {},
   "outputs": [
    {
     "ename": "ConnectionClosed",
     "evalue": "",
     "output_type": "error",
     "traceback": [
      "\u001b[1;31m---------------------------------------------------------------------------\u001b[0m",
      "\u001b[1;31mConnectionClosed\u001b[0m                          Traceback (most recent call last)",
      "\u001b[1;32m<ipython-input-16-d4d86ed6fcd0>\u001b[0m in \u001b[0;36m<module>\u001b[1;34m()\u001b[0m\n\u001b[1;32m----> 1\u001b[1;33m \u001b[0mconnection\u001b[0m\u001b[1;33m.\u001b[0m\u001b[0mclose\u001b[0m\u001b[1;33m(\u001b[0m\u001b[1;33m)\u001b[0m\u001b[1;33m\u001b[0m\u001b[0m\n\u001b[0m",
      "\u001b[1;32mC:\\ProgramData\\Anaconda3\\lib\\site-packages\\pika\\adapters\\blocking_connection.py\u001b[0m in \u001b[0;36mclose\u001b[1;34m(self, reply_code, reply_text)\u001b[0m\n\u001b[0;32m    728\u001b[0m         \u001b[0mself\u001b[0m\u001b[1;33m.\u001b[0m\u001b[0m_impl\u001b[0m\u001b[1;33m.\u001b[0m\u001b[0mclose\u001b[0m\u001b[1;33m(\u001b[0m\u001b[0mreply_code\u001b[0m\u001b[1;33m,\u001b[0m \u001b[0mreply_text\u001b[0m\u001b[1;33m)\u001b[0m\u001b[1;33m\u001b[0m\u001b[0m\n\u001b[0;32m    729\u001b[0m \u001b[1;33m\u001b[0m\u001b[0m\n\u001b[1;32m--> 730\u001b[1;33m         \u001b[0mself\u001b[0m\u001b[1;33m.\u001b[0m\u001b[0m_flush_output\u001b[0m\u001b[1;33m(\u001b[0m\u001b[0mself\u001b[0m\u001b[1;33m.\u001b[0m\u001b[0m_closed_result\u001b[0m\u001b[1;33m.\u001b[0m\u001b[0mis_ready\u001b[0m\u001b[1;33m)\u001b[0m\u001b[1;33m\u001b[0m\u001b[0m\n\u001b[0m\u001b[0;32m    731\u001b[0m \u001b[1;33m\u001b[0m\u001b[0m\n\u001b[0;32m    732\u001b[0m     \u001b[1;32mdef\u001b[0m \u001b[0mprocess_data_events\u001b[0m\u001b[1;33m(\u001b[0m\u001b[0mself\u001b[0m\u001b[1;33m,\u001b[0m \u001b[0mtime_limit\u001b[0m\u001b[1;33m=\u001b[0m\u001b[1;36m0\u001b[0m\u001b[1;33m)\u001b[0m\u001b[1;33m:\u001b[0m\u001b[1;33m\u001b[0m\u001b[0m\n",
      "\u001b[1;32mC:\\ProgramData\\Anaconda3\\lib\\site-packages\\pika\\adapters\\blocking_connection.py\u001b[0m in \u001b[0;36m_flush_output\u001b[1;34m(self, *waiters)\u001b[0m\n\u001b[0;32m    441\u001b[0m         \"\"\"\n\u001b[0;32m    442\u001b[0m         \u001b[1;32mif\u001b[0m \u001b[0mself\u001b[0m\u001b[1;33m.\u001b[0m\u001b[0mis_closed\u001b[0m\u001b[1;33m:\u001b[0m\u001b[1;33m\u001b[0m\u001b[0m\n\u001b[1;32m--> 443\u001b[1;33m             \u001b[1;32mraise\u001b[0m \u001b[0mexceptions\u001b[0m\u001b[1;33m.\u001b[0m\u001b[0mConnectionClosed\u001b[0m\u001b[1;33m(\u001b[0m\u001b[1;33m)\u001b[0m\u001b[1;33m\u001b[0m\u001b[0m\n\u001b[0m\u001b[0;32m    444\u001b[0m \u001b[1;33m\u001b[0m\u001b[0m\n\u001b[0;32m    445\u001b[0m         \u001b[1;31m# Conditions for terminating the processing loop:\u001b[0m\u001b[1;33m\u001b[0m\u001b[1;33m\u001b[0m\u001b[0m\n",
      "\u001b[1;31mConnectionClosed\u001b[0m: "
     ]
    }
   ],
   "source": [
    "connection.close()"
   ]
  },
  {
   "cell_type": "code",
   "execution_count": null,
   "metadata": {
    "collapsed": true
   },
   "outputs": [],
   "source": []
>>>>>>> Stashed changes
  }
 ],
 "metadata": {
  "kernelspec": {
   "display_name": "Python 3",
   "language": "python",
   "name": "python3"
  },
  "language_info": {
   "codemirror_mode": {
    "name": "ipython",
    "version": 3
   },
   "file_extension": ".py",
   "mimetype": "text/x-python",
   "name": "python",
   "nbconvert_exporter": "python",
   "pygments_lexer": "ipython3",
   "version": "3.6.4"
  }
 },
 "nbformat": 4,
 "nbformat_minor": 2
}
