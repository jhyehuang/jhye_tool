{
 "cells": [
  {
   "cell_type": "code",
   "execution_count": 1,
   "metadata": {
    "collapsed": true
   },
   "outputs": [],
   "source": [
    "import pandas as pd\n",
    "import numpy as np\n",
    "from pyecharts import Bar,configure\n",
    "configure(output_image='svg')"
   ]
  },
  {
   "cell_type": "markdown",
   "metadata": {},
   "source": [
    "# 爬虫代理测试结果分析"
   ]
  },
  {
   "cell_type": "markdown",
   "metadata": {},
   "source": [
    "## 一、西刺免费代理IP\n",
    "域名:http://www.xicidaili.com/"
   ]
  },
  {
   "cell_type": "markdown",
   "metadata": {},
   "source": [
    "### 测试方案\n",
    "#### 1、使用代理池程序获得当前有效ip10个\n",
    "#### 2、每个ip持续请求2400次，每秒执行2次请求 www.baidu.com 查询，耗时大约为20分钟\n",
    "#### 3、分析每个ip失败率\n",
    "#### 4、分析总失败率\n"
   ]
  },
  {
   "cell_type": "code",
   "execution_count": 2,
   "metadata": {
    "collapsed": true
   },
   "outputs": [],
   "source": [
    "pd_xicidaili=pd.read_csv('Z:/spyproject/IPProxyPool/xicidaili.csv')"
   ]
  },
  {
   "cell_type": "code",
   "execution_count": 3,
   "metadata": {},
   "outputs": [
    {
     "data": {
      "text/html": [
       "<div>\n",
       "<style>\n",
       "    .dataframe thead tr:only-child th {\n",
       "        text-align: right;\n",
       "    }\n",
       "\n",
       "    .dataframe thead th {\n",
       "        text-align: left;\n",
       "    }\n",
       "\n",
       "    .dataframe tbody tr th {\n",
       "        vertical-align: top;\n",
       "    }\n",
       "</style>\n",
       "<table border=\"1\" class=\"dataframe\">\n",
       "  <thead>\n",
       "    <tr style=\"text-align: right;\">\n",
       "      <th></th>\n",
       "      <th>proxies_http</th>\n",
       "      <th>proxies_https</th>\n",
       "      <th>status_code</th>\n",
       "      <th>url</th>\n",
       "    </tr>\n",
       "  </thead>\n",
       "  <tbody>\n",
       "    <tr>\n",
       "      <th>0</th>\n",
       "      <td>http://125.70.13.77:8080</td>\n",
       "      <td>http://125.70.13.77:8080</td>\n",
       "      <td>200</td>\n",
       "      <td>https://www.baidu.com/s?wd=just do it!</td>\n",
       "    </tr>\n",
       "    <tr>\n",
       "      <th>1</th>\n",
       "      <td>http://125.70.13.77:8080</td>\n",
       "      <td>http://125.70.13.77:8080</td>\n",
       "      <td>200</td>\n",
       "      <td>https://www.baidu.com/s?wd=just do it!</td>\n",
       "    </tr>\n",
       "  </tbody>\n",
       "</table>\n",
       "</div>"
      ],
      "text/plain": [
       "               proxies_http             proxies_https  status_code  \\\n",
       "0  http://125.70.13.77:8080  http://125.70.13.77:8080          200   \n",
       "1  http://125.70.13.77:8080  http://125.70.13.77:8080          200   \n",
       "\n",
       "                                      url  \n",
       "0  https://www.baidu.com/s?wd=just do it!  \n",
       "1  https://www.baidu.com/s?wd=just do it!  "
      ]
     },
     "execution_count": 3,
     "metadata": {},
     "output_type": "execute_result"
    }
   ],
   "source": [
    "pd_xicidaili.head(2)"
   ]
  },
  {
   "cell_type": "markdown",
   "metadata": {},
   "source": [
    "## 各代理请求成功失败情况\n",
    "### 1、200为网站正常返回\n",
    "### 2、9999 为代理异常，网路不通"
   ]
  },
  {
   "cell_type": "code",
   "execution_count": 4,
   "metadata": {
    "scrolled": true
   },
   "outputs": [
    {
     "data": {
      "text/plain": [
       "proxies_http                 status_code\n",
       "http://114.119.116.92:61066  200             666\n",
       "                             9999           1734\n",
       "http://116.55.93.130:8118    200             555\n",
       "                             9999           1845\n",
       "http://117.85.217.229:8118   200             601\n",
       "                             9999           1799\n",
       "http://118.190.95.35:9001    200              84\n",
       "                             9999           2316\n",
       "http://120.77.249.46:8080    200             423\n",
       "                             9999           1977\n",
       "http://124.235.181.175:80    200             398\n",
       "                             9999           2002\n",
       "http://125.70.13.77:8080     200            2400\n",
       "http://175.148.78.174:1133   200             239\n",
       "                             9999           2161\n",
       "http://222.170.0.102:53281   200             444\n",
       "                             9999           1956\n",
       "http://61.138.33.20:808      200             239\n",
       "                             9999           2161\n",
       "Name: url, dtype: int64"
      ]
     },
     "execution_count": 4,
     "metadata": {},
     "output_type": "execute_result"
    }
   ],
   "source": [
    "gy_pd_xicidaili=pd_xicidaili.groupby(['proxies_http','status_code'])['url'].count()\n",
    "gy_pd_xicidaili"
   ]
  },
  {
   "cell_type": "code",
   "execution_count": 5,
   "metadata": {
    "collapsed": true
   },
   "outputs": [],
   "source": [
    "proxies_ret=[]\n",
    "for (proxies_http,status_code),code_count in gy_pd_xicidaili.items():\n",
    "    ret={'proxies_http':proxies_http,'status_code':status_code,'code_count':code_count}\n",
    "    proxies_ret.append(ret)\n",
    "pd_proxies_ret=pd.DataFrame(x for x in proxies_ret)\n",
    "pd_proxies_ret['req_pr']=pd_proxies_ret['code_count']/2400"
   ]
  },
  {
   "cell_type": "code",
   "execution_count": 6,
   "metadata": {},
   "outputs": [
    {
     "data": {
      "text/html": [
       "<div>\n",
       "<style>\n",
       "    .dataframe thead tr:only-child th {\n",
       "        text-align: right;\n",
       "    }\n",
       "\n",
       "    .dataframe thead th {\n",
       "        text-align: left;\n",
       "    }\n",
       "\n",
       "    .dataframe tbody tr th {\n",
       "        vertical-align: top;\n",
       "    }\n",
       "</style>\n",
       "<table border=\"1\" class=\"dataframe\">\n",
       "  <thead>\n",
       "    <tr style=\"text-align: right;\">\n",
       "      <th></th>\n",
       "      <th>code_count</th>\n",
       "      <th>proxies_http</th>\n",
       "      <th>status_code</th>\n",
       "      <th>req_pr</th>\n",
       "    </tr>\n",
       "  </thead>\n",
       "  <tbody>\n",
       "    <tr>\n",
       "      <th>0</th>\n",
       "      <td>666</td>\n",
       "      <td>http://114.119.116.92:61066</td>\n",
       "      <td>200</td>\n",
       "      <td>0.277500</td>\n",
       "    </tr>\n",
       "    <tr>\n",
       "      <th>1</th>\n",
       "      <td>1734</td>\n",
       "      <td>http://114.119.116.92:61066</td>\n",
       "      <td>9999</td>\n",
       "      <td>0.722500</td>\n",
       "    </tr>\n",
       "    <tr>\n",
       "      <th>2</th>\n",
       "      <td>555</td>\n",
       "      <td>http://116.55.93.130:8118</td>\n",
       "      <td>200</td>\n",
       "      <td>0.231250</td>\n",
       "    </tr>\n",
       "    <tr>\n",
       "      <th>3</th>\n",
       "      <td>1845</td>\n",
       "      <td>http://116.55.93.130:8118</td>\n",
       "      <td>9999</td>\n",
       "      <td>0.768750</td>\n",
       "    </tr>\n",
       "    <tr>\n",
       "      <th>4</th>\n",
       "      <td>601</td>\n",
       "      <td>http://117.85.217.229:8118</td>\n",
       "      <td>200</td>\n",
       "      <td>0.250417</td>\n",
       "    </tr>\n",
       "    <tr>\n",
       "      <th>5</th>\n",
       "      <td>1799</td>\n",
       "      <td>http://117.85.217.229:8118</td>\n",
       "      <td>9999</td>\n",
       "      <td>0.749583</td>\n",
       "    </tr>\n",
       "    <tr>\n",
       "      <th>6</th>\n",
       "      <td>84</td>\n",
       "      <td>http://118.190.95.35:9001</td>\n",
       "      <td>200</td>\n",
       "      <td>0.035000</td>\n",
       "    </tr>\n",
       "    <tr>\n",
       "      <th>7</th>\n",
       "      <td>2316</td>\n",
       "      <td>http://118.190.95.35:9001</td>\n",
       "      <td>9999</td>\n",
       "      <td>0.965000</td>\n",
       "    </tr>\n",
       "    <tr>\n",
       "      <th>8</th>\n",
       "      <td>423</td>\n",
       "      <td>http://120.77.249.46:8080</td>\n",
       "      <td>200</td>\n",
       "      <td>0.176250</td>\n",
       "    </tr>\n",
       "    <tr>\n",
       "      <th>9</th>\n",
       "      <td>1977</td>\n",
       "      <td>http://120.77.249.46:8080</td>\n",
       "      <td>9999</td>\n",
       "      <td>0.823750</td>\n",
       "    </tr>\n",
       "    <tr>\n",
       "      <th>10</th>\n",
       "      <td>398</td>\n",
       "      <td>http://124.235.181.175:80</td>\n",
       "      <td>200</td>\n",
       "      <td>0.165833</td>\n",
       "    </tr>\n",
       "    <tr>\n",
       "      <th>11</th>\n",
       "      <td>2002</td>\n",
       "      <td>http://124.235.181.175:80</td>\n",
       "      <td>9999</td>\n",
       "      <td>0.834167</td>\n",
       "    </tr>\n",
       "    <tr>\n",
       "      <th>12</th>\n",
       "      <td>2400</td>\n",
       "      <td>http://125.70.13.77:8080</td>\n",
       "      <td>200</td>\n",
       "      <td>1.000000</td>\n",
       "    </tr>\n",
       "    <tr>\n",
       "      <th>13</th>\n",
       "      <td>239</td>\n",
       "      <td>http://175.148.78.174:1133</td>\n",
       "      <td>200</td>\n",
       "      <td>0.099583</td>\n",
       "    </tr>\n",
       "    <tr>\n",
       "      <th>14</th>\n",
       "      <td>2161</td>\n",
       "      <td>http://175.148.78.174:1133</td>\n",
       "      <td>9999</td>\n",
       "      <td>0.900417</td>\n",
       "    </tr>\n",
       "    <tr>\n",
       "      <th>15</th>\n",
       "      <td>444</td>\n",
       "      <td>http://222.170.0.102:53281</td>\n",
       "      <td>200</td>\n",
       "      <td>0.185000</td>\n",
       "    </tr>\n",
       "    <tr>\n",
       "      <th>16</th>\n",
       "      <td>1956</td>\n",
       "      <td>http://222.170.0.102:53281</td>\n",
       "      <td>9999</td>\n",
       "      <td>0.815000</td>\n",
       "    </tr>\n",
       "    <tr>\n",
       "      <th>17</th>\n",
       "      <td>239</td>\n",
       "      <td>http://61.138.33.20:808</td>\n",
       "      <td>200</td>\n",
       "      <td>0.099583</td>\n",
       "    </tr>\n",
       "    <tr>\n",
       "      <th>18</th>\n",
       "      <td>2161</td>\n",
       "      <td>http://61.138.33.20:808</td>\n",
       "      <td>9999</td>\n",
       "      <td>0.900417</td>\n",
       "    </tr>\n",
       "  </tbody>\n",
       "</table>\n",
       "</div>"
      ],
      "text/plain": [
       "    code_count                 proxies_http  status_code    req_pr\n",
       "0          666  http://114.119.116.92:61066          200  0.277500\n",
       "1         1734  http://114.119.116.92:61066         9999  0.722500\n",
       "2          555    http://116.55.93.130:8118          200  0.231250\n",
       "3         1845    http://116.55.93.130:8118         9999  0.768750\n",
       "4          601   http://117.85.217.229:8118          200  0.250417\n",
       "5         1799   http://117.85.217.229:8118         9999  0.749583\n",
       "6           84    http://118.190.95.35:9001          200  0.035000\n",
       "7         2316    http://118.190.95.35:9001         9999  0.965000\n",
       "8          423    http://120.77.249.46:8080          200  0.176250\n",
       "9         1977    http://120.77.249.46:8080         9999  0.823750\n",
       "10         398    http://124.235.181.175:80          200  0.165833\n",
       "11        2002    http://124.235.181.175:80         9999  0.834167\n",
       "12        2400     http://125.70.13.77:8080          200  1.000000\n",
       "13         239   http://175.148.78.174:1133          200  0.099583\n",
       "14        2161   http://175.148.78.174:1133         9999  0.900417\n",
       "15         444   http://222.170.0.102:53281          200  0.185000\n",
       "16        1956   http://222.170.0.102:53281         9999  0.815000\n",
       "17         239      http://61.138.33.20:808          200  0.099583\n",
       "18        2161      http://61.138.33.20:808         9999  0.900417"
      ]
     },
     "execution_count": 6,
     "metadata": {},
     "output_type": "execute_result"
    }
   ],
   "source": [
    "pd_proxies_ret"
   ]
  },
  {
   "cell_type": "code",
   "execution_count": 7,
   "metadata": {
    "collapsed": true
   },
   "outputs": [],
   "source": [
    "def pri_tu(data):\n",
    "    bar= Bar('data_anly','Theme',renderer ='svg')\n",
    "    str1=data.proxies_http.values.tolist()\n",
    "    for a  in str1:\n",
    "        bar.add(a,[a],data.loc[data.proxies_http.values==a,'req_pr'].values.tolist(),is_more_utils = True,is_smooth=True)\n",
    "    bar.add('all_sucess_pr',['all_sucess_pr'],[sum(data.code_count)/24000],is_more_utils = True,is_smooth=True)\n",
    "    return bar"
   ]
  },
  {
   "cell_type": "markdown",
   "metadata": {},
   "source": [
    "## 各代理成功率情况以及总成功率情况"
   ]
  },
  {
   "cell_type": "code",
   "execution_count": 8,
   "metadata": {},
   "outputs": [
    {
     "name": "stdout",
     "output_type": "stream",
     "text": [
      "phantomjs version: 2.1.1\r\n",
      "\n"
     ]
    },
    {
     "data": {
      "image/svg+xml": [
       "<svg xmlns=\"http://www.w3.org/2000/svg\" version=\"1.1\" baseProfile=\"full\" width=\"800\" height=\"400\" style=\" left: 0px; top: 0px;\"><path d=\"M 80 340.5 L 720 340.5\" fill=\"none\" stroke=\"#ccc\" stroke-width=\"1\" paint-order=\"fill\" stroke-opacity=\"1\" stroke-dasharray=\"\" stroke-linecap=\"butt\" stroke-linejoin=\"miter\" stroke-miterlimit=\"10\" clip-path=\"none\"></path><path d=\"M 80 284.5 L 720 284.5\" fill=\"none\" stroke=\"#ccc\" stroke-width=\"1\" paint-order=\"fill\" stroke-opacity=\"1\" stroke-dasharray=\"\" stroke-linecap=\"butt\" stroke-linejoin=\"miter\" stroke-miterlimit=\"10\" clip-path=\"none\"></path><path d=\"M 80 228.5 L 720 228.5\" fill=\"none\" stroke=\"#ccc\" stroke-width=\"1\" paint-order=\"fill\" stroke-opacity=\"1\" stroke-dasharray=\"\" stroke-linecap=\"butt\" stroke-linejoin=\"miter\" stroke-miterlimit=\"10\" clip-path=\"none\"></path><path d=\"M 80 172.5 L 720 172.5\" fill=\"none\" stroke=\"#ccc\" stroke-width=\"1\" paint-order=\"fill\" stroke-opacity=\"1\" stroke-dasharray=\"\" stroke-linecap=\"butt\" stroke-linejoin=\"miter\" stroke-miterlimit=\"10\" clip-path=\"none\"></path><path d=\"M 80 116.5 L 720 116.5\" fill=\"none\" stroke=\"#ccc\" stroke-width=\"1\" paint-order=\"fill\" stroke-opacity=\"1\" stroke-dasharray=\"\" stroke-linecap=\"butt\" stroke-linejoin=\"miter\" stroke-miterlimit=\"10\" clip-path=\"none\"></path><path d=\"M 80 60.5 L 720 60.5\" fill=\"none\" stroke=\"#ccc\" stroke-width=\"1\" paint-order=\"fill\" stroke-opacity=\"1\" stroke-dasharray=\"\" stroke-linecap=\"butt\" stroke-linejoin=\"miter\" stroke-miterlimit=\"10\" clip-path=\"none\"></path><path d=\"M 80.5 340 L 80.5 60\" fill=\"none\" stroke=\"#333\" stroke-width=\"1\" paint-order=\"fill\" stroke-opacity=\"1\" stroke-dasharray=\"\" stroke-linecap=\"round\" stroke-linejoin=\"miter\" stroke-miterlimit=\"10\" clip-path=\"none\"></path><path d=\"M 80 340.5 L 720 340.5\" fill=\"none\" stroke=\"#333\" stroke-width=\"1\" paint-order=\"fill\" stroke-opacity=\"1\" stroke-dasharray=\"\" stroke-linecap=\"round\" stroke-linejoin=\"miter\" stroke-miterlimit=\"10\" clip-path=\"none\"></path><path d=\"M 80 340.5 L 75 340.5\" fill=\"none\" stroke=\"#333\" stroke-width=\"1\" paint-order=\"fill\" stroke-opacity=\"1\" stroke-dasharray=\"\" stroke-linecap=\"butt\" stroke-linejoin=\"miter\" stroke-miterlimit=\"10\" clip-path=\"none\"></path><path d=\"M 80 284.5 L 75 284.5\" fill=\"none\" stroke=\"#333\" stroke-width=\"1\" paint-order=\"fill\" stroke-opacity=\"1\" stroke-dasharray=\"\" stroke-linecap=\"butt\" stroke-linejoin=\"miter\" stroke-miterlimit=\"10\" clip-path=\"none\"></path><path d=\"M 80 228.5 L 75 228.5\" fill=\"none\" stroke=\"#333\" stroke-width=\"1\" paint-order=\"fill\" stroke-opacity=\"1\" stroke-dasharray=\"\" stroke-linecap=\"butt\" stroke-linejoin=\"miter\" stroke-miterlimit=\"10\" clip-path=\"none\"></path><path d=\"M 80 172.5 L 75 172.5\" fill=\"none\" stroke=\"#333\" stroke-width=\"1\" paint-order=\"fill\" stroke-opacity=\"1\" stroke-dasharray=\"\" stroke-linecap=\"butt\" stroke-linejoin=\"miter\" stroke-miterlimit=\"10\" clip-path=\"none\"></path><path d=\"M 80 116.5 L 75 116.5\" fill=\"none\" stroke=\"#333\" stroke-width=\"1\" paint-order=\"fill\" stroke-opacity=\"1\" stroke-dasharray=\"\" stroke-linecap=\"butt\" stroke-linejoin=\"miter\" stroke-miterlimit=\"10\" clip-path=\"none\"></path><path d=\"M 80 60.5 L 75 60.5\" fill=\"none\" stroke=\"#333\" stroke-width=\"1\" paint-order=\"fill\" stroke-opacity=\"1\" stroke-dasharray=\"\" stroke-linecap=\"butt\" stroke-linejoin=\"miter\" stroke-miterlimit=\"10\" clip-path=\"none\"></path><path d=\"M 80.5 340 L 80.5 345\" fill=\"none\" stroke=\"#333\" stroke-width=\"1\" paint-order=\"fill\" stroke-opacity=\"1\" stroke-dasharray=\"\" stroke-linecap=\"butt\" stroke-linejoin=\"miter\" stroke-miterlimit=\"10\" clip-path=\"none\"></path><path d=\"M 80.5 340 L 80.5 345\" fill=\"none\" stroke=\"#333\" stroke-width=\"1\" paint-order=\"fill\" stroke-opacity=\"1\" stroke-dasharray=\"\" stroke-linecap=\"butt\" stroke-linejoin=\"miter\" stroke-miterlimit=\"10\" clip-path=\"none\"></path><text alignment-baseline=\"middle\" x=\"0\" y=\"0\" fill=\"#333\" fill-opacity=\"1\" stroke=\"none\" transform=\"matrix(1,2.4492937051703357e-16,-2.4492937051703357e-16,1,72,340)\" clip-path=\"none\" style=\"font-style: normal; font-variant: normal; font-weight: normal; font-size: 12px; line-height: normal; font-family: 'Microsoft YaHei';\"><tspan alignment-baseline=\"middle\" text-anchor=\"end\" x=\"0\" y=\"0\">0 </tspan></text><text alignment-baseline=\"middle\" x=\"0\" y=\"0\" fill=\"#333\" fill-opacity=\"1\" stroke=\"none\" transform=\"matrix(1,2.4492937051703357e-16,-2.4492937051703357e-16,1,72,284)\" clip-path=\"none\" style=\"font-style: normal; font-variant: normal; font-weight: normal; font-size: 12px; line-height: normal; font-family: 'Microsoft YaHei';\"><tspan alignment-baseline=\"middle\" text-anchor=\"end\" x=\"0\" y=\"0\">0.2 </tspan></text><text alignment-baseline=\"middle\" x=\"0\" y=\"0\" fill=\"#333\" fill-opacity=\"1\" stroke=\"none\" transform=\"matrix(1,2.4492937051703357e-16,-2.4492937051703357e-16,1,72,228)\" clip-path=\"none\" style=\"font-style: normal; font-variant: normal; font-weight: normal; font-size: 12px; line-height: normal; font-family: 'Microsoft YaHei';\"><tspan alignment-baseline=\"middle\" text-anchor=\"end\" x=\"0\" y=\"0\">0.4 </tspan></text><text alignment-baseline=\"middle\" x=\"0\" y=\"0\" fill=\"#333\" fill-opacity=\"1\" stroke=\"none\" transform=\"matrix(1,2.4492937051703357e-16,-2.4492937051703357e-16,1,72,172)\" clip-path=\"none\" style=\"font-style: normal; font-variant: normal; font-weight: normal; font-size: 12px; line-height: normal; font-family: 'Microsoft YaHei';\"><tspan alignment-baseline=\"middle\" text-anchor=\"end\" x=\"0\" y=\"0\">0.6 </tspan></text><text alignment-baseline=\"middle\" x=\"0\" y=\"0\" fill=\"#333\" fill-opacity=\"1\" stroke=\"none\" transform=\"matrix(1,2.4492937051703357e-16,-2.4492937051703357e-16,1,72,116)\" clip-path=\"none\" style=\"font-style: normal; font-variant: normal; font-weight: normal; font-size: 12px; line-height: normal; font-family: 'Microsoft YaHei';\"><tspan alignment-baseline=\"middle\" text-anchor=\"end\" x=\"0\" y=\"0\">0.8 </tspan></text><text alignment-baseline=\"middle\" x=\"0\" y=\"0\" fill=\"#333\" fill-opacity=\"1\" stroke=\"none\" transform=\"matrix(1,2.4492937051703357e-16,-2.4492937051703357e-16,1,72,60)\" clip-path=\"none\" style=\"font-style: normal; font-variant: normal; font-weight: normal; font-size: 12px; line-height: normal; font-family: 'Microsoft YaHei';\"><tspan alignment-baseline=\"middle\" text-anchor=\"end\" x=\"0\" y=\"0\">1 </tspan></text><text alignment-baseline=\"hanging\" x=\"0\" y=\"0\" fill=\"#333\" fill-opacity=\"1\" stroke=\"none\" transform=\"matrix(1,0,0,1,400,348)\" clip-path=\"none\" style=\"font-style: normal; font-variant: normal; font-weight: normal; font-size: 12px; line-height: normal; font-family: 'Microsoft YaHei';\"><tspan alignment-baseline=\"hanging\" text-anchor=\"middle\" x=\"0\" y=\"0\">all_sucess_pr</tspan></text><path d=\"M 144 340 L 180.57139999999998 340 L 180.57139999999998 262.3 L 144 262.3 L 144 340 Z\" fill=\"#c23531\" fill-opacity=\"undefined\" stroke=\"none\" clip-path=\"none\"></path><path d=\"M 191.5429 340 L 228.11430000000001 340 L 228.11430000000001 275.25 L 191.5429 275.25 L 191.5429 340 Z\" fill=\"#2f4554\" fill-opacity=\"undefined\" stroke=\"none\" clip-path=\"none\"></path><path d=\"M 239.0857 340 L 275.6571 340 L 275.6571 269.8833 L 239.0857 269.8833 L 239.0857 340 Z\" fill=\"#61a0a8\" fill-opacity=\"undefined\" stroke=\"none\" clip-path=\"none\"></path><path d=\"M 286.6286 340 L 323.2 340 L 323.2 330.2 L 286.6286 330.2 L 286.6286 340 Z\" fill=\"#d48265\" fill-opacity=\"undefined\" stroke=\"none\" clip-path=\"none\"></path><path d=\"M 334.1714 340 L 370.7428 340 L 370.7428 290.65 L 334.1714 290.65 L 334.1714 340 Z\" fill=\"#749f83\" fill-opacity=\"undefined\" stroke=\"none\" clip-path=\"none\"></path><path d=\"M 381.7143 340 L 418.28569999999996 340 L 418.28569999999996 293.56669999999997 L 381.7143 293.56669999999997 L 381.7143 340 Z\" fill=\"#ca8622\" fill-opacity=\"undefined\" stroke=\"none\" clip-path=\"none\"></path><path d=\"M 429.2571 340 L 465.82849999999996 340 L 465.82849999999996 60 L 429.2571 60 L 429.2571 340 Z\" fill=\"#bda29a\" fill-opacity=\"undefined\" stroke=\"none\" clip-path=\"none\"></path><path d=\"M 476.8 340 L 513.3714 340 L 513.3714 312.1167 L 476.8 312.1167 L 476.8 340 Z\" fill=\"#6e7074\" fill-opacity=\"undefined\" stroke=\"none\" clip-path=\"none\"></path><path d=\"M 524.3429 340 L 560.9143 340 L 560.9143 288.2 L 524.3429 288.2 L 524.3429 340 Z\" fill=\"#546570\" fill-opacity=\"undefined\" stroke=\"none\" clip-path=\"none\"></path><path d=\"M 571.8857 340 L 608.4571000000001 340 L 608.4571000000001 312.1167 L 571.8857 312.1167 L 571.8857 340 Z\" fill=\"#c4ccd3\" fill-opacity=\"undefined\" stroke=\"none\" clip-path=\"none\"></path><path d=\"M 619.4286 340 L 656 340 L 656 269.4283 L 619.4286 269.4283 L 619.4286 340 Z\" fill=\"#f05b72\" fill-opacity=\"undefined\" stroke=\"none\" clip-path=\"none\"></path><path d=\"M -5 -5 L 760 -5 L 760 67 L -5 67 L -5 -5 Z\" fill=\"rgba(0,0,0,0)\" fill-opacity=\"1\" stroke=\"#ccc\" stroke-width=\"0\" paint-order=\"fill\" stroke-opacity=\"1\" stroke-dasharray=\"\" stroke-linecap=\"butt\" stroke-linejoin=\"miter\" stroke-miterlimit=\"10\" transform=\"matrix(1,0,0,1,22.5,5)\" clip-path=\"none\"></path><path d=\"M 3.5 0 L 21.5 0 A 3.5 3.5 0 0 1 25 3.5 L 25 10.5 A 3.5 3.5 0 0 1 21.5 14 L 3.5 14 A 3.5 3.5 0 0 1 0 10.5 L 0 3.5 A 3.5 3.5 0 0 1 3.5 0 Z\" fill=\"#c23531\" fill-opacity=\"1\" stroke=\"none\" transform=\"matrix(1,0,0,1,22.5,5)\" clip-path=\"none\"></path><text alignment-baseline=\"middle\" x=\"30\" y=\"7\" fill=\"#333\" fill-opacity=\"1\" stroke=\"none\" transform=\"matrix(1,0,0,1,22.5,5)\" clip-path=\"none\" style=\"font-style: normal; font-variant: normal; font-weight: normal; font-size: 12px; line-height: normal; font-family: 'Microsoft YaHei';\"><tspan alignment-baseline=\"middle\" text-anchor=\"start\" x=\"30\" y=\"7\">http://114.119.116.92:61066</tspan></text><path d=\"M 3.5 0 L 21.5 0 A 3.5 3.5 0 0 1 25 3.5 L 25 10.5 A 3.5 3.5 0 0 1 21.5 14 L 3.5 14 A 3.5 3.5 0 0 1 0 10.5 L 0 3.5 A 3.5 3.5 0 0 1 3.5 0 Z\" fill=\"#2f4554\" fill-opacity=\"1\" stroke=\"none\" transform=\"matrix(1,0,0,1,222.5,5)\" clip-path=\"none\"></path><text alignment-baseline=\"middle\" x=\"30\" y=\"7\" fill=\"#333\" fill-opacity=\"1\" stroke=\"none\" transform=\"matrix(1,0,0,1,222.5,5)\" clip-path=\"none\" style=\"font-style: normal; font-variant: normal; font-weight: normal; font-size: 12px; line-height: normal; font-family: 'Microsoft YaHei';\"><tspan alignment-baseline=\"middle\" text-anchor=\"start\" x=\"30\" y=\"7\">http://116.55.93.130:8118</tspan></text><path d=\"M 3.5 0 L 21.5 0 A 3.5 3.5 0 0 1 25 3.5 L 25 10.5 A 3.5 3.5 0 0 1 21.5 14 L 3.5 14 A 3.5 3.5 0 0 1 0 10.5 L 0 3.5 A 3.5 3.5 0 0 1 3.5 0 Z\" fill=\"#61a0a8\" fill-opacity=\"1\" stroke=\"none\" transform=\"matrix(1,0,0,1,408.5,5)\" clip-path=\"none\"></path><text alignment-baseline=\"middle\" x=\"30\" y=\"7\" fill=\"#333\" fill-opacity=\"1\" stroke=\"none\" transform=\"matrix(1,0,0,1,408.5,5)\" clip-path=\"none\" style=\"font-style: normal; font-variant: normal; font-weight: normal; font-size: 12px; line-height: normal; font-family: 'Microsoft YaHei';\"><tspan alignment-baseline=\"middle\" text-anchor=\"start\" x=\"30\" y=\"7\">http://117.85.217.229:8118</tspan></text><path d=\"M 3.5 0 L 21.5 0 A 3.5 3.5 0 0 1 25 3.5 L 25 10.5 A 3.5 3.5 0 0 1 21.5 14 L 3.5 14 A 3.5 3.5 0 0 1 0 10.5 L 0 3.5 A 3.5 3.5 0 0 1 3.5 0 Z\" fill=\"#d48265\" fill-opacity=\"1\" stroke=\"none\" transform=\"matrix(1,0,0,1,601.5,5)\" clip-path=\"none\"></path><text alignment-baseline=\"middle\" x=\"30\" y=\"7\" fill=\"#333\" fill-opacity=\"1\" stroke=\"none\" transform=\"matrix(1,0,0,1,601.5,5)\" clip-path=\"none\" style=\"font-style: normal; font-variant: normal; font-weight: normal; font-size: 12px; line-height: normal; font-family: 'Microsoft YaHei';\"><tspan alignment-baseline=\"middle\" text-anchor=\"start\" x=\"30\" y=\"7\">http://118.190.95.35:9001</tspan></text><path d=\"M 3.5 0 L 21.5 0 A 3.5 3.5 0 0 1 25 3.5 L 25 10.5 A 3.5 3.5 0 0 1 21.5 14 L 3.5 14 A 3.5 3.5 0 0 1 0 10.5 L 0 3.5 A 3.5 3.5 0 0 1 3.5 0 Z\" fill=\"#749f83\" fill-opacity=\"1\" stroke=\"none\" transform=\"matrix(1,0,0,1,22.5,29)\" clip-path=\"none\"></path><text alignment-baseline=\"middle\" x=\"30\" y=\"7\" fill=\"#333\" fill-opacity=\"1\" stroke=\"none\" transform=\"matrix(1,0,0,1,22.5,29)\" clip-path=\"none\" style=\"font-style: normal; font-variant: normal; font-weight: normal; font-size: 12px; line-height: normal; font-family: 'Microsoft YaHei';\"><tspan alignment-baseline=\"middle\" text-anchor=\"start\" x=\"30\" y=\"7\">http://120.77.249.46:8080</tspan></text><path d=\"M 3.5 0 L 21.5 0 A 3.5 3.5 0 0 1 25 3.5 L 25 10.5 A 3.5 3.5 0 0 1 21.5 14 L 3.5 14 A 3.5 3.5 0 0 1 0 10.5 L 0 3.5 A 3.5 3.5 0 0 1 3.5 0 Z\" fill=\"#ca8622\" fill-opacity=\"1\" stroke=\"none\" transform=\"matrix(1,0,0,1,208.5,29)\" clip-path=\"none\"></path><text alignment-baseline=\"middle\" x=\"30\" y=\"7\" fill=\"#333\" fill-opacity=\"1\" stroke=\"none\" transform=\"matrix(1,0,0,1,208.5,29)\" clip-path=\"none\" style=\"font-style: normal; font-variant: normal; font-weight: normal; font-size: 12px; line-height: normal; font-family: 'Microsoft YaHei';\"><tspan alignment-baseline=\"middle\" text-anchor=\"start\" x=\"30\" y=\"7\">http://124.235.181.175:80</tspan></text><path d=\"M 3.5 0 L 21.5 0 A 3.5 3.5 0 0 1 25 3.5 L 25 10.5 A 3.5 3.5 0 0 1 21.5 14 L 3.5 14 A 3.5 3.5 0 0 1 0 10.5 L 0 3.5 A 3.5 3.5 0 0 1 3.5 0 Z\" fill=\"#bda29a\" fill-opacity=\"1\" stroke=\"none\" transform=\"matrix(1,0,0,1,394.5,29)\" clip-path=\"none\"></path><text alignment-baseline=\"middle\" x=\"30\" y=\"7\" fill=\"#333\" fill-opacity=\"1\" stroke=\"none\" transform=\"matrix(1,0,0,1,394.5,29)\" clip-path=\"none\" style=\"font-style: normal; font-variant: normal; font-weight: normal; font-size: 12px; line-height: normal; font-family: 'Microsoft YaHei';\"><tspan alignment-baseline=\"middle\" text-anchor=\"start\" x=\"30\" y=\"7\">http://125.70.13.77:8080</tspan></text><path d=\"M 3.5 0 L 21.5 0 A 3.5 3.5 0 0 1 25 3.5 L 25 10.5 A 3.5 3.5 0 0 1 21.5 14 L 3.5 14 A 3.5 3.5 0 0 1 0 10.5 L 0 3.5 A 3.5 3.5 0 0 1 3.5 0 Z\" fill=\"#6e7074\" fill-opacity=\"1\" stroke=\"none\" transform=\"matrix(1,0,0,1,573.5,29)\" clip-path=\"none\"></path><text alignment-baseline=\"middle\" x=\"30\" y=\"7\" fill=\"#333\" fill-opacity=\"1\" stroke=\"none\" transform=\"matrix(1,0,0,1,573.5,29)\" clip-path=\"none\" style=\"font-style: normal; font-variant: normal; font-weight: normal; font-size: 12px; line-height: normal; font-family: 'Microsoft YaHei';\"><tspan alignment-baseline=\"middle\" text-anchor=\"start\" x=\"30\" y=\"7\">http://175.148.78.174:1133</tspan></text><path d=\"M 3.5 0 L 21.5 0 A 3.5 3.5 0 0 1 25 3.5 L 25 10.5 A 3.5 3.5 0 0 1 21.5 14 L 3.5 14 A 3.5 3.5 0 0 1 0 10.5 L 0 3.5 A 3.5 3.5 0 0 1 3.5 0 Z\" fill=\"#546570\" fill-opacity=\"1\" stroke=\"none\" transform=\"matrix(1,0,0,1,22.5,53)\" clip-path=\"none\"></path><text alignment-baseline=\"middle\" x=\"30\" y=\"7\" fill=\"#333\" fill-opacity=\"1\" stroke=\"none\" transform=\"matrix(1,0,0,1,22.5,53)\" clip-path=\"none\" style=\"font-style: normal; font-variant: normal; font-weight: normal; font-size: 12px; line-height: normal; font-family: 'Microsoft YaHei';\"><tspan alignment-baseline=\"middle\" text-anchor=\"start\" x=\"30\" y=\"7\">http://222.170.0.102:53281</tspan></text><path d=\"M 3.5 0 L 21.5 0 A 3.5 3.5 0 0 1 25 3.5 L 25 10.5 A 3.5 3.5 0 0 1 21.5 14 L 3.5 14 A 3.5 3.5 0 0 1 0 10.5 L 0 3.5 A 3.5 3.5 0 0 1 3.5 0 Z\" fill=\"#c4ccd3\" fill-opacity=\"1\" stroke=\"none\" transform=\"matrix(1,0,0,1,215.5,53)\" clip-path=\"none\"></path><text alignment-baseline=\"middle\" x=\"30\" y=\"7\" fill=\"#333\" fill-opacity=\"1\" stroke=\"none\" transform=\"matrix(1,0,0,1,215.5,53)\" clip-path=\"none\" style=\"font-style: normal; font-variant: normal; font-weight: normal; font-size: 12px; line-height: normal; font-family: 'Microsoft YaHei';\"><tspan alignment-baseline=\"middle\" text-anchor=\"start\" x=\"30\" y=\"7\">http://61.138.33.20:808</tspan></text><path d=\"M 3.5 0 L 21.5 0 A 3.5 3.5 0 0 1 25 3.5 L 25 10.5 A 3.5 3.5 0 0 1 21.5 14 L 3.5 14 A 3.5 3.5 0 0 1 0 10.5 L 0 3.5 A 3.5 3.5 0 0 1 3.5 0 Z\" fill=\"#f05b72\" fill-opacity=\"1\" stroke=\"none\" transform=\"matrix(1,0,0,1,387.5,53)\" clip-path=\"none\"></path><text alignment-baseline=\"middle\" x=\"30\" y=\"7\" fill=\"#333\" fill-opacity=\"1\" stroke=\"none\" transform=\"matrix(1,0,0,1,387.5,53)\" clip-path=\"none\" style=\"font-style: normal; font-variant: normal; font-weight: normal; font-size: 12px; line-height: normal; font-family: 'Microsoft YaHei';\"><tspan alignment-baseline=\"middle\" text-anchor=\"start\" x=\"30\" y=\"7\">all_sucess_pr</tspan></text><path d=\"M -15 -15 L 15 -15 L 15 237.7663 L -15 237.7663 L -15 -15 Z\" fill=\"rgba(0, 0, 0, 0.002)\" fill-opacity=\"1\" stroke=\"#ccc\" stroke-width=\"0\" paint-order=\"fill\" stroke-opacity=\"1\" stroke-dasharray=\"\" stroke-linecap=\"butt\" stroke-linejoin=\"miter\" stroke-miterlimit=\"10\" transform=\"matrix(1,0,0,1,775,88.61686706542969)\" clip-path=\"none\"></path><path d=\"M -6.4526 -1.5776 L -0.0905 4.2672 L 6.4784 -1.4483 M -6.4784 3.7759 L -6.4784 7.5 L 6.2457 7.5 L 6.2457 3.7759 M -0.1164 4.1638 L -0.1164 -7.5\" fill=\"none\" stroke=\"#666\" stroke-width=\"1\" paint-order=\"fill\" stroke-opacity=\"1\" stroke-dasharray=\"\" stroke-linecap=\"butt\" stroke-linejoin=\"miter\" stroke-miterlimit=\"10\" transform=\"matrix(1,0,0,1,775,88.61686706542969)\" clip-path=\"none\"></path><path d=\"M -6.9994 0.9083 M 4.5416 -2.9654 L 7.1597 -2.9654 L 7.1597 -5.6904 M 7.0261 -2.6448 C 5.9041 -5.6102 2.8051 -7.8543 -0.8549 -7.4536 C -4.6485 -7.0261 -7.5872 -3.6867 -7.4536 0.1603 M -4.5416 2.9654 L -7.1864 2.9654 L -7.1864 5.6904 M -7.0261 2.6448 C -5.9041 5.6102 -2.8051 7.8543 0.8549 7.4536 C 4.6485 7.0261 7.5872 3.6867 7.4536 -0.1603\" fill=\"none\" stroke=\"#666\" stroke-width=\"1\" paint-order=\"fill\" stroke-opacity=\"1\" stroke-dasharray=\"\" stroke-linecap=\"butt\" stroke-linejoin=\"miter\" stroke-miterlimit=\"10\" transform=\"matrix(1,0,0,1,775,116.61686706542969)\" clip-path=\"none\"></path><path d=\"M -3.683 -3.4018 L 0.4687 -3.4018 M -3.683 -3.4018 L 0.4687 -3.4018 M 3.7902 -0.1339 L -3.7098 -0.1339 M -5.2902 -7.5 L -5.2902 7.5 L 5.2902 7.5 L 5.2902 -4.0714 L 1.9152 -7.5 L -5.2902 -7.5 Z M 1.9152 -7.4464 L 1.9152 -4.0446 L 5.2902 -4.0446 M 3.7902 3.1339 L -3.7098 3.1339\" fill=\"none\" stroke=\"#666\" stroke-width=\"1\" paint-order=\"fill\" stroke-opacity=\"1\" stroke-dasharray=\"\" stroke-linecap=\"butt\" stroke-linejoin=\"miter\" stroke-miterlimit=\"10\" transform=\"matrix(1,0,0,1,775,144.6168670654297)\" clip-path=\"none\"></path><path d=\"M -7.5 -1.036 L -5.428 -1.036 L -2.714 -7.4562 L -0.5545 3.6333 L 2.2763 -2.1158 L 3.1518 1.6196 L 7.5 1.6196 M -7.5 7.4562 L 7.5 7.4562\" fill=\"none\" stroke=\"#666\" stroke-width=\"1\" paint-order=\"fill\" stroke-opacity=\"1\" stroke-dasharray=\"\" stroke-linecap=\"butt\" stroke-linejoin=\"miter\" stroke-miterlimit=\"10\" transform=\"matrix(1,0,0,1,775,172.57308959960938)\" clip-path=\"none\"></path><path d=\"M -6.2277 -1.9018 L -3.5491 -1.9018 L -3.5491 4.8214 L -6.2277 4.8214 L -6.2277 -1.9018 Z M -1.3527 -4.5536 L 1.3259 -4.5536 L 1.3259 4.8214 L -1.3527 4.8214 L -1.3527 -4.5536 Z M 3.5491 -7.5 L 6.2277 -7.5 L 6.2277 4.8214 L 3.5491 4.8214 L 3.5491 -7.5 Z M -7.192 7.5 L 7.192 7.5\" fill=\"none\" stroke=\"#666\" stroke-width=\"1\" paint-order=\"fill\" stroke-opacity=\"1\" stroke-dasharray=\"\" stroke-linecap=\"butt\" stroke-linejoin=\"miter\" stroke-miterlimit=\"10\" transform=\"matrix(1,0,0,1,775,200.52932739257812)\" clip-path=\"none\"></path><path d=\"M -5.407 2.093 L -7.5 3.1146 L 0.1246 6.9269 L 7.5 3.1146 L 5.4817 2.093 L 0.1246 4.8339 L -5.407 2.093 Z M 5.4817 0 L 3.4635 1.0465 L 0.1246 2.7658 L -3.3389 1.0465 L -5.407 0 L -7.5 1.0465 L -5.407 2.093 L 0.1246 4.8339 L 5.4817 2.093 L 7.5 1.0465 L 5.4817 0 Z M 5.4817 -2.0681 L 3.4635 -1.0216 L 1.4452 0 L 0.1246 0.6977 L -1.2458 0 L -3.3389 -1.0216 L -5.407 -2.0681 L -7.5 -1.0216 L -5.407 0 L -3.3389 1.0465 L 0.1246 2.7658 L 3.4635 1.0465 L 5.4817 0 L 7.5 -1.0216 L 5.4817 -2.0681 Z M 0.1246 -6.9269 L -7.5 -3.1146 L -5.407 -2.093 L -3.3389 -1.0465 L -1.2458 0 L 0.1246 0.6728 L 1.4452 0 L 3.4635 -1.0465 L 5.4817 -2.093 L 7.5 -3.1146 L 0.1246 -6.9269 Z\" fill=\"none\" stroke=\"#666\" stroke-width=\"1\" paint-order=\"fill\" stroke-opacity=\"1\" stroke-dasharray=\"\" stroke-linecap=\"butt\" stroke-linejoin=\"miter\" stroke-miterlimit=\"10\" transform=\"matrix(1,0,0,1,775,227.9562225341797)\" clip-path=\"none\"></path><path d=\"M -7.4865 -7.5 L -1.3354 -7.5 L -1.3354 -1.3489 L -7.4865 -1.3489 L -7.4865 -7.5 Z M 1.3354 -7.5 L 7.4865 -7.5 L 7.4865 -1.3489 L 1.3354 -1.3489 L 1.3354 -7.5 Z M -7.4865 1.3489 L -1.3354 1.3489 L -1.3354 7.5 L -7.4865 7.5 L -7.4865 1.3489 Z M 1.3354 1.3489 L 7.4865 1.3489 L 7.4865 7.5 L 1.3354 7.5 L 1.3354 1.3489 Z\" fill=\"none\" stroke=\"#666\" stroke-width=\"1\" paint-order=\"fill\" stroke-opacity=\"1\" stroke-dasharray=\"\" stroke-linecap=\"butt\" stroke-linejoin=\"miter\" stroke-miterlimit=\"10\" transform=\"matrix(1,0,0,1,775,255.3831329345703)\" clip-path=\"none\"></path><path d=\"M -7.5 -4.0086 L -0.5431 -4.0086 M -4.0086 -0.5431 L -4.0086 -7.5 M 0.8017 -4.0086 L 7.5 -4.0086 L 7.5 7.5 L -4.0086 7.5 L -4.0086 0.8017\" fill=\"none\" stroke=\"#666\" stroke-width=\"1\" paint-order=\"fill\" stroke-opacity=\"1\" stroke-dasharray=\"\" stroke-linecap=\"butt\" stroke-linejoin=\"miter\" stroke-miterlimit=\"10\" transform=\"matrix(1,0,0,1,775,283.38311767578125)\" clip-path=\"none\"></path><path d=\"M -2.7513 -7.5 L -5.9524 -4.2989 L -2.6984 -1.045 M -5.8466 -4.2989 L 5.9524 -4.2989 L 5.9524 7.5 L -5.8466 7.5 L -5.8466 0.6217\" fill=\"none\" stroke=\"#666\" stroke-width=\"1\" paint-order=\"fill\" stroke-opacity=\"1\" stroke-dasharray=\"\" stroke-linecap=\"butt\" stroke-linejoin=\"miter\" stroke-miterlimit=\"10\" transform=\"matrix(1,0,0,1,775,311.38311767578125)\" clip-path=\"none\"></path><path d=\"M -5 -5 L 89 -5 L 89 45 L -5 45 L -5 -5 Z\" fill=\"rgba(0,0,0,0)\" fill-opacity=\"1\" stroke=\"#ccc\" stroke-width=\"0\" paint-order=\"fill\" stroke-opacity=\"1\" stroke-dasharray=\"\" stroke-linecap=\"butt\" stroke-linejoin=\"miter\" stroke-miterlimit=\"10\" transform=\"matrix(1,0,0,1,5,5)\" clip-path=\"none\"></path><text alignment-baseline=\"hanging\" x=\"0\" y=\"0\" fill=\"#333\" fill-opacity=\"1\" stroke=\"none\" transform=\"matrix(1,0,0,1,5,5)\" clip-path=\"none\" style=\"font-style: normal; font-weight: bolder; font-variant: normal; font-size: 18px; line-height: normal; font-family: 'Microsoft YaHei';\"><tspan alignment-baseline=\"hanging\" text-anchor=\"start\" x=\"0\" y=\"0\">data_anly</tspan></text><text alignment-baseline=\"hanging\" x=\"0\" y=\"28\" fill=\"#aaa\" fill-opacity=\"1\" stroke=\"none\" transform=\"matrix(1,0,0,1,5,5)\" clip-path=\"none\" style=\"font-style: normal; font-variant: normal; font-weight: normal; font-size: 12px; line-height: normal; font-family: 'Microsoft YaHei';\"><tspan alignment-baseline=\"hanging\" text-anchor=\"start\" x=\"0\" y=\"28\">Theme</tspan></text></svg>\n"
      ],
      "text/plain": [
       "<pyecharts.charts.bar.Bar at 0x1d3e0b2c898>"
      ]
     },
     "execution_count": 8,
     "metadata": {},
     "output_type": "execute_result"
    }
   ],
   "source": [
    "pri_tu(pd_proxies_ret.loc[pd_proxies_ret.status_code.values==200,:])"
   ]
  },
  {
   "cell_type": "markdown",
   "metadata": {},
   "source": [
    "## 二、牛魔IP\n",
    "域名:http://www.niumoip.com/product?tdsourcetag=s_pctim_aiomsg"
   ]
  },
  {
   "cell_type": "markdown",
   "metadata": {},
   "source": [
    "### 测试方案\n",
    "#### 1、使用代理池程序获得当前有效ip10个\n",
    "#### 2、每个ip持续请求2400次，每秒执行2次请求 www.baidu.com 查询\n",
    "#### 3、分析每个ip失败率\n",
    "#### 4、分析总失败率"
   ]
  },
  {
   "cell_type": "markdown",
   "metadata": {},
   "source": [
    "无法获得测试ip，该产品提供app，无api调用，不合适"
   ]
  },
  {
   "cell_type": "markdown",
   "metadata": {},
   "source": [
    "## 三、无忧代理\n",
    "域名:http://www.data5u.com/vipip/dynamic.html"
   ]
  },
  {
   "cell_type": "markdown",
   "metadata": {
    "collapsed": true
   },
   "source": [
    "免费ip均不可用\n",
    "不提供免费测试的，您可以购买套餐一进行测试"
   ]
  },
  {
   "cell_type": "markdown",
   "metadata": {},
   "source": [
    "## 四、大象代理\n",
    "域名:http://fs3.daili666.com/"
   ]
  },
  {
   "cell_type": "markdown",
   "metadata": {},
   "source": [
    "### 测试一\n",
    "#### 1、随机使用代理池程序获得当前有效ip10个\n",
    "#### 2、每个ip持续请求2400次，每秒执行2次请求 www.baidu.com 查询，总持续时长4小时\n",
    "#### 3、分析每个ip失败率\n",
    "#### 4、分析总失败率"
   ]
  },
  {
   "cell_type": "code",
   "execution_count": 9,
   "metadata": {},
   "outputs": [],
   "source": [
    "pd_daxiang=pd.read_csv('Z:/spyproject/IPProxyPool/daxiang1.csv')"
   ]
  },
  {
   "cell_type": "markdown",
   "metadata": {},
   "source": [
    "## 各代理请求成功失败情况\n",
    "### 1、200为网站正常返回\n",
    "### 2、9999 为代理异常，网路不通"
   ]
  },
  {
   "cell_type": "code",
   "execution_count": 10,
   "metadata": {},
   "outputs": [
    {
     "data": {
      "text/plain": [
       "proxies_http                  status_code\n",
       "http://109.74.141.110:55367   200            1944\n",
       "                              9999            456\n",
       "http://134.249.142.122:36602  200            2378\n",
       "                              500               1\n",
       "                              9999             21\n",
       "http://173.214.223.167:48394  200            1584\n",
       "                              9999            816\n",
       "http://176.235.99.196:58224   200            2332\n",
       "                              9999             68\n",
       "http://213.111.218.46:48581   200            2390\n",
       "                              9999             10\n",
       "http://216.21.162.200:54288   200             217\n",
       "                              9999           2183\n",
       "http://36.37.222.137:38327    200            2306\n",
       "                              9999             94\n",
       "http://74.15.191.160:57106    200            2382\n",
       "                              9999             18\n",
       "http://80.242.45.119:47750    200            2299\n",
       "                              9999            101\n",
       "http://91.76.144.123:45249    200            2360\n",
       "                              9999             40\n",
       "Name: url, dtype: int64"
      ]
     },
     "execution_count": 10,
     "metadata": {},
     "output_type": "execute_result"
    }
   ],
   "source": [
    "gy_pd_daxiang=pd_daxiang.groupby(['proxies_http','status_code'])['url'].count()\n",
    "gy_pd_daxiang"
   ]
  },
  {
   "cell_type": "code",
   "execution_count": 11,
   "metadata": {},
   "outputs": [
    {
     "data": {
      "image/svg+xml": [
       "<svg xmlns=\"http://www.w3.org/2000/svg\" version=\"1.1\" baseProfile=\"full\" width=\"800\" height=\"400\" style=\" left: 0px; top: 0px;\"><path d=\"M 80 340.5 L 720 340.5\" fill=\"none\" stroke=\"#ccc\" stroke-width=\"1\" paint-order=\"fill\" stroke-opacity=\"1\" stroke-dasharray=\"\" stroke-linecap=\"butt\" stroke-linejoin=\"miter\" stroke-miterlimit=\"10\" clip-path=\"none\"></path><path d=\"M 80 284.5 L 720 284.5\" fill=\"none\" stroke=\"#ccc\" stroke-width=\"1\" paint-order=\"fill\" stroke-opacity=\"1\" stroke-dasharray=\"\" stroke-linecap=\"butt\" stroke-linejoin=\"miter\" stroke-miterlimit=\"10\" clip-path=\"none\"></path><path d=\"M 80 228.5 L 720 228.5\" fill=\"none\" stroke=\"#ccc\" stroke-width=\"1\" paint-order=\"fill\" stroke-opacity=\"1\" stroke-dasharray=\"\" stroke-linecap=\"butt\" stroke-linejoin=\"miter\" stroke-miterlimit=\"10\" clip-path=\"none\"></path><path d=\"M 80 172.5 L 720 172.5\" fill=\"none\" stroke=\"#ccc\" stroke-width=\"1\" paint-order=\"fill\" stroke-opacity=\"1\" stroke-dasharray=\"\" stroke-linecap=\"butt\" stroke-linejoin=\"miter\" stroke-miterlimit=\"10\" clip-path=\"none\"></path><path d=\"M 80 116.5 L 720 116.5\" fill=\"none\" stroke=\"#ccc\" stroke-width=\"1\" paint-order=\"fill\" stroke-opacity=\"1\" stroke-dasharray=\"\" stroke-linecap=\"butt\" stroke-linejoin=\"miter\" stroke-miterlimit=\"10\" clip-path=\"none\"></path><path d=\"M 80 60.5 L 720 60.5\" fill=\"none\" stroke=\"#ccc\" stroke-width=\"1\" paint-order=\"fill\" stroke-opacity=\"1\" stroke-dasharray=\"\" stroke-linecap=\"butt\" stroke-linejoin=\"miter\" stroke-miterlimit=\"10\" clip-path=\"none\"></path><path d=\"M 80.5 340 L 80.5 60\" fill=\"none\" stroke=\"#333\" stroke-width=\"1\" paint-order=\"fill\" stroke-opacity=\"1\" stroke-dasharray=\"\" stroke-linecap=\"round\" stroke-linejoin=\"miter\" stroke-miterlimit=\"10\" clip-path=\"none\"></path><path d=\"M 80 340.5 L 720 340.5\" fill=\"none\" stroke=\"#333\" stroke-width=\"1\" paint-order=\"fill\" stroke-opacity=\"1\" stroke-dasharray=\"\" stroke-linecap=\"round\" stroke-linejoin=\"miter\" stroke-miterlimit=\"10\" clip-path=\"none\"></path><path d=\"M 80 340.5 L 75 340.5\" fill=\"none\" stroke=\"#333\" stroke-width=\"1\" paint-order=\"fill\" stroke-opacity=\"1\" stroke-dasharray=\"\" stroke-linecap=\"butt\" stroke-linejoin=\"miter\" stroke-miterlimit=\"10\" clip-path=\"none\"></path><path d=\"M 80 284.5 L 75 284.5\" fill=\"none\" stroke=\"#333\" stroke-width=\"1\" paint-order=\"fill\" stroke-opacity=\"1\" stroke-dasharray=\"\" stroke-linecap=\"butt\" stroke-linejoin=\"miter\" stroke-miterlimit=\"10\" clip-path=\"none\"></path><path d=\"M 80 228.5 L 75 228.5\" fill=\"none\" stroke=\"#333\" stroke-width=\"1\" paint-order=\"fill\" stroke-opacity=\"1\" stroke-dasharray=\"\" stroke-linecap=\"butt\" stroke-linejoin=\"miter\" stroke-miterlimit=\"10\" clip-path=\"none\"></path><path d=\"M 80 172.5 L 75 172.5\" fill=\"none\" stroke=\"#333\" stroke-width=\"1\" paint-order=\"fill\" stroke-opacity=\"1\" stroke-dasharray=\"\" stroke-linecap=\"butt\" stroke-linejoin=\"miter\" stroke-miterlimit=\"10\" clip-path=\"none\"></path><path d=\"M 80 116.5 L 75 116.5\" fill=\"none\" stroke=\"#333\" stroke-width=\"1\" paint-order=\"fill\" stroke-opacity=\"1\" stroke-dasharray=\"\" stroke-linecap=\"butt\" stroke-linejoin=\"miter\" stroke-miterlimit=\"10\" clip-path=\"none\"></path><path d=\"M 80 60.5 L 75 60.5\" fill=\"none\" stroke=\"#333\" stroke-width=\"1\" paint-order=\"fill\" stroke-opacity=\"1\" stroke-dasharray=\"\" stroke-linecap=\"butt\" stroke-linejoin=\"miter\" stroke-miterlimit=\"10\" clip-path=\"none\"></path><path d=\"M 80.5 340 L 80.5 345\" fill=\"none\" stroke=\"#333\" stroke-width=\"1\" paint-order=\"fill\" stroke-opacity=\"1\" stroke-dasharray=\"\" stroke-linecap=\"butt\" stroke-linejoin=\"miter\" stroke-miterlimit=\"10\" clip-path=\"none\"></path><path d=\"M 80.5 340 L 80.5 345\" fill=\"none\" stroke=\"#333\" stroke-width=\"1\" paint-order=\"fill\" stroke-opacity=\"1\" stroke-dasharray=\"\" stroke-linecap=\"butt\" stroke-linejoin=\"miter\" stroke-miterlimit=\"10\" clip-path=\"none\"></path><text alignment-baseline=\"middle\" x=\"0\" y=\"0\" fill=\"#333\" fill-opacity=\"1\" stroke=\"none\" transform=\"matrix(1,2.4492937051703357e-16,-2.4492937051703357e-16,1,72,340)\" clip-path=\"none\" style=\"font-style: normal; font-variant: normal; font-weight: normal; font-size: 12px; line-height: normal; font-family: 'Microsoft YaHei';\"><tspan alignment-baseline=\"middle\" text-anchor=\"end\" x=\"0\" y=\"0\">0 </tspan></text><text alignment-baseline=\"middle\" x=\"0\" y=\"0\" fill=\"#333\" fill-opacity=\"1\" stroke=\"none\" transform=\"matrix(1,2.4492937051703357e-16,-2.4492937051703357e-16,1,72,284)\" clip-path=\"none\" style=\"font-style: normal; font-variant: normal; font-weight: normal; font-size: 12px; line-height: normal; font-family: 'Microsoft YaHei';\"><tspan alignment-baseline=\"middle\" text-anchor=\"end\" x=\"0\" y=\"0\">0.2 </tspan></text><text alignment-baseline=\"middle\" x=\"0\" y=\"0\" fill=\"#333\" fill-opacity=\"1\" stroke=\"none\" transform=\"matrix(1,2.4492937051703357e-16,-2.4492937051703357e-16,1,72,228)\" clip-path=\"none\" style=\"font-style: normal; font-variant: normal; font-weight: normal; font-size: 12px; line-height: normal; font-family: 'Microsoft YaHei';\"><tspan alignment-baseline=\"middle\" text-anchor=\"end\" x=\"0\" y=\"0\">0.4 </tspan></text><text alignment-baseline=\"middle\" x=\"0\" y=\"0\" fill=\"#333\" fill-opacity=\"1\" stroke=\"none\" transform=\"matrix(1,2.4492937051703357e-16,-2.4492937051703357e-16,1,72,172)\" clip-path=\"none\" style=\"font-style: normal; font-variant: normal; font-weight: normal; font-size: 12px; line-height: normal; font-family: 'Microsoft YaHei';\"><tspan alignment-baseline=\"middle\" text-anchor=\"end\" x=\"0\" y=\"0\">0.6 </tspan></text><text alignment-baseline=\"middle\" x=\"0\" y=\"0\" fill=\"#333\" fill-opacity=\"1\" stroke=\"none\" transform=\"matrix(1,2.4492937051703357e-16,-2.4492937051703357e-16,1,72,116)\" clip-path=\"none\" style=\"font-style: normal; font-variant: normal; font-weight: normal; font-size: 12px; line-height: normal; font-family: 'Microsoft YaHei';\"><tspan alignment-baseline=\"middle\" text-anchor=\"end\" x=\"0\" y=\"0\">0.8 </tspan></text><text alignment-baseline=\"middle\" x=\"0\" y=\"0\" fill=\"#333\" fill-opacity=\"1\" stroke=\"none\" transform=\"matrix(1,2.4492937051703357e-16,-2.4492937051703357e-16,1,72,60)\" clip-path=\"none\" style=\"font-style: normal; font-variant: normal; font-weight: normal; font-size: 12px; line-height: normal; font-family: 'Microsoft YaHei';\"><tspan alignment-baseline=\"middle\" text-anchor=\"end\" x=\"0\" y=\"0\">1 </tspan></text><text alignment-baseline=\"hanging\" x=\"0\" y=\"0\" fill=\"#333\" fill-opacity=\"1\" stroke=\"none\" transform=\"matrix(1,0,0,1,400,348)\" clip-path=\"none\" style=\"font-style: normal; font-variant: normal; font-weight: normal; font-size: 12px; line-height: normal; font-family: 'Microsoft YaHei';\"><tspan alignment-baseline=\"hanging\" text-anchor=\"middle\" x=\"0\" y=\"0\">all_sucess_pr</tspan></text><path d=\"M 144 340 L 180.57139999999998 340 L 180.57139999999998 113.19999999999999 L 144 113.19999999999999 L 144 340 Z\" fill=\"#c23531\" fill-opacity=\"undefined\" stroke=\"none\" clip-path=\"none\"></path><path d=\"M 191.5429 340 L 228.11430000000001 340 L 228.11430000000001 62.566700000000026 L 191.5429 62.566700000000026 L 191.5429 340 Z\" fill=\"#2f4554\" fill-opacity=\"undefined\" stroke=\"none\" clip-path=\"none\"></path><path d=\"M 239.0857 340 L 275.6571 340 L 275.6571 155.2 L 239.0857 155.2 L 239.0857 340 Z\" fill=\"#61a0a8\" fill-opacity=\"undefined\" stroke=\"none\" clip-path=\"none\"></path><path d=\"M 286.6286 340 L 323.2 340 L 323.2 67.93329999999997 L 286.6286 67.93329999999997 L 286.6286 340 Z\" fill=\"#d48265\" fill-opacity=\"undefined\" stroke=\"none\" clip-path=\"none\"></path><path d=\"M 334.1714 340 L 370.7428 340 L 370.7428 61.16669999999999 L 334.1714 61.16669999999999 L 334.1714 340 Z\" fill=\"#749f83\" fill-opacity=\"undefined\" stroke=\"none\" clip-path=\"none\"></path><path d=\"M 381.7143 340 L 418.28569999999996 340 L 418.28569999999996 314.6833 L 381.7143 314.6833 L 381.7143 340 Z\" fill=\"#ca8622\" fill-opacity=\"undefined\" stroke=\"none\" clip-path=\"none\"></path><path d=\"M 429.2571 340 L 465.82849999999996 340 L 465.82849999999996 70.9667 L 429.2571 70.9667 L 429.2571 340 Z\" fill=\"#bda29a\" fill-opacity=\"undefined\" stroke=\"none\" clip-path=\"none\"></path><path d=\"M 476.8 340 L 513.3714 340 L 513.3714 62.10000000000002 L 476.8 62.10000000000002 L 476.8 340 Z\" fill=\"#6e7074\" fill-opacity=\"undefined\" stroke=\"none\" clip-path=\"none\"></path><path d=\"M 524.3429 340 L 560.9143 340 L 560.9143 71.7833 L 524.3429 71.7833 L 524.3429 340 Z\" fill=\"#546570\" fill-opacity=\"undefined\" stroke=\"none\" clip-path=\"none\"></path><path d=\"M 571.8857 340 L 608.4571000000001 340 L 608.4571000000001 64.66669999999999 L 571.8857 64.66669999999999 L 571.8857 340 Z\" fill=\"#c4ccd3\" fill-opacity=\"undefined\" stroke=\"none\" clip-path=\"none\"></path><path d=\"M 619.4286 340 L 656 340 L 656 104.42670000000001 L 619.4286 104.42670000000001 L 619.4286 340 Z\" fill=\"#f05b72\" fill-opacity=\"undefined\" stroke=\"none\" clip-path=\"none\"></path><path d=\"M -5 -5 L 788 -5 L 788 67 L -5 67 L -5 -5 Z\" fill=\"rgba(0,0,0,0)\" fill-opacity=\"1\" stroke=\"#ccc\" stroke-width=\"0\" paint-order=\"fill\" stroke-opacity=\"1\" stroke-dasharray=\"\" stroke-linecap=\"butt\" stroke-linejoin=\"miter\" stroke-miterlimit=\"10\" transform=\"matrix(1,0,0,1,8.5,5)\" clip-path=\"none\"></path><path d=\"M 3.5 0 L 21.5 0 A 3.5 3.5 0 0 1 25 3.5 L 25 10.5 A 3.5 3.5 0 0 1 21.5 14 L 3.5 14 A 3.5 3.5 0 0 1 0 10.5 L 0 3.5 A 3.5 3.5 0 0 1 3.5 0 Z\" fill=\"#c23531\" fill-opacity=\"1\" stroke=\"none\" transform=\"matrix(1,0,0,1,8.5,5)\" clip-path=\"none\"></path><text alignment-baseline=\"middle\" x=\"30\" y=\"7\" fill=\"#333\" fill-opacity=\"1\" stroke=\"none\" transform=\"matrix(1,0,0,1,8.5,5)\" clip-path=\"none\" style=\"font-style: normal; font-variant: normal; font-weight: normal; font-size: 12px; line-height: normal; font-family: 'Microsoft YaHei';\"><tspan alignment-baseline=\"middle\" text-anchor=\"start\" x=\"30\" y=\"7\">http://109.74.141.110:55367</tspan></text><path d=\"M 3.5 0 L 21.5 0 A 3.5 3.5 0 0 1 25 3.5 L 25 10.5 A 3.5 3.5 0 0 1 21.5 14 L 3.5 14 A 3.5 3.5 0 0 1 0 10.5 L 0 3.5 A 3.5 3.5 0 0 1 3.5 0 Z\" fill=\"#2f4554\" fill-opacity=\"1\" stroke=\"none\" transform=\"matrix(1,0,0,1,208.5,5)\" clip-path=\"none\"></path><text alignment-baseline=\"middle\" x=\"30\" y=\"7\" fill=\"#333\" fill-opacity=\"1\" stroke=\"none\" transform=\"matrix(1,0,0,1,208.5,5)\" clip-path=\"none\" style=\"font-style: normal; font-variant: normal; font-weight: normal; font-size: 12px; line-height: normal; font-family: 'Microsoft YaHei';\"><tspan alignment-baseline=\"middle\" text-anchor=\"start\" x=\"30\" y=\"7\">http://134.249.142.122:36602</tspan></text><path d=\"M 3.5 0 L 21.5 0 A 3.5 3.5 0 0 1 25 3.5 L 25 10.5 A 3.5 3.5 0 0 1 21.5 14 L 3.5 14 A 3.5 3.5 0 0 1 0 10.5 L 0 3.5 A 3.5 3.5 0 0 1 3.5 0 Z\" fill=\"#61a0a8\" fill-opacity=\"1\" stroke=\"none\" transform=\"matrix(1,0,0,1,415.5,5)\" clip-path=\"none\"></path><text alignment-baseline=\"middle\" x=\"30\" y=\"7\" fill=\"#333\" fill-opacity=\"1\" stroke=\"none\" transform=\"matrix(1,0,0,1,415.5,5)\" clip-path=\"none\" style=\"font-style: normal; font-variant: normal; font-weight: normal; font-size: 12px; line-height: normal; font-family: 'Microsoft YaHei';\"><tspan alignment-baseline=\"middle\" text-anchor=\"start\" x=\"30\" y=\"7\">http://173.214.223.167:48394</tspan></text><path d=\"M 3.5 0 L 21.5 0 A 3.5 3.5 0 0 1 25 3.5 L 25 10.5 A 3.5 3.5 0 0 1 21.5 14 L 3.5 14 A 3.5 3.5 0 0 1 0 10.5 L 0 3.5 A 3.5 3.5 0 0 1 3.5 0 Z\" fill=\"#d48265\" fill-opacity=\"1\" stroke=\"none\" transform=\"matrix(1,0,0,1,8.5,29)\" clip-path=\"none\"></path><text alignment-baseline=\"middle\" x=\"30\" y=\"7\" fill=\"#333\" fill-opacity=\"1\" stroke=\"none\" transform=\"matrix(1,0,0,1,8.5,29)\" clip-path=\"none\" style=\"font-style: normal; font-variant: normal; font-weight: normal; font-size: 12px; line-height: normal; font-family: 'Microsoft YaHei';\"><tspan alignment-baseline=\"middle\" text-anchor=\"start\" x=\"30\" y=\"7\">http://176.235.99.196:58224</tspan></text><path d=\"M 3.5 0 L 21.5 0 A 3.5 3.5 0 0 1 25 3.5 L 25 10.5 A 3.5 3.5 0 0 1 21.5 14 L 3.5 14 A 3.5 3.5 0 0 1 0 10.5 L 0 3.5 A 3.5 3.5 0 0 1 3.5 0 Z\" fill=\"#749f83\" fill-opacity=\"1\" stroke=\"none\" transform=\"matrix(1,0,0,1,208.5,29)\" clip-path=\"none\"></path><text alignment-baseline=\"middle\" x=\"30\" y=\"7\" fill=\"#333\" fill-opacity=\"1\" stroke=\"none\" transform=\"matrix(1,0,0,1,208.5,29)\" clip-path=\"none\" style=\"font-style: normal; font-variant: normal; font-weight: normal; font-size: 12px; line-height: normal; font-family: 'Microsoft YaHei';\"><tspan alignment-baseline=\"middle\" text-anchor=\"start\" x=\"30\" y=\"7\">http://213.111.218.46:48581</tspan></text><path d=\"M 3.5 0 L 21.5 0 A 3.5 3.5 0 0 1 25 3.5 L 25 10.5 A 3.5 3.5 0 0 1 21.5 14 L 3.5 14 A 3.5 3.5 0 0 1 0 10.5 L 0 3.5 A 3.5 3.5 0 0 1 3.5 0 Z\" fill=\"#ca8622\" fill-opacity=\"1\" stroke=\"none\" transform=\"matrix(1,0,0,1,408.5,29)\" clip-path=\"none\"></path><text alignment-baseline=\"middle\" x=\"30\" y=\"7\" fill=\"#333\" fill-opacity=\"1\" stroke=\"none\" transform=\"matrix(1,0,0,1,408.5,29)\" clip-path=\"none\" style=\"font-style: normal; font-variant: normal; font-weight: normal; font-size: 12px; line-height: normal; font-family: 'Microsoft YaHei';\"><tspan alignment-baseline=\"middle\" text-anchor=\"start\" x=\"30\" y=\"7\">http://216.21.162.200:54288</tspan></text><path d=\"M 3.5 0 L 21.5 0 A 3.5 3.5 0 0 1 25 3.5 L 25 10.5 A 3.5 3.5 0 0 1 21.5 14 L 3.5 14 A 3.5 3.5 0 0 1 0 10.5 L 0 3.5 A 3.5 3.5 0 0 1 3.5 0 Z\" fill=\"#bda29a\" fill-opacity=\"1\" stroke=\"none\" transform=\"matrix(1,0,0,1,608.5,29)\" clip-path=\"none\"></path><text alignment-baseline=\"middle\" x=\"30\" y=\"7\" fill=\"#333\" fill-opacity=\"1\" stroke=\"none\" transform=\"matrix(1,0,0,1,608.5,29)\" clip-path=\"none\" style=\"font-style: normal; font-variant: normal; font-weight: normal; font-size: 12px; line-height: normal; font-family: 'Microsoft YaHei';\"><tspan alignment-baseline=\"middle\" text-anchor=\"start\" x=\"30\" y=\"7\">http://36.37.222.137:38327</tspan></text><path d=\"M 3.5 0 L 21.5 0 A 3.5 3.5 0 0 1 25 3.5 L 25 10.5 A 3.5 3.5 0 0 1 21.5 14 L 3.5 14 A 3.5 3.5 0 0 1 0 10.5 L 0 3.5 A 3.5 3.5 0 0 1 3.5 0 Z\" fill=\"#6e7074\" fill-opacity=\"1\" stroke=\"none\" transform=\"matrix(1,0,0,1,8.5,53)\" clip-path=\"none\"></path><text alignment-baseline=\"middle\" x=\"30\" y=\"7\" fill=\"#333\" fill-opacity=\"1\" stroke=\"none\" transform=\"matrix(1,0,0,1,8.5,53)\" clip-path=\"none\" style=\"font-style: normal; font-variant: normal; font-weight: normal; font-size: 12px; line-height: normal; font-family: 'Microsoft YaHei';\"><tspan alignment-baseline=\"middle\" text-anchor=\"start\" x=\"30\" y=\"7\">http://74.15.191.160:57106</tspan></text><path d=\"M 3.5 0 L 21.5 0 A 3.5 3.5 0 0 1 25 3.5 L 25 10.5 A 3.5 3.5 0 0 1 21.5 14 L 3.5 14 A 3.5 3.5 0 0 1 0 10.5 L 0 3.5 A 3.5 3.5 0 0 1 3.5 0 Z\" fill=\"#546570\" fill-opacity=\"1\" stroke=\"none\" transform=\"matrix(1,0,0,1,201.5,53)\" clip-path=\"none\"></path><text alignment-baseline=\"middle\" x=\"30\" y=\"7\" fill=\"#333\" fill-opacity=\"1\" stroke=\"none\" transform=\"matrix(1,0,0,1,201.5,53)\" clip-path=\"none\" style=\"font-style: normal; font-variant: normal; font-weight: normal; font-size: 12px; line-height: normal; font-family: 'Microsoft YaHei';\"><tspan alignment-baseline=\"middle\" text-anchor=\"start\" x=\"30\" y=\"7\">http://80.242.45.119:47750</tspan></text><path d=\"M 3.5 0 L 21.5 0 A 3.5 3.5 0 0 1 25 3.5 L 25 10.5 A 3.5 3.5 0 0 1 21.5 14 L 3.5 14 A 3.5 3.5 0 0 1 0 10.5 L 0 3.5 A 3.5 3.5 0 0 1 3.5 0 Z\" fill=\"#c4ccd3\" fill-opacity=\"1\" stroke=\"none\" transform=\"matrix(1,0,0,1,394.5,53)\" clip-path=\"none\"></path><text alignment-baseline=\"middle\" x=\"30\" y=\"7\" fill=\"#333\" fill-opacity=\"1\" stroke=\"none\" transform=\"matrix(1,0,0,1,394.5,53)\" clip-path=\"none\" style=\"font-style: normal; font-variant: normal; font-weight: normal; font-size: 12px; line-height: normal; font-family: 'Microsoft YaHei';\"><tspan alignment-baseline=\"middle\" text-anchor=\"start\" x=\"30\" y=\"7\">http://91.76.144.123:45249</tspan></text><path d=\"M 3.5 0 L 21.5 0 A 3.5 3.5 0 0 1 25 3.5 L 25 10.5 A 3.5 3.5 0 0 1 21.5 14 L 3.5 14 A 3.5 3.5 0 0 1 0 10.5 L 0 3.5 A 3.5 3.5 0 0 1 3.5 0 Z\" fill=\"#f05b72\" fill-opacity=\"1\" stroke=\"none\" transform=\"matrix(1,0,0,1,587.5,53)\" clip-path=\"none\"></path><text alignment-baseline=\"middle\" x=\"30\" y=\"7\" fill=\"#333\" fill-opacity=\"1\" stroke=\"none\" transform=\"matrix(1,0,0,1,587.5,53)\" clip-path=\"none\" style=\"font-style: normal; font-variant: normal; font-weight: normal; font-size: 12px; line-height: normal; font-family: 'Microsoft YaHei';\"><tspan alignment-baseline=\"middle\" text-anchor=\"start\" x=\"30\" y=\"7\">all_sucess_pr</tspan></text><path d=\"M -15 -15 L 15 -15 L 15 237.7663 L -15 237.7663 L -15 -15 Z\" fill=\"rgba(0, 0, 0, 0.002)\" fill-opacity=\"1\" stroke=\"#ccc\" stroke-width=\"0\" paint-order=\"fill\" stroke-opacity=\"1\" stroke-dasharray=\"\" stroke-linecap=\"butt\" stroke-linejoin=\"miter\" stroke-miterlimit=\"10\" transform=\"matrix(1,0,0,1,775,88.61686706542969)\" clip-path=\"none\"></path><path d=\"M -6.4526 -1.5776 L -0.0905 4.2672 L 6.4784 -1.4483 M -6.4784 3.7759 L -6.4784 7.5 L 6.2457 7.5 L 6.2457 3.7759 M -0.1164 4.1638 L -0.1164 -7.5\" fill=\"none\" stroke=\"#666\" stroke-width=\"1\" paint-order=\"fill\" stroke-opacity=\"1\" stroke-dasharray=\"\" stroke-linecap=\"butt\" stroke-linejoin=\"miter\" stroke-miterlimit=\"10\" transform=\"matrix(1,0,0,1,775,88.61686706542969)\" clip-path=\"none\"></path><path d=\"M -6.9994 0.9083 M 4.5416 -2.9654 L 7.1597 -2.9654 L 7.1597 -5.6904 M 7.0261 -2.6448 C 5.9041 -5.6102 2.8051 -7.8543 -0.8549 -7.4536 C -4.6485 -7.0261 -7.5872 -3.6867 -7.4536 0.1603 M -4.5416 2.9654 L -7.1864 2.9654 L -7.1864 5.6904 M -7.0261 2.6448 C -5.9041 5.6102 -2.8051 7.8543 0.8549 7.4536 C 4.6485 7.0261 7.5872 3.6867 7.4536 -0.1603\" fill=\"none\" stroke=\"#666\" stroke-width=\"1\" paint-order=\"fill\" stroke-opacity=\"1\" stroke-dasharray=\"\" stroke-linecap=\"butt\" stroke-linejoin=\"miter\" stroke-miterlimit=\"10\" transform=\"matrix(1,0,0,1,775,116.61686706542969)\" clip-path=\"none\"></path><path d=\"M -3.683 -3.4018 L 0.4687 -3.4018 M -3.683 -3.4018 L 0.4687 -3.4018 M 3.7902 -0.1339 L -3.7098 -0.1339 M -5.2902 -7.5 L -5.2902 7.5 L 5.2902 7.5 L 5.2902 -4.0714 L 1.9152 -7.5 L -5.2902 -7.5 Z M 1.9152 -7.4464 L 1.9152 -4.0446 L 5.2902 -4.0446 M 3.7902 3.1339 L -3.7098 3.1339\" fill=\"none\" stroke=\"#666\" stroke-width=\"1\" paint-order=\"fill\" stroke-opacity=\"1\" stroke-dasharray=\"\" stroke-linecap=\"butt\" stroke-linejoin=\"miter\" stroke-miterlimit=\"10\" transform=\"matrix(1,0,0,1,775,144.6168670654297)\" clip-path=\"none\"></path><path d=\"M -7.5 -1.036 L -5.428 -1.036 L -2.714 -7.4562 L -0.5545 3.6333 L 2.2763 -2.1158 L 3.1518 1.6196 L 7.5 1.6196 M -7.5 7.4562 L 7.5 7.4562\" fill=\"none\" stroke=\"#666\" stroke-width=\"1\" paint-order=\"fill\" stroke-opacity=\"1\" stroke-dasharray=\"\" stroke-linecap=\"butt\" stroke-linejoin=\"miter\" stroke-miterlimit=\"10\" transform=\"matrix(1,0,0,1,775,172.57308959960938)\" clip-path=\"none\"></path><path d=\"M -6.2277 -1.9018 L -3.5491 -1.9018 L -3.5491 4.8214 L -6.2277 4.8214 L -6.2277 -1.9018 Z M -1.3527 -4.5536 L 1.3259 -4.5536 L 1.3259 4.8214 L -1.3527 4.8214 L -1.3527 -4.5536 Z M 3.5491 -7.5 L 6.2277 -7.5 L 6.2277 4.8214 L 3.5491 4.8214 L 3.5491 -7.5 Z M -7.192 7.5 L 7.192 7.5\" fill=\"none\" stroke=\"#666\" stroke-width=\"1\" paint-order=\"fill\" stroke-opacity=\"1\" stroke-dasharray=\"\" stroke-linecap=\"butt\" stroke-linejoin=\"miter\" stroke-miterlimit=\"10\" transform=\"matrix(1,0,0,1,775,200.52932739257812)\" clip-path=\"none\"></path><path d=\"M -5.407 2.093 L -7.5 3.1146 L 0.1246 6.9269 L 7.5 3.1146 L 5.4817 2.093 L 0.1246 4.8339 L -5.407 2.093 Z M 5.4817 0 L 3.4635 1.0465 L 0.1246 2.7658 L -3.3389 1.0465 L -5.407 0 L -7.5 1.0465 L -5.407 2.093 L 0.1246 4.8339 L 5.4817 2.093 L 7.5 1.0465 L 5.4817 0 Z M 5.4817 -2.0681 L 3.4635 -1.0216 L 1.4452 0 L 0.1246 0.6977 L -1.2458 0 L -3.3389 -1.0216 L -5.407 -2.0681 L -7.5 -1.0216 L -5.407 0 L -3.3389 1.0465 L 0.1246 2.7658 L 3.4635 1.0465 L 5.4817 0 L 7.5 -1.0216 L 5.4817 -2.0681 Z M 0.1246 -6.9269 L -7.5 -3.1146 L -5.407 -2.093 L -3.3389 -1.0465 L -1.2458 0 L 0.1246 0.6728 L 1.4452 0 L 3.4635 -1.0465 L 5.4817 -2.093 L 7.5 -3.1146 L 0.1246 -6.9269 Z\" fill=\"none\" stroke=\"#666\" stroke-width=\"1\" paint-order=\"fill\" stroke-opacity=\"1\" stroke-dasharray=\"\" stroke-linecap=\"butt\" stroke-linejoin=\"miter\" stroke-miterlimit=\"10\" transform=\"matrix(1,0,0,1,775,227.9562225341797)\" clip-path=\"none\"></path><path d=\"M -7.4865 -7.5 L -1.3354 -7.5 L -1.3354 -1.3489 L -7.4865 -1.3489 L -7.4865 -7.5 Z M 1.3354 -7.5 L 7.4865 -7.5 L 7.4865 -1.3489 L 1.3354 -1.3489 L 1.3354 -7.5 Z M -7.4865 1.3489 L -1.3354 1.3489 L -1.3354 7.5 L -7.4865 7.5 L -7.4865 1.3489 Z M 1.3354 1.3489 L 7.4865 1.3489 L 7.4865 7.5 L 1.3354 7.5 L 1.3354 1.3489 Z\" fill=\"none\" stroke=\"#666\" stroke-width=\"1\" paint-order=\"fill\" stroke-opacity=\"1\" stroke-dasharray=\"\" stroke-linecap=\"butt\" stroke-linejoin=\"miter\" stroke-miterlimit=\"10\" transform=\"matrix(1,0,0,1,775,255.3831329345703)\" clip-path=\"none\"></path><path d=\"M -7.5 -4.0086 L -0.5431 -4.0086 M -4.0086 -0.5431 L -4.0086 -7.5 M 0.8017 -4.0086 L 7.5 -4.0086 L 7.5 7.5 L -4.0086 7.5 L -4.0086 0.8017\" fill=\"none\" stroke=\"#666\" stroke-width=\"1\" paint-order=\"fill\" stroke-opacity=\"1\" stroke-dasharray=\"\" stroke-linecap=\"butt\" stroke-linejoin=\"miter\" stroke-miterlimit=\"10\" transform=\"matrix(1,0,0,1,775,283.38311767578125)\" clip-path=\"none\"></path><path d=\"M -2.7513 -7.5 L -5.9524 -4.2989 L -2.6984 -1.045 M -5.8466 -4.2989 L 5.9524 -4.2989 L 5.9524 7.5 L -5.8466 7.5 L -5.8466 0.6217\" fill=\"none\" stroke=\"#666\" stroke-width=\"1\" paint-order=\"fill\" stroke-opacity=\"1\" stroke-dasharray=\"\" stroke-linecap=\"butt\" stroke-linejoin=\"miter\" stroke-miterlimit=\"10\" transform=\"matrix(1,0,0,1,775,311.38311767578125)\" clip-path=\"none\"></path><path d=\"M -5 -5 L 89 -5 L 89 45 L -5 45 L -5 -5 Z\" fill=\"rgba(0,0,0,0)\" fill-opacity=\"1\" stroke=\"#ccc\" stroke-width=\"0\" paint-order=\"fill\" stroke-opacity=\"1\" stroke-dasharray=\"\" stroke-linecap=\"butt\" stroke-linejoin=\"miter\" stroke-miterlimit=\"10\" transform=\"matrix(1,0,0,1,5,5)\" clip-path=\"none\"></path><text alignment-baseline=\"hanging\" x=\"0\" y=\"0\" fill=\"#333\" fill-opacity=\"1\" stroke=\"none\" transform=\"matrix(1,0,0,1,5,5)\" clip-path=\"none\" style=\"font-style: normal; font-weight: bolder; font-variant: normal; font-size: 18px; line-height: normal; font-family: 'Microsoft YaHei';\"><tspan alignment-baseline=\"hanging\" text-anchor=\"start\" x=\"0\" y=\"0\">data_anly</tspan></text><text alignment-baseline=\"hanging\" x=\"0\" y=\"28\" fill=\"#aaa\" fill-opacity=\"1\" stroke=\"none\" transform=\"matrix(1,0,0,1,5,5)\" clip-path=\"none\" style=\"font-style: normal; font-variant: normal; font-weight: normal; font-size: 12px; line-height: normal; font-family: 'Microsoft YaHei';\"><tspan alignment-baseline=\"hanging\" text-anchor=\"start\" x=\"0\" y=\"28\">Theme</tspan></text></svg>\n"
      ],
      "text/plain": [
       "<pyecharts.charts.bar.Bar at 0x1d3e0b61550>"
      ]
     },
     "execution_count": 11,
     "metadata": {},
     "output_type": "execute_result"
    }
   ],
   "source": [
    "proxies_ret=[]\n",
    "for (proxies_http,status_code),code_count in gy_pd_daxiang.items():\n",
    "    ret={'proxies_http':proxies_http,'status_code':status_code,'code_count':code_count}\n",
    "    proxies_ret.append(ret)\n",
    "pd_proxies_ret=pd.DataFrame(x for x in proxies_ret)\n",
    "pd_proxies_ret['req_pr']=pd_proxies_ret['code_count']/2400\n",
    "pri_tu(pd_proxies_ret.loc[pd_proxies_ret.status_code.values==200,:])"
   ]
  },
  {
   "cell_type": "markdown",
   "metadata": {},
   "source": [
    "### 测试二\n",
    "#### 1、随机使用代理池程序获得当前有效高匿ip10个，IP稳定>100分钟\n",
    "#### 2、每个ip持续请求2400次，每秒执行2次请求 www.baidu.com 查询，总持续时长4小时\n",
    "#### 3、分析每个ip失败率\n",
    "#### 4、分析总失败率"
   ]
  },
  {
   "cell_type": "code",
   "execution_count": null,
   "metadata": {
    "collapsed": true
   },
   "outputs": [],
   "source": [
    "pd_daxiang=pd.read_csv('Z:/spyproject/IPProxyPool/daxiang1.csv')"
   ]
  },
  {
   "cell_type": "code",
   "execution_count": null,
   "metadata": {
    "collapsed": true
   },
   "outputs": [],
   "source": [
    "gy_pd_daxiang=pd_daxiang.groupby(['proxies_http','status_code'])['url'].count()\n",
    "gy_pd_daxiang"
   ]
  },
  {
   "cell_type": "code",
   "execution_count": null,
   "metadata": {
    "collapsed": true
   },
   "outputs": [],
   "source": [
    "proxies_ret=[]\n",
    "for (proxies_http,status_code),code_count in gy_pd_daxiang.items():\n",
    "    ret={'proxies_http':proxies_http,'status_code':status_code,'code_count':code_count}\n",
    "    proxies_ret.append(ret)\n",
    "pd_proxies_ret=pd.DataFrame(x for x in proxies_ret)\n",
    "pd_proxies_ret['req_pr']=pd_proxies_ret['code_count']/2400\n",
    "pri_tu(pd_proxies_ret.loc[pd_proxies_ret.status_code.values==200,:])"
   ]
  },
  {
   "cell_type": "code",
   "execution_count": null,
   "metadata": {
    "collapsed": true
   },
   "outputs": [],
   "source": []
  }
 ],
 "metadata": {
  "kernelspec": {
   "display_name": "Python 3",
   "language": "python",
   "name": "python3"
  },
  "language_info": {
   "codemirror_mode": {
    "name": "ipython",
    "version": 3
   },
   "file_extension": ".py",
   "mimetype": "text/x-python",
   "name": "python",
   "nbconvert_exporter": "python",
   "pygments_lexer": "ipython3",
   "version": "3.6.4"
  }
 },
 "nbformat": 4,
 "nbformat_minor": 2
}
