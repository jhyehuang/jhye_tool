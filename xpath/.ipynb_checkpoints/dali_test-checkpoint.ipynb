{
 "cells": [
  {
   "cell_type": "code",
   "execution_count": 1,
   "metadata": {
    "collapsed": true
   },
   "outputs": [],
   "source": [
    "from lxml import etree\n",
    "import requests\n",
    "import chardet\n"
   ]
  },
  {
   "cell_type": "code",
   "execution_count": 37,
   "metadata": {
    "collapsed": true
   },
   "outputs": [],
   "source": [
    "from urllib.parse import urlencode #Python内置的HTTP请求库 \n",
    "def get_page(): \n",
    "    params = { \n",
    "        'tid': '557826366516472',\n",
    "        'num': 50,\n",
    "        'format':'json',\n",
    "        'longlife': 20,}\n",
    "    url = 'http://tpv.daxiangdaili.com/ip/?'+ urlencode(params) #拼接UR\n",
    "    r = requests.get(url)\n",
    "    if r.status_code == 200:\n",
    "        return r.json()  # 返回json格式的响应内容\n",
    "    "
   ]
  },
  {
   "cell_type": "code",
   "execution_count": 38,
   "metadata": {},
   "outputs": [
    {
     "name": "stdout",
     "output_type": "stream",
     "text": [
      "[{\"host\":\"5.140.164.173\",\"port\":44327},{\"host\":\"109.167.113.9\",\"port\":54464},{\"host\":\"85.193.192.59\",\"port\":39409},{\"host\":\"5.141.29.86\",\"port\":39996},{\"host\":\"89.18.183.5\",\"port\":31319},{\"host\":\"202.124.38.218\",\"port\":42229},{\"host\":\"125.24.144.61\",\"port\":42964},{\"host\":\"182.253.35.70\",\"port\":8080},{\"host\":\"77.77.209.58\",\"port\":55112},{\"host\":\"95.170.159.118\",\"port\":50090},{\"host\":\"114.34.168.157\",\"port\":60522},{\"host\":\"118.174.234.160\",\"port\":44583},{\"host\":\"188.120.19.71\",\"port\":54844},{\"host\":\"88.204.59.177\",\"port\":61119},{\"host\":\"178.169.196.87\",\"port\":53554},{\"host\":\"46.229.250.111\",\"port\":37591},{\"host\":\"180.94.89.148\",\"port\":8080},{\"host\":\"221.236.163.26\",\"port\":52342},{\"host\":\"103.19.56.202\",\"port\":42010},{\"host\":\"195.34.240.145\",\"port\":61599},{\"host\":\"110.74.195.36\",\"port\":50751},{\"host\":\"91.203.179.87\",\"port\":38522},{\"host\":\"46.249.76.125\",\"port\":57926},{\"host\":\"110.93.76.60\",\"port\":33726},{\"host\":\"95.140.31.33\",\"port\":40504},{\"host\":\"124.81.108.146\",\"port\":53680},{\"host\":\"31.132.127.142\",\"port\":54159},{\"host\":\"58.10.204.36\",\"port\":30068},{\"host\":\"46.249.157.50\",\"port\":40237},{\"host\":\"103.9.188.191\",\"port\":43795},{\"host\":\"93.170.247.122\",\"port\":52661},{\"host\":\"202.178.123.107\",\"port\":49352},{\"host\":\"212.117.86.172\",\"port\":54788},{\"host\":\"85.93.103.6\",\"port\":52967},{\"host\":\"185.110.136.23\",\"port\":38951},{\"host\":\"193.232.113.244\",\"port\":54773},{\"host\":\"95.140.30.148\",\"port\":40234},{\"host\":\"82.208.148.12\",\"port\":44673},{\"host\":\"118.172.229.231\",\"port\":55753},{\"host\":\"103.75.33.233\",\"port\":58210},{\"host\":\"64.251.31.49\",\"port\":3128},{\"host\":\"203.176.136.66\",\"port\":59432},{\"host\":\"193.106.43.215\",\"port\":58153},{\"host\":\"114.35.113.67\",\"port\":42209},{\"host\":\"93.170.247.153\",\"port\":42454},{\"host\":\"42.115.72.254\",\"port\":8080},{\"host\":\"24.184.88.142\",\"port\":41081},{\"host\":\"113.130.124.8\",\"port\":56814},{\"host\":\"125.25.165.15\",\"port\":49693},{\"host\":\"85.90.163.119\",\"port\":56065}]\n"
     ]
    },
    {
     "data": {
      "text/plain": [
       "[{'host': '5.140.164.173', 'port': 44327},\n",
       " {'host': '109.167.113.9', 'port': 54464},\n",
       " {'host': '85.193.192.59', 'port': 39409},\n",
       " {'host': '5.141.29.86', 'port': 39996},\n",
       " {'host': '89.18.183.5', 'port': 31319},\n",
       " {'host': '202.124.38.218', 'port': 42229},\n",
       " {'host': '125.24.144.61', 'port': 42964},\n",
       " {'host': '182.253.35.70', 'port': 8080},\n",
       " {'host': '77.77.209.58', 'port': 55112},\n",
       " {'host': '95.170.159.118', 'port': 50090},\n",
       " {'host': '114.34.168.157', 'port': 60522},\n",
       " {'host': '118.174.234.160', 'port': 44583},\n",
       " {'host': '188.120.19.71', 'port': 54844},\n",
       " {'host': '88.204.59.177', 'port': 61119},\n",
       " {'host': '178.169.196.87', 'port': 53554},\n",
       " {'host': '46.229.250.111', 'port': 37591},\n",
       " {'host': '180.94.89.148', 'port': 8080},\n",
       " {'host': '221.236.163.26', 'port': 52342},\n",
       " {'host': '103.19.56.202', 'port': 42010},\n",
       " {'host': '195.34.240.145', 'port': 61599},\n",
       " {'host': '110.74.195.36', 'port': 50751},\n",
       " {'host': '91.203.179.87', 'port': 38522},\n",
       " {'host': '46.249.76.125', 'port': 57926},\n",
       " {'host': '110.93.76.60', 'port': 33726},\n",
       " {'host': '95.140.31.33', 'port': 40504},\n",
       " {'host': '124.81.108.146', 'port': 53680},\n",
       " {'host': '31.132.127.142', 'port': 54159},\n",
       " {'host': '58.10.204.36', 'port': 30068},\n",
       " {'host': '46.249.157.50', 'port': 40237},\n",
       " {'host': '103.9.188.191', 'port': 43795},\n",
       " {'host': '93.170.247.122', 'port': 52661},\n",
       " {'host': '202.178.123.107', 'port': 49352},\n",
       " {'host': '212.117.86.172', 'port': 54788},\n",
       " {'host': '85.93.103.6', 'port': 52967},\n",
       " {'host': '185.110.136.23', 'port': 38951},\n",
       " {'host': '193.232.113.244', 'port': 54773},\n",
       " {'host': '95.140.30.148', 'port': 40234},\n",
       " {'host': '82.208.148.12', 'port': 44673},\n",
       " {'host': '118.172.229.231', 'port': 55753},\n",
       " {'host': '103.75.33.233', 'port': 58210},\n",
       " {'host': '64.251.31.49', 'port': 3128},\n",
       " {'host': '203.176.136.66', 'port': 59432},\n",
       " {'host': '193.106.43.215', 'port': 58153},\n",
       " {'host': '114.35.113.67', 'port': 42209},\n",
       " {'host': '93.170.247.153', 'port': 42454},\n",
       " {'host': '42.115.72.254', 'port': 8080},\n",
       " {'host': '24.184.88.142', 'port': 41081},\n",
       " {'host': '113.130.124.8', 'port': 56814},\n",
       " {'host': '125.25.165.15', 'port': 49693},\n",
       " {'host': '85.90.163.119', 'port': 56065}]"
      ]
     },
     "execution_count": 38,
     "metadata": {},
     "output_type": "execute_result"
    }
   ],
   "source": [
    "get_page()"
   ]
  },
  {
   "cell_type": "code",
   "execution_count": 2,
   "metadata": {
    "collapsed": true
   },
   "outputs": [],
   "source": [
    "heads = {}\n",
    "heads['User-Agent'] = 'Mozilla/5.0 ' \\\n",
    "                          '(Macintosh; U; Intel Mac OS X 10_6_8; en-us) AppleWebKit/534.50 ' \\\n",
    "                          '(KHTML, like Gecko) Version/5.1 Safari/534.50'\n",
    "\n",
    "response = requests.get(url='http://www.data5u.com/free/index.html',headers=heads)\n",
    "root = etree.HTML(response.text)\n"
   ]
  },
  {
   "cell_type": "code",
   "execution_count": 25,
   "metadata": {
    "collapsed": true
   },
   "outputs": [],
   "source": [
    "proxys = root.xpath(\".//div[@class='wlist']/ul/li/ul[@class='l2']\")"
   ]
  },
  {
   "cell_type": "code",
   "execution_count": 26,
   "metadata": {},
   "outputs": [
    {
     "name": "stdout",
     "output_type": "stream",
     "text": [
      "[<Element li at 0x1bb89ba6708>, <Element li at 0x1bb89b95c48>, <Element li at 0x1bb89b959c8>, <Element li at 0x1bb89b95dc8>, <Element li at 0x1bb89b95cc8>, <Element li at 0x1bb89b95e48>, <Element li at 0x1bb89b95288>, <Element li at 0x1bb89b95148>, <Element li at 0x1bb89b953c8>]\n",
      "[<Element li at 0x1bb89ba6708>, <Element li at 0x1bb89b95c48>, <Element li at 0x1bb89b959c8>, <Element li at 0x1bb89b95dc8>, <Element li at 0x1bb89b95cc8>, <Element li at 0x1bb89b95288>, <Element li at 0x1bb89b95148>, <Element li at 0x1bb89b953c8>, <Element li at 0x1bb89b95e08>]\n",
      "[<Element li at 0x1bb89ba6708>, <Element li at 0x1bb89b95c48>, <Element li at 0x1bb89b959c8>, <Element li at 0x1bb89b95dc8>, <Element li at 0x1bb89b95cc8>, <Element li at 0x1bb89b95148>, <Element li at 0x1bb89b953c8>, <Element li at 0x1bb89b95e08>, <Element li at 0x1bb89b95e48>]\n",
      "[<Element li at 0x1bb89ba6708>, <Element li at 0x1bb89b95c48>, <Element li at 0x1bb89b959c8>, <Element li at 0x1bb89b95dc8>, <Element li at 0x1bb89b95cc8>, <Element li at 0x1bb89b953c8>, <Element li at 0x1bb89b95e08>, <Element li at 0x1bb89b95e48>, <Element li at 0x1bb89b95288>]\n",
      "[<Element li at 0x1bb89ba6708>, <Element li at 0x1bb89b95c48>, <Element li at 0x1bb89b959c8>, <Element li at 0x1bb89b95dc8>, <Element li at 0x1bb89b95cc8>, <Element li at 0x1bb89b95e08>, <Element li at 0x1bb89b95e48>, <Element li at 0x1bb89b95288>, <Element li at 0x1bb89b95148>]\n",
      "[<Element li at 0x1bb89ba67c8>, <Element li at 0x1bb89ba6708>, <Element li at 0x1bb89b95c48>, <Element li at 0x1bb89b959c8>, <Element li at 0x1bb89b95dc8>, <Element li at 0x1bb89b95e08>, <Element li at 0x1bb89b95e48>, <Element li at 0x1bb89b95288>, <Element li at 0x1bb89b95148>]\n",
      "[<Element li at 0x1bb89ba67c8>, <Element li at 0x1bb89ba6708>, <Element li at 0x1bb89b95c48>, <Element li at 0x1bb89b959c8>, <Element li at 0x1bb89b95dc8>, <Element li at 0x1bb89b95e48>, <Element li at 0x1bb89b95288>, <Element li at 0x1bb89b95148>, <Element li at 0x1bb89b95cc8>]\n",
      "[<Element li at 0x1bb89ba67c8>, <Element li at 0x1bb89ba6708>, <Element li at 0x1bb89b95c48>, <Element li at 0x1bb89b959c8>, <Element li at 0x1bb89b95dc8>, <Element li at 0x1bb89b95288>, <Element li at 0x1bb89b95148>, <Element li at 0x1bb89b95cc8>, <Element li at 0x1bb89b95e08>]\n",
      "[<Element li at 0x1bb89ba67c8>, <Element li at 0x1bb89ba6708>, <Element li at 0x1bb89b95c48>, <Element li at 0x1bb89b959c8>, <Element li at 0x1bb89b95dc8>, <Element li at 0x1bb89b95148>, <Element li at 0x1bb89b95cc8>, <Element li at 0x1bb89b95e08>, <Element li at 0x1bb89b95e48>]\n",
      "[<Element li at 0x1bb89ba67c8>, <Element li at 0x1bb89ba6708>, <Element li at 0x1bb89b95c48>, <Element li at 0x1bb89b959c8>, <Element li at 0x1bb89b95dc8>, <Element li at 0x1bb89b95cc8>, <Element li at 0x1bb89b95e08>, <Element li at 0x1bb89b95e48>, <Element li at 0x1bb89b95288>]\n",
      "[<Element li at 0x1bb89ba6708>, <Element li at 0x1bb89b95c48>, <Element li at 0x1bb89b959c8>, <Element li at 0x1bb89b95dc8>, <Element li at 0x1bb89b95cc8>, <Element li at 0x1bb89b95e48>, <Element li at 0x1bb89b95288>, <Element li at 0x1bb89b95148>, <Element li at 0x1bb89b953c8>]\n",
      "[<Element li at 0x1bb89ba6708>, <Element li at 0x1bb89b95c48>, <Element li at 0x1bb89b959c8>, <Element li at 0x1bb89b95dc8>, <Element li at 0x1bb89b95cc8>, <Element li at 0x1bb89b95288>, <Element li at 0x1bb89b95148>, <Element li at 0x1bb89b953c8>, <Element li at 0x1bb89b95e08>]\n",
      "[<Element li at 0x1bb89ba6708>, <Element li at 0x1bb89b95c48>, <Element li at 0x1bb89b959c8>, <Element li at 0x1bb89b95dc8>, <Element li at 0x1bb89b95cc8>, <Element li at 0x1bb89b95148>, <Element li at 0x1bb89b953c8>, <Element li at 0x1bb89b95e08>, <Element li at 0x1bb89b95e48>]\n",
      "[<Element li at 0x1bb89ba6708>, <Element li at 0x1bb89b95c48>, <Element li at 0x1bb89b959c8>, <Element li at 0x1bb89b95dc8>, <Element li at 0x1bb89b95cc8>, <Element li at 0x1bb89b953c8>, <Element li at 0x1bb89b95e08>, <Element li at 0x1bb89b95e48>, <Element li at 0x1bb89b95288>]\n",
      "[<Element li at 0x1bb89b95c48>, <Element li at 0x1bb89b959c8>, <Element li at 0x1bb89b95dc8>, <Element li at 0x1bb89b95cc8>, <Element li at 0x1bb89b953c8>, <Element li at 0x1bb89b95e48>, <Element li at 0x1bb89b95288>, <Element li at 0x1bb89b95148>, <Element li at 0x1bb89b95388>]\n"
     ]
    }
   ],
   "source": [
    "for x in proxys:\n",
    "    print(x.xpath('./span/li'))"
   ]
  },
  {
   "cell_type": "code",
   "execution_count": 124,
   "metadata": {},
   "outputs": [
    {
     "name": "stdout",
     "output_type": "stream",
     "text": [
      "[['125.70.13.77', 8080, 10], ['175.148.78.174', 1133, 9], ['118.190.95.35', 9001, 10], ['49.71.81.26', 3128, 10], ['61.183.233.6', 54896, 10]]\n",
      "<html><body><script>function G(str){return document.getElementById(str);}function C(){P.value='';P.name=P.name.substr(0,17)+\"CG\";G(\"p\").submit();}</script><center><div style=\"width:840;\" align=\"left\"><div style=\"text-align:right\"><a href=\"javascript:C();\">Chinese</a></div><div style=\"word-break:break-all;word-wrap:break-word;text-align:center\"><h1>  </h1></div><hr><div style=\"margin-left:4em\"><p>It's possible your PC or network is sending automatic requests. To continue, please enter following characters.</p></div><div style=\"margin-left:4em\"><form id=p action=\"http://ip.chinaz.com/\" method=get onsubmit='return T()'><input id=i name=BD1C26EABB74a6d12EG maxlength=4 onkeyup=T() /><img src=\"BD1C26EABB74a6d12.gif\" /><input type=submit id=s value=OK /></form></div><hr></div></center><script>P=G(\"i\");S=G(\"s\");function R(i){return P.value.charAt(i).charCodeAt();}function t(v,i){v-=R(i);v-=R(i+1);return v%32;}function T(){if(P.value.length<4){S.disabled=1;return false;}S.disabled=0;return true;}</script></body></html>\n"
     ]
    }
   ],
   "source": [
    "import requests\n",
    "import json\n",
    "r = requests.get('http://172.18.19.219:10082/?types=0&count=5&country=国内')\n",
    "ip_ports = json.loads(r.text)\n",
    "print(ip_ports)\n",
    "ip = ip_ports[0][0]\n",
    "port = ip_ports[0][1]\n",
    "proxies={\n",
    "    'http':'http://%s:%s'%(ip,port),\n",
    "    'https':'http://%s:%s'%(ip,port)\n",
    "}\n",
    "r = requests.get('http://ip.chinaz.com/',proxies=proxies)\n",
    "r.encoding='utf-8'\n",
    "print(r.text)"
   ]
  },
  {
   "cell_type": "code",
   "execution_count": null,
   "metadata": {
    "collapsed": true
   },
   "outputs": [],
   "source": []
  }
 ],
 "metadata": {
  "kernelspec": {
   "display_name": "Python 3",
   "language": "python",
   "name": "python3"
  },
  "language_info": {
   "codemirror_mode": {
    "name": "ipython",
    "version": 3
   },
   "file_extension": ".py",
   "mimetype": "text/x-python",
   "name": "python",
   "nbconvert_exporter": "python",
   "pygments_lexer": "ipython3",
   "version": "3.6.3"
  }
 },
 "nbformat": 4,
 "nbformat_minor": 2
}
