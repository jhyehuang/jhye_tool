{
 "cells": [
  {
   "cell_type": "code",
   "execution_count": 98,
   "metadata": {
    "collapsed": true
   },
   "outputs": [],
   "source": [
    "from  lib.mongo_db  import db_conn\n",
    "import pandas as pd\n",
    "import time\n",
    "import numpy as np"
   ]
  },
  {
   "cell_type": "code",
   "execution_count": 108,
   "metadata": {
    "collapsed": true
   },
   "outputs": [],
   "source": [
    "\n",
    "import datetime\n",
    "\n",
    "DATE_DICT = {'1':('01-01', '01-31'),\n",
    "             '2-1':('02-01', '02-28'),\n",
    "             '2-2':('02-01', '02-29'),\n",
    "             '3':('03-01', '03-31'),\n",
    "             '4':('04-01', '04-30'),\n",
    "             '5':('05-01', '05-31'),\n",
    "             '6':('06-01', '06-30'),\n",
    "             '7':('07-01', '07-31'),\n",
    "             '8':('08-01', '08-31'),\n",
    "             '9':('09-01', '09-30'),\n",
    "             '10':('10-01', '10-31'),\n",
    "             '11':('11-01', '11-30'),\n",
    "             '12':('12-01', '12-31')}\n",
    "\n",
    "def generate_dates(months=5):\n",
    "    results = []\n",
    "    today = datetime.datetime.now()\n",
    "\n",
    "    for i in range(0, months+1):\n",
    "        tmp_year = today.year\n",
    "        tmp_month = today.month - i\n",
    "        if tmp_month <= 0:\n",
    "            tmp_month = tmp_month + 12\n",
    "            tmp_year -= 1\n",
    "            target = '%02d' % tmp_month\n",
    "        else:\n",
    "            target = '%02d' % tmp_month\n",
    "        target_start = '{}{}'.format(tmp_year, target)\n",
    "        results.append(target_start)\n",
    "        \n",
    "    return results"
   ]
  },
  {
   "cell_type": "code",
   "execution_count": 109,
   "metadata": {},
   "outputs": [
    {
     "data": {
      "text/plain": [
       "['201809', '201808', '201807', '201806', '201805', '201804']"
      ]
     },
     "execution_count": 109,
     "metadata": {},
     "output_type": "execute_result"
    }
   ],
   "source": [
    "generate_dates()"
   ]
  },
  {
   "cell_type": "code",
   "execution_count": 110,
   "metadata": {
    "collapsed": true
   },
   "outputs": [],
   "source": [
    "def get_data(begin_date,end_date):\n",
    "    data=db_conn.sid_info.find({\"end_time\":{'$gte':begin_date,'$lte':end_date},'status':0,'crawler_channel':{'$exists':False}})\n",
    "    data=pd.DataFrame(line for line in data)\n",
    "    return data"
   ]
  },
  {
   "cell_type": "code",
   "execution_count": 111,
   "metadata": {
    "collapsed": true
   },
   "outputs": [],
   "source": [
    "def c(a,b):\n",
    "    ect=(a in b)\n",
    "    return ect"
   ]
  },
  {
   "cell_type": "code",
   "execution_count": 112,
   "metadata": {},
   "outputs": [],
   "source": [
    "def anly_month_loss(begin_date,end_date):\n",
    "    loss_month=generate_dates()\n",
    "    data=get_data(begin_date,end_date)\n",
    "    for month in loss_month:\n",
    "        data['one_month_loss_'+month]=data['call_log_missing_month_list'].apply(lambda x:c(month,x))\n",
    "    ret_list={}\n",
    "    for i,month in enumerate(loss_month):\n",
    "        ret_list['近第'+str(i+1)+'个月整月缺失详单量']=data.ix[data['one_month_loss_'+month]==True,:].shape[0]\n",
    "    ret_list=[ret_list]\n",
    "    ret=pd.DataFrame(x for x in ret_list)\n",
    "    one_day_date=time.strftime(\"%Y-%m-%d\", time.localtime(begin_date))\n",
    "    print(one_day_date)\n",
    "    ret['日期']=one_day_date\n",
    "    return ret\n",
    "    "
   ]
  },
  {
   "cell_type": "code",
   "execution_count": 115,
   "metadata": {},
   "outputs": [],
   "source": [
    "def month_all_loss_date():\n",
    "    begin_date='20180806'\n",
    "    timeArray = time.strptime(begin_date, \"%Y%m%d\")\n",
    "    begin_date = time.mktime(timeArray)\n",
    "    columns=['日期',]+['近第'+str(i+1)+'个月整月缺失详单量' for i in range(6)]\n",
    "    all_pd=pd.DataFrame(columns=columns)\n",
    "    while(1):\n",
    "        if begin_date>=1536213774:\n",
    "            break\n",
    "        end_date=begin_date+86400\n",
    "        all_ret=anly_month_loss(begin_date,end_date)\n",
    "        all_pd=pd.concat([all_pd,all_ret])\n",
    "        begin_date=end_date\n",
    "    all_pd.to_csv('详单整月缺失数分月统计.csv',columns=columns,index= False)\n"
   ]
  },
  {
   "cell_type": "code",
   "execution_count": 116,
   "metadata": {},
   "outputs": [
    {
     "name": "stderr",
     "output_type": "stream",
     "text": [
      "C:\\ProgramData\\Anaconda3\\lib\\site-packages\\ipykernel_launcher.py:8: DeprecationWarning: \n",
      ".ix is deprecated. Please use\n",
      ".loc for label based indexing or\n",
      ".iloc for positional indexing\n",
      "\n",
      "See the documentation here:\n",
      "http://pandas.pydata.org/pandas-docs/stable/indexing.html#ix-indexer-is-deprecated\n",
      "  \n"
     ]
    },
    {
     "name": "stdout",
     "output_type": "stream",
     "text": [
      "2018-08-06\n",
      "2018-08-07\n",
      "2018-08-08\n",
      "2018-08-09\n",
      "2018-08-10\n",
      "2018-08-11\n",
      "2018-08-12\n",
      "2018-08-13\n",
      "2018-08-14\n",
      "2018-08-15\n",
      "2018-08-16\n",
      "2018-08-17\n",
      "2018-08-18\n",
      "2018-08-19\n",
      "2018-08-20\n",
      "2018-08-21\n",
      "2018-08-22\n",
      "2018-08-23\n",
      "2018-08-24\n",
      "2018-08-25\n",
      "2018-08-26\n",
      "2018-08-27\n",
      "2018-08-28\n",
      "2018-08-29\n",
      "2018-08-30\n",
      "2018-08-31\n",
      "2018-09-01\n",
      "2018-09-02\n",
      "2018-09-03\n",
      "2018-09-04\n",
      "2018-09-05\n",
      "2018-09-06\n"
     ]
    }
   ],
   "source": [
    "month_all_loss_date()"
   ]
  },
  {
   "cell_type": "code",
   "execution_count": null,
   "metadata": {
    "collapsed": true
   },
   "outputs": [],
   "source": []
  }
 ],
 "metadata": {
  "kernelspec": {
   "display_name": "Python 3",
   "language": "python",
   "name": "python3"
  },
  "language_info": {
   "codemirror_mode": {
    "name": "ipython",
    "version": 3
   },
   "file_extension": ".py",
   "mimetype": "text/x-python",
   "name": "python",
   "nbconvert_exporter": "python",
   "pygments_lexer": "ipython3",
   "version": "3.6.3"
  }
 },
 "nbformat": 4,
 "nbformat_minor": 2
}
