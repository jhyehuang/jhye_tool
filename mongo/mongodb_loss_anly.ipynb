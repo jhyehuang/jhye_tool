{
 "cells": [
  {
   "cell_type": "code",
   "execution_count": 14,
   "metadata": {
    "collapsed": true
   },
   "outputs": [],
   "source": [
    "from  lib.mongo_db  import db_conn\n",
    "import pandas as pd\n",
    "import time\n",
    "import numpy as np"
   ]
  },
  {
   "cell_type": "code",
   "execution_count": 64,
   "metadata": {
    "collapsed": true
   },
   "outputs": [],
   "source": [
    "def get_data(begin_date,end_date):\n",
    "    data=db_conn.sid_info.find({\"end_time\":{'$gte':begin_date,'$lte':end_date},'status':0,'crawler_channel':{'$exists':False}})\n",
    "    data=pd.DataFrame(line for line in data)\n",
    "    return data"
   ]
  },
  {
   "cell_type": "code",
   "execution_count": 65,
   "metadata": {
    "collapsed": true
   },
   "outputs": [],
   "source": [
    "def anly_month_loss(begin_date,end_date):\n",
    "    \n",
    "    data=get_data(begin_date,end_date)\n",
    "    data['one_month_loss_len']=data['call_log_missing_month_list'].apply(lambda x:len(x))\n",
    "\n",
    "    _key_codes = data['one_month_loss_len'].values\n",
    "    grp1=data['sid'].groupby(_key_codes)\n",
    "    cnt1 = grp1.agg(np.size)\n",
    "    ret_list=[]\n",
    "    for i in range(6):\n",
    "        ret_list.append([i,cnt1[i]])\n",
    "\n",
    "    ret=pd.DataFrame(np.array(ret_list),columns=['整月缺失数','计数'])\n",
    "    one_day_date=time.strftime(\"%Y-%m-%d\", time.localtime(begin_date))\n",
    "    print(one_day_date)\n",
    "    ret['日期']=one_day_date\n",
    "    return ret.ix[:,['日期','整月缺失数','计数']]\n",
    "    "
   ]
  },
  {
   "cell_type": "code",
   "execution_count": 70,
   "metadata": {},
   "outputs": [],
   "source": [
    "def anly_month_has_loss(begin_date,end_date):\n",
    "    \n",
    "    data=get_data(begin_date,end_date)\n",
    "    def comp(a,b,c):\n",
    "        return len(a)+len(b)+len(c)\n",
    "    data['month_has_loss_len']=data.apply(lambda x:comp(x['call_log_missing_month_list'],x['call_log_possibly_missing_month_list'],x['call_log_part_missing_month_list']),axis=1)\n",
    "\n",
    "\n",
    "    _key_codes = data['month_has_loss_len'].values\n",
    "    grp1=data['sid'].groupby(_key_codes)\n",
    "    cnt1 = grp1.agg(np.size)\n",
    "    ret_list=[]\n",
    "    for i in range(cnt1.shape[0]):\n",
    "        ret_list.append([i,cnt1[i]])\n",
    "\n",
    "    ret=pd.DataFrame(np.array(ret_list),columns=['有缺失月份数','计数'])\n",
    "    one_day_date=time.strftime(\"%Y-%m-%d\", time.localtime(begin_date))\n",
    "    print(one_day_date)\n",
    "    ret['日期']=one_day_date\n",
    "    return ret.ix[:,['日期','有缺失月份数','计数']]"
   ]
  },
  {
   "cell_type": "code",
   "execution_count": 71,
   "metadata": {
    "collapsed": true
   },
   "outputs": [],
   "source": [
    "def month_all_loss_date():\n",
    "    begin_date='20180806'\n",
    "    timeArray = time.strptime(begin_date, \"%Y%m%d\")\n",
    "    begin_date = time.mktime(timeArray)\n",
    "    all_pd=pd.DataFrame(columns=['日期','整月缺失数','计数'])\n",
    "    has_pd=pd.DataFrame(columns=['日期','有缺失月份数','计数'])\n",
    "    while(1):\n",
    "        if begin_date>=1536213774:\n",
    "            break\n",
    "        end_date=begin_date+86400\n",
    "        all_ret=anly_month_loss(begin_date,end_date)\n",
    "        has_ret=anly_month_has_loss(begin_date,end_date)\n",
    "        all_pd=pd.concat([all_pd,all_ret])\n",
    "        has_pd=pd.concat([has_pd,has_ret])\n",
    "        begin_date=end_date\n",
    "    all_pd.to_csv('整月缺失数统计.csv',index= False)\n",
    "    has_pd.to_csv('有缺失月份数统计.csv',index= False)\n"
   ]
  },
  {
   "cell_type": "code",
   "execution_count": 72,
   "metadata": {},
   "outputs": [
    {
     "name": "stderr",
     "output_type": "stream",
     "text": [
      "C:\\ProgramData\\Anaconda3\\lib\\site-packages\\ipykernel_launcher.py:16: DeprecationWarning: \n",
      ".ix is deprecated. Please use\n",
      ".loc for label based indexing or\n",
      ".iloc for positional indexing\n",
      "\n",
      "See the documentation here:\n",
      "http://pandas.pydata.org/pandas-docs/stable/indexing.html#ix-indexer-is-deprecated\n",
      "  app.launch_new_instance()\n",
      "C:\\ProgramData\\Anaconda3\\lib\\site-packages\\ipykernel_launcher.py:19: DeprecationWarning: \n",
      ".ix is deprecated. Please use\n",
      ".loc for label based indexing or\n",
      ".iloc for positional indexing\n",
      "\n",
      "See the documentation here:\n",
      "http://pandas.pydata.org/pandas-docs/stable/indexing.html#ix-indexer-is-deprecated\n"
     ]
    }
   ],
   "source": [
    "month_all_loss_date()"
   ]
  },
  {
   "cell_type": "code",
   "execution_count": null,
   "metadata": {
    "collapsed": true
   },
   "outputs": [],
   "source": []
  }
 ],
 "metadata": {
  "kernelspec": {
   "display_name": "Python 3",
   "language": "python",
   "name": "python3"
  },
  "language_info": {
   "codemirror_mode": {
    "name": "ipython",
    "version": 3
   },
   "file_extension": ".py",
   "mimetype": "text/x-python",
   "name": "python",
   "nbconvert_exporter": "python",
   "pygments_lexer": "ipython3",
   "version": "3.6.3"
  }
 },
 "nbformat": 4,
 "nbformat_minor": 2
}
