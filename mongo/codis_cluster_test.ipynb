{
 "cells": [
  {
   "cell_type": "code",
   "execution_count": 47,
   "metadata": {
    "collapsed": true
   },
   "outputs": [],
   "source": [
    "import os \n",
    "import pandas as pd\n",
    "import sys\n"
   ]
  },
  {
   "cell_type": "code",
   "execution_count": 48,
   "metadata": {
    "collapsed": true
   },
   "outputs": [],
   "source": [
    "# -*- coding: utf-8 -*-\n",
    "import redis\n",
    "\n",
    "if __name__ == '__main__':\n",
    "    import sys\n",
    "    sys.path.append('../')\n",
    "\n",
    "class RedisWrapper(object):\n",
    "    \"\"\"\n",
    "    Redis连接类\n",
    "    \"\"\"\n",
    "    def __init__(self,db=0):\n",
    "        self.conn = None\n",
    "        self._set_db_conn(db)\n",
    "\n",
    "    def _set_db_conn(self, db=0):\n",
    "        connection_pool = redis.ConnectionPool(host='172.18.18.165', port='19000', db=1)\n",
    "        self.conn = redis.StrictRedis(connection_pool=connection_pool)\n",
    "\n",
    "    def get_conn(self):\n",
    "        db = self.conn\n",
    "        return db\n",
    "\n",
    "redis_instance = RedisWrapper().get_conn()\n",
    "\n",
    "\n"
   ]
  },
  {
   "cell_type": "code",
   "execution_count": 49,
   "metadata": {},
   "outputs": [
    {
     "name": "stdout",
     "output_type": "stream",
     "text": [
      "True\n",
      "b'123****'\n",
      "b'12&&&&&&&'\n",
      "None\n"
     ]
    }
   ],
   "source": [
    "print(redis_instance.hmset('test', {'1233':\"123****\", '12':'12&&&&&&&'}))\n",
    "#import pdb; pdb.set_trace()\n",
    "print(redis_instance.hget('test', '1233'))\n",
    "print(redis_instance.hget('test', '12'))\n",
    "print(redis_instance.get('1233'))"
   ]
  },
  {
   "cell_type": "code",
   "execution_count": 25,
   "metadata": {
    "collapsed": true
   },
   "outputs": [],
   "source": [
    "from proxy_config import PROXIES_UNICOM_IP_POOLS, PROXIES_IP_POOLS\n",
    "from crawler_config import CHANNEL_MAPPING\n",
    "\n",
    "\n",
    "class Redis_que(object):\n",
    "    \"\"\"\n",
    "    Redis参数入队初始化\n",
    "    \"\"\"\n",
    "    def __init__(self):\n",
    "        self.conn = RedisWrapper(1).get_conn()\n",
    "\n",
    "    def init_redis(self):\n",
    "        self._set_proxies_que()\n",
    "        self._set_channel_que()\n",
    "\n",
    "    def _set_proxies_que(self):\n",
    "        p = self.conn.pipeline(transaction=False)\n",
    "        p.delete('bmp_crawl_proxies_cmcc')\n",
    "        p.delete('bmp_crawl_proxies_cucc')\n",
    "        pattern = lambda x,y: [p.lpush(y, i) for i in x]\n",
    "        pattern(PROXIES_IP_POOLS, 'bmp_crawl_proxies_cmcc')\n",
    "        pattern(PROXIES_UNICOM_IP_POOLS, 'bmp_crawl_proxies_cucc')\n",
    "        p.execute()   \n",
    "\n",
    "    def _set_channel_que(self):\n",
    "        self.conn.hmset('bmp_crawl_channel', CHANNEL_MAPPING)\n",
    "\n",
    "    def pop_proxies(self,ip_type='bmp_crawl_proxies_cmcc'):\n",
    "        ip = self.conn.rpoplpush(ip_type, ip_type)\n",
    "        # print 'proxies',ip,self.conn.llen(ip_type)\n",
    "        return ip\n",
    "\n",
    "    def get_channel(self):\n",
    "        return self.conn.hgetall('bmp_crawl_channel')\n",
    "\n",
    "    def set_data(self, key, data):\n",
    "        self.conn.hmset(key, data)\n",
    "\n",
    "    def get_data(self, key):\n",
    "        self.conn.hgetall(key)\n",
    "\n",
    "    def data_exists(self, key, field):\n",
    "        return self.conn.hexists(key, field)\n",
    "    \n",
    "redis_que = Redis_que()\n",
    "redis_que.init_redis()\n"
   ]
  },
  {
   "cell_type": "code",
   "execution_count": 30,
   "metadata": {},
   "outputs": [
    {
     "name": "stdout",
     "output_type": "stream",
     "text": [
      "b'squidsz01.dianhua.cn'\n"
     ]
    }
   ],
   "source": [
    "\n",
    "print(redis_que.pop_proxies())"
   ]
  },
  {
   "cell_type": "code",
   "execution_count": 31,
   "metadata": {
    "collapsed": true
   },
   "outputs": [],
   "source": [
    "class RedisQueue(object):\n",
    "    def __init__(self, name, namespace='queue', **redis_kwargs):\n",
    "       # redis的默认参数为：host='localhost', port=6379, db=0， 其中db为定义redis database的数量\n",
    "       self.db= redis_instance\n",
    "       self.key = '%s:%s' %(namespace, name)\n",
    "\n",
    "    def qsize(self):\n",
    "        return self.db.llen(self.key)  # 返回队列里面list内元素的数量\n",
    "\n",
    "    def put(self, item):\n",
    "        self.db.rpush(self.key, item)  # 添加新元素到队列最右方\n",
    "\n",
    "    def get_wait(self, timeout=None):\n",
    "        # 返回队列第一个元素，如果为空则等待至有元素被加入队列（超时时间阈值为timeout，如果为None则一直等待）\n",
    "        item = self.db.blpop(self.key, timeout=timeout)\n",
    "        # if item:\n",
    "        #     item = item[1]  # 返回值为一个tuple\n",
    "        return item\n",
    "\n",
    "    def get_nowait(self):\n",
    "        # 直接返回队列第一个元素，如果队列为空返回的是None\n",
    "        item = self.db.lpop(self.key)  \n",
    "        return item\n",
    "redis_queue_tel_for_name = RedisQueue('tel_for_name',db=6)  # 新建队列名为rq\n",
    "redis_queue_tel_for_name_ret = RedisQueue('tel_for_name_ret',db=6) \n",
    "redis_queue_name_for_tel = RedisQueue('name_for_tel',db=6) \n",
    "redis_queue_name_for_tel_ret = RedisQueue('name_for_tel_ret',db=6) "
   ]
  },
  {
   "cell_type": "code",
   "execution_count": 34,
   "metadata": {},
   "outputs": [
    {
     "name": "stdout",
     "output_type": "stream",
     "text": [
      "0\n",
      "None\n",
      "1\n",
      "b'hahahahahaha'\n",
      "0\n"
     ]
    }
   ],
   "source": [
    "print(redis_queue_tel_for_name.qsize())\n",
    "print(redis_queue_tel_for_name.put('hahahahahaha'))\n",
    "print(redis_queue_tel_for_name.qsize())\n",
    "print(redis_queue_tel_for_name.get_nowait())\n",
    "print(redis_queue_tel_for_name.qsize())"
   ]
  },
  {
   "cell_type": "code",
   "execution_count": 38,
   "metadata": {},
   "outputs": [
    {
     "data": {
      "text/plain": [
       "1"
      ]
     },
     "execution_count": 38,
     "metadata": {},
     "output_type": "execute_result"
    }
   ],
   "source": [
    "redis_instance.hset('myhash ','myhash ',5)"
   ]
  },
  {
   "cell_type": "code",
   "execution_count": 42,
   "metadata": {},
   "outputs": [
    {
     "data": {
      "text/plain": [
       "0"
      ]
     },
     "execution_count": 42,
     "metadata": {},
     "output_type": "execute_result"
    }
   ],
   "source": [
    "redis_instance.hincrby('myhash ','myhash ',-10)"
   ]
  },
  {
   "cell_type": "code",
<<<<<<< Updated upstream
   "execution_count": 2,
   "metadata": {},
   "outputs": [
    {
     "ename": "ModuleNotFoundError",
     "evalue": "No module named 'redis'",
     "output_type": "error",
     "traceback": [
      "\u001b[0;31m---------------------------------------------------------------------------\u001b[0m",
      "\u001b[0;31mModuleNotFoundError\u001b[0m                       Traceback (most recent call last)",
      "\u001b[0;32m<ipython-input-2-3a92224f99f2>\u001b[0m in \u001b[0;36m<module>\u001b[0;34m()\u001b[0m\n\u001b[1;32m      1\u001b[0m \u001b[0;31m#首先连接两个数据库\u001b[0m\u001b[0;34m\u001b[0m\u001b[0;34m\u001b[0m\u001b[0m\n\u001b[0;32m----> 2\u001b[0;31m \u001b[0;32mimport\u001b[0m \u001b[0mredis\u001b[0m\u001b[0;34m\u001b[0m\u001b[0m\n\u001b[0m\u001b[1;32m      3\u001b[0m \u001b[0;34m\u001b[0m\u001b[0m\n\u001b[1;32m      4\u001b[0m \u001b[0;32mfrom\u001b[0m \u001b[0mredis\u001b[0m \u001b[0;32mimport\u001b[0m \u001b[0mRedis\u001b[0m\u001b[0;34m\u001b[0m\u001b[0m\n\u001b[1;32m      5\u001b[0m \u001b[0mA\u001b[0m \u001b[0;34m=\u001b[0m \u001b[0mRedis\u001b[0m\u001b[0;34m(\u001b[0m\u001b[0mhost\u001b[0m\u001b[0;34m=\u001b[0m\u001b[0;34m'172.18.18.165'\u001b[0m\u001b[0;34m,\u001b[0m\u001b[0mport\u001b[0m\u001b[0;34m=\u001b[0m\u001b[0;34m'19000'\u001b[0m\u001b[0;34m,\u001b[0m\u001b[0mdb\u001b[0m\u001b[0;34m=\u001b[0m\u001b[0;36m7\u001b[0m\u001b[0;34m)\u001b[0m\u001b[0;34m\u001b[0m\u001b[0m\n",
      "\u001b[0;31mModuleNotFoundError\u001b[0m: No module named 'redis'"
     ]
    }
   ],
   "source": []
=======
   "execution_count": 19,
   "metadata": {
    "collapsed": true
   },
   "outputs": [],
   "source": [
    "from redis import Redis\n",
    "def copydb(db,redis_from):\n",
    "    redis_to = Redis(host='172.18.18.187', port='19000',db=db)\n",
    "    cnt = 0\n",
    "    for k in redis_from.keys():\n",
    "        data_type = redis_from.type(k)\n",
    "        if data_type == b'string':\n",
    "            v = redis_from.get(k)\n",
    "            redis_to.set(k, v)\n",
    " \n",
    "        elif data_type == b'list':\n",
    "            values = redis_from.lrange(k, 0, -1)\n",
    "            redis_to.lpush(k, values)\n",
    " \n",
    "        elif data_type == b'set':\n",
    "            values = redis_from.smembers(k)\n",
    "            redis_to.sadd(k, values)\n",
    " \n",
    "        elif data_type == b'hash':\n",
    "            keys = redis_from.hkeys(k)\n",
    "            for key in keys:\n",
    "                value = redis_from.hget(k, key)\n",
    "                redis_to.hset(k, key, value)\n",
    " \n",
    "        else:\n",
    "            print('not known type')\n",
    " \n",
    "        cnt = cnt + 1\n",
    " \n",
    "    print('total', cnt)\n"
   ]
  },
  {
   "cell_type": "code",
   "execution_count": 22,
   "metadata": {
    "collapsed": true
   },
   "outputs": [],
   "source": [
    "hosts=['172.18.18.163','172.18.18.164','172.18.18.177']"
   ]
  },
  {
   "cell_type": "code",
   "execution_count": 23,
   "metadata": {},
   "outputs": [
    {
     "name": "stdout",
     "output_type": "stream",
     "text": [
      "total 129310\n",
      "total 8\n",
      "total 14\n",
      "total 0\n",
      "total 0\n",
      "total 0\n",
      "total 0\n",
      "total 1\n",
      "total 129068\n",
      "total 11\n",
      "total 15\n",
      "total 0\n",
      "total 0\n",
      "total 0\n",
      "total 0\n",
      "total 0\n",
      "total 128999\n",
      "total 21\n",
      "total 7\n",
      "total 0\n",
      "total 0\n",
      "total 0\n",
      "total 0\n",
      "total 2\n"
     ]
    }
   ],
   "source": [
    "for ho in hosts:\n",
    "    for i in range(8): \n",
    "        redis_from = Redis(host=ho,port='6379',db=i)\n",
    "        copydb(i,redis_from)"
   ]
>>>>>>> Stashed changes
  },
  {
   "cell_type": "code",
   "execution_count": null,
   "metadata": {},
   "outputs": [],
   "source": []
  }
 ],
 "metadata": {
  "kernelspec": {
   "display_name": "Python 3",
   "language": "python",
   "name": "python3"
  },
  "language_info": {
   "codemirror_mode": {
    "name": "ipython",
    "version": 3
   },
   "file_extension": ".py",
   "mimetype": "text/x-python",
   "name": "python",
   "nbconvert_exporter": "python",
   "pygments_lexer": "ipython3",
   "version": "3.6.4"
  }
 },
 "nbformat": 4,
 "nbformat_minor": 2
}
