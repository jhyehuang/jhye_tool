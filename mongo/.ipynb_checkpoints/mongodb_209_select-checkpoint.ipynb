{
 "cells": [
  {
   "cell_type": "code",
   "execution_count": 153,
   "metadata": {
    "collapsed": true
   },
   "outputs": [],
   "source": [
    "from  lib.mongo_db  import db_conn\n",
    "import numpy as np"
   ]
  },
  {
   "cell_type": "code",
   "execution_count": 10,
   "metadata": {},
   "outputs": [],
   "source": [
    "data=db_conn.call_log.find({'sid':'SIDf96ec87c35db3acaa5f8ff2ae0dc030b','update_time':{'$gte':1538755200,'$lte':1538968666},'tags_financial':{'$exists':False}},{'sid':1,'call_from':1,'call_tel':1,'_id':0}).limit(1000)"
   ]
  },
  {
   "cell_type": "code",
   "execution_count": 44,
   "metadata": {
    "collapsed": true
   },
   "outputs": [],
   "source": [
    "data=db_conn.call_itags.find({}).limit(2)"
   ]
  },
  {
   "cell_type": "code",
   "execution_count": 3,
   "metadata": {},
   "outputs": [
    {
     "data": {
      "text/plain": [
       "17238924"
      ]
     },
     "execution_count": 3,
     "metadata": {},
     "output_type": "execute_result"
    }
   ],
   "source": [
    "data"
   ]
  },
  {
   "cell_type": "code",
   "execution_count": 11,
   "metadata": {},
   "outputs": [
    {
     "data": {
      "text/html": [
       "<div>\n",
       "<style>\n",
       "    .dataframe thead tr:only-child th {\n",
       "        text-align: right;\n",
       "    }\n",
       "\n",
       "    .dataframe thead th {\n",
       "        text-align: left;\n",
       "    }\n",
       "\n",
       "    .dataframe tbody tr th {\n",
       "        vertical-align: top;\n",
       "    }\n",
       "</style>\n",
       "<table border=\"1\" class=\"dataframe\">\n",
       "  <thead>\n",
       "    <tr style=\"text-align: right;\">\n",
       "      <th></th>\n",
       "      <th>call_from</th>\n",
       "      <th>call_tel</th>\n",
       "      <th>sid</th>\n",
       "    </tr>\n",
       "  </thead>\n",
       "  <tbody>\n",
       "    <tr>\n",
       "      <th>0</th>\n",
       "      <td></td>\n",
       "      <td>15757825866</td>\n",
       "      <td>SIDf96ec87c35db3acaa5f8ff2ae0dc030b</td>\n",
       "    </tr>\n",
       "    <tr>\n",
       "      <th>1</th>\n",
       "      <td></td>\n",
       "      <td>10010</td>\n",
       "      <td>SIDf96ec87c35db3acaa5f8ff2ae0dc030b</td>\n",
       "    </tr>\n",
       "    <tr>\n",
       "      <th>2</th>\n",
       "      <td></td>\n",
       "      <td>15304615172</td>\n",
       "      <td>SIDf96ec87c35db3acaa5f8ff2ae0dc030b</td>\n",
       "    </tr>\n",
       "    <tr>\n",
       "      <th>3</th>\n",
       "      <td></td>\n",
       "      <td>13163419056</td>\n",
       "      <td>SIDf96ec87c35db3acaa5f8ff2ae0dc030b</td>\n",
       "    </tr>\n",
       "    <tr>\n",
       "      <th>4</th>\n",
       "      <td></td>\n",
       "      <td>4006695588</td>\n",
       "      <td>SIDf96ec87c35db3acaa5f8ff2ae0dc030b</td>\n",
       "    </tr>\n",
       "    <tr>\n",
       "      <th>5</th>\n",
       "      <td></td>\n",
       "      <td>10010</td>\n",
       "      <td>SIDf96ec87c35db3acaa5f8ff2ae0dc030b</td>\n",
       "    </tr>\n",
       "    <tr>\n",
       "      <th>6</th>\n",
       "      <td></td>\n",
       "      <td>95588</td>\n",
       "      <td>SIDf96ec87c35db3acaa5f8ff2ae0dc030b</td>\n",
       "    </tr>\n",
       "    <tr>\n",
       "      <th>7</th>\n",
       "      <td></td>\n",
       "      <td>10010</td>\n",
       "      <td>SIDf96ec87c35db3acaa5f8ff2ae0dc030b</td>\n",
       "    </tr>\n",
       "    <tr>\n",
       "      <th>8</th>\n",
       "      <td></td>\n",
       "      <td>95511</td>\n",
       "      <td>SIDf96ec87c35db3acaa5f8ff2ae0dc030b</td>\n",
       "    </tr>\n",
       "    <tr>\n",
       "      <th>9</th>\n",
       "      <td></td>\n",
       "      <td>15321370829</td>\n",
       "      <td>SIDf96ec87c35db3acaa5f8ff2ae0dc030b</td>\n",
       "    </tr>\n",
       "    <tr>\n",
       "      <th>10</th>\n",
       "      <td></td>\n",
       "      <td>10010</td>\n",
       "      <td>SIDf96ec87c35db3acaa5f8ff2ae0dc030b</td>\n",
       "    </tr>\n",
       "    <tr>\n",
       "      <th>11</th>\n",
       "      <td></td>\n",
       "      <td>15321370829</td>\n",
       "      <td>SIDf96ec87c35db3acaa5f8ff2ae0dc030b</td>\n",
       "    </tr>\n",
       "    <tr>\n",
       "      <th>12</th>\n",
       "      <td></td>\n",
       "      <td>15304615172</td>\n",
       "      <td>SIDf96ec87c35db3acaa5f8ff2ae0dc030b</td>\n",
       "    </tr>\n",
       "    <tr>\n",
       "      <th>13</th>\n",
       "      <td></td>\n",
       "      <td>10010</td>\n",
       "      <td>SIDf96ec87c35db3acaa5f8ff2ae0dc030b</td>\n",
       "    </tr>\n",
       "    <tr>\n",
       "      <th>14</th>\n",
       "      <td></td>\n",
       "      <td>15304615172</td>\n",
       "      <td>SIDf96ec87c35db3acaa5f8ff2ae0dc030b</td>\n",
       "    </tr>\n",
       "    <tr>\n",
       "      <th>15</th>\n",
       "      <td></td>\n",
       "      <td>15304615172</td>\n",
       "      <td>SIDf96ec87c35db3acaa5f8ff2ae0dc030b</td>\n",
       "    </tr>\n",
       "    <tr>\n",
       "      <th>16</th>\n",
       "      <td></td>\n",
       "      <td>15304615172</td>\n",
       "      <td>SIDf96ec87c35db3acaa5f8ff2ae0dc030b</td>\n",
       "    </tr>\n",
       "    <tr>\n",
       "      <th>17</th>\n",
       "      <td></td>\n",
       "      <td>02160576550</td>\n",
       "      <td>SIDf96ec87c35db3acaa5f8ff2ae0dc030b</td>\n",
       "    </tr>\n",
       "    <tr>\n",
       "      <th>18</th>\n",
       "      <td></td>\n",
       "      <td>10010</td>\n",
       "      <td>SIDf96ec87c35db3acaa5f8ff2ae0dc030b</td>\n",
       "    </tr>\n",
       "    <tr>\n",
       "      <th>19</th>\n",
       "      <td></td>\n",
       "      <td>15304615172</td>\n",
       "      <td>SIDf96ec87c35db3acaa5f8ff2ae0dc030b</td>\n",
       "    </tr>\n",
       "    <tr>\n",
       "      <th>20</th>\n",
       "      <td></td>\n",
       "      <td>01083023688</td>\n",
       "      <td>SIDf96ec87c35db3acaa5f8ff2ae0dc030b</td>\n",
       "    </tr>\n",
       "    <tr>\n",
       "      <th>21</th>\n",
       "      <td></td>\n",
       "      <td>15321370829</td>\n",
       "      <td>SIDf96ec87c35db3acaa5f8ff2ae0dc030b</td>\n",
       "    </tr>\n",
       "    <tr>\n",
       "      <th>22</th>\n",
       "      <td></td>\n",
       "      <td>17350031944</td>\n",
       "      <td>SIDf96ec87c35db3acaa5f8ff2ae0dc030b</td>\n",
       "    </tr>\n",
       "    <tr>\n",
       "      <th>23</th>\n",
       "      <td></td>\n",
       "      <td>15304615172</td>\n",
       "      <td>SIDf96ec87c35db3acaa5f8ff2ae0dc030b</td>\n",
       "    </tr>\n",
       "    <tr>\n",
       "      <th>24</th>\n",
       "      <td></td>\n",
       "      <td>10010</td>\n",
       "      <td>SIDf96ec87c35db3acaa5f8ff2ae0dc030b</td>\n",
       "    </tr>\n",
       "    <tr>\n",
       "      <th>25</th>\n",
       "      <td></td>\n",
       "      <td>15304615172</td>\n",
       "      <td>SIDf96ec87c35db3acaa5f8ff2ae0dc030b</td>\n",
       "    </tr>\n",
       "    <tr>\n",
       "      <th>26</th>\n",
       "      <td></td>\n",
       "      <td>05356844070</td>\n",
       "      <td>SIDf96ec87c35db3acaa5f8ff2ae0dc030b</td>\n",
       "    </tr>\n",
       "    <tr>\n",
       "      <th>27</th>\n",
       "      <td></td>\n",
       "      <td>15321370829</td>\n",
       "      <td>SIDf96ec87c35db3acaa5f8ff2ae0dc030b</td>\n",
       "    </tr>\n",
       "    <tr>\n",
       "      <th>28</th>\n",
       "      <td></td>\n",
       "      <td>13796227771</td>\n",
       "      <td>SIDf96ec87c35db3acaa5f8ff2ae0dc030b</td>\n",
       "    </tr>\n",
       "    <tr>\n",
       "      <th>29</th>\n",
       "      <td></td>\n",
       "      <td>18750202347</td>\n",
       "      <td>SIDf96ec87c35db3acaa5f8ff2ae0dc030b</td>\n",
       "    </tr>\n",
       "    <tr>\n",
       "      <th>...</th>\n",
       "      <td>...</td>\n",
       "      <td>...</td>\n",
       "      <td>...</td>\n",
       "    </tr>\n",
       "    <tr>\n",
       "      <th>539</th>\n",
       "      <td></td>\n",
       "      <td>95599</td>\n",
       "      <td>SIDf96ec87c35db3acaa5f8ff2ae0dc030b</td>\n",
       "    </tr>\n",
       "    <tr>\n",
       "      <th>540</th>\n",
       "      <td></td>\n",
       "      <td>15097552293</td>\n",
       "      <td>SIDf96ec87c35db3acaa5f8ff2ae0dc030b</td>\n",
       "    </tr>\n",
       "    <tr>\n",
       "      <th>541</th>\n",
       "      <td></td>\n",
       "      <td>15097552293</td>\n",
       "      <td>SIDf96ec87c35db3acaa5f8ff2ae0dc030b</td>\n",
       "    </tr>\n",
       "    <tr>\n",
       "      <th>542</th>\n",
       "      <td></td>\n",
       "      <td>95599</td>\n",
       "      <td>SIDf96ec87c35db3acaa5f8ff2ae0dc030b</td>\n",
       "    </tr>\n",
       "    <tr>\n",
       "      <th>543</th>\n",
       "      <td></td>\n",
       "      <td>01087409058</td>\n",
       "      <td>SIDf96ec87c35db3acaa5f8ff2ae0dc030b</td>\n",
       "    </tr>\n",
       "    <tr>\n",
       "      <th>544</th>\n",
       "      <td></td>\n",
       "      <td>15114666365</td>\n",
       "      <td>SIDf96ec87c35db3acaa5f8ff2ae0dc030b</td>\n",
       "    </tr>\n",
       "    <tr>\n",
       "      <th>545</th>\n",
       "      <td></td>\n",
       "      <td>13796146180</td>\n",
       "      <td>SIDf96ec87c35db3acaa5f8ff2ae0dc030b</td>\n",
       "    </tr>\n",
       "    <tr>\n",
       "      <th>546</th>\n",
       "      <td></td>\n",
       "      <td>075561822173</td>\n",
       "      <td>SIDf96ec87c35db3acaa5f8ff2ae0dc030b</td>\n",
       "    </tr>\n",
       "    <tr>\n",
       "      <th>547</th>\n",
       "      <td></td>\n",
       "      <td>075561821930</td>\n",
       "      <td>SIDf96ec87c35db3acaa5f8ff2ae0dc030b</td>\n",
       "    </tr>\n",
       "    <tr>\n",
       "      <th>548</th>\n",
       "      <td></td>\n",
       "      <td>01087409058</td>\n",
       "      <td>SIDf96ec87c35db3acaa5f8ff2ae0dc030b</td>\n",
       "    </tr>\n",
       "    <tr>\n",
       "      <th>549</th>\n",
       "      <td></td>\n",
       "      <td>13694622991</td>\n",
       "      <td>SIDf96ec87c35db3acaa5f8ff2ae0dc030b</td>\n",
       "    </tr>\n",
       "    <tr>\n",
       "      <th>550</th>\n",
       "      <td></td>\n",
       "      <td>4008101555</td>\n",
       "      <td>SIDf96ec87c35db3acaa5f8ff2ae0dc030b</td>\n",
       "    </tr>\n",
       "    <tr>\n",
       "      <th>551</th>\n",
       "      <td></td>\n",
       "      <td>18745107748</td>\n",
       "      <td>SIDf96ec87c35db3acaa5f8ff2ae0dc030b</td>\n",
       "    </tr>\n",
       "    <tr>\n",
       "      <th>552</th>\n",
       "      <td></td>\n",
       "      <td>13796227771</td>\n",
       "      <td>SIDf96ec87c35db3acaa5f8ff2ae0dc030b</td>\n",
       "    </tr>\n",
       "    <tr>\n",
       "      <th>553</th>\n",
       "      <td></td>\n",
       "      <td>18732562008</td>\n",
       "      <td>SIDf96ec87c35db3acaa5f8ff2ae0dc030b</td>\n",
       "    </tr>\n",
       "    <tr>\n",
       "      <th>554</th>\n",
       "      <td></td>\n",
       "      <td>1001011</td>\n",
       "      <td>SIDf96ec87c35db3acaa5f8ff2ae0dc030b</td>\n",
       "    </tr>\n",
       "    <tr>\n",
       "      <th>555</th>\n",
       "      <td></td>\n",
       "      <td>02195510</td>\n",
       "      <td>SIDf96ec87c35db3acaa5f8ff2ae0dc030b</td>\n",
       "    </tr>\n",
       "    <tr>\n",
       "      <th>556</th>\n",
       "      <td></td>\n",
       "      <td>18645068312</td>\n",
       "      <td>SIDf96ec87c35db3acaa5f8ff2ae0dc030b</td>\n",
       "    </tr>\n",
       "    <tr>\n",
       "      <th>557</th>\n",
       "      <td></td>\n",
       "      <td>1001011</td>\n",
       "      <td>SIDf96ec87c35db3acaa5f8ff2ae0dc030b</td>\n",
       "    </tr>\n",
       "    <tr>\n",
       "      <th>558</th>\n",
       "      <td></td>\n",
       "      <td>4006808888</td>\n",
       "      <td>SIDf96ec87c35db3acaa5f8ff2ae0dc030b</td>\n",
       "    </tr>\n",
       "    <tr>\n",
       "      <th>559</th>\n",
       "      <td></td>\n",
       "      <td>02868593879</td>\n",
       "      <td>SIDf96ec87c35db3acaa5f8ff2ae0dc030b</td>\n",
       "    </tr>\n",
       "    <tr>\n",
       "      <th>560</th>\n",
       "      <td></td>\n",
       "      <td>13134517633</td>\n",
       "      <td>SIDf96ec87c35db3acaa5f8ff2ae0dc030b</td>\n",
       "    </tr>\n",
       "    <tr>\n",
       "      <th>561</th>\n",
       "      <td></td>\n",
       "      <td>95599</td>\n",
       "      <td>SIDf96ec87c35db3acaa5f8ff2ae0dc030b</td>\n",
       "    </tr>\n",
       "    <tr>\n",
       "      <th>562</th>\n",
       "      <td></td>\n",
       "      <td>84320691</td>\n",
       "      <td>SIDf96ec87c35db3acaa5f8ff2ae0dc030b</td>\n",
       "    </tr>\n",
       "    <tr>\n",
       "      <th>563</th>\n",
       "      <td></td>\n",
       "      <td>13199477772</td>\n",
       "      <td>SIDf96ec87c35db3acaa5f8ff2ae0dc030b</td>\n",
       "    </tr>\n",
       "    <tr>\n",
       "      <th>564</th>\n",
       "      <td></td>\n",
       "      <td>13796227771</td>\n",
       "      <td>SIDf96ec87c35db3acaa5f8ff2ae0dc030b</td>\n",
       "    </tr>\n",
       "    <tr>\n",
       "      <th>565</th>\n",
       "      <td></td>\n",
       "      <td>13796227771</td>\n",
       "      <td>SIDf96ec87c35db3acaa5f8ff2ae0dc030b</td>\n",
       "    </tr>\n",
       "    <tr>\n",
       "      <th>566</th>\n",
       "      <td></td>\n",
       "      <td>15114565024</td>\n",
       "      <td>SIDf96ec87c35db3acaa5f8ff2ae0dc030b</td>\n",
       "    </tr>\n",
       "    <tr>\n",
       "      <th>567</th>\n",
       "      <td></td>\n",
       "      <td>58905965</td>\n",
       "      <td>SIDf96ec87c35db3acaa5f8ff2ae0dc030b</td>\n",
       "    </tr>\n",
       "    <tr>\n",
       "      <th>568</th>\n",
       "      <td></td>\n",
       "      <td>075561828794</td>\n",
       "      <td>SIDf96ec87c35db3acaa5f8ff2ae0dc030b</td>\n",
       "    </tr>\n",
       "  </tbody>\n",
       "</table>\n",
       "<p>569 rows × 3 columns</p>\n",
       "</div>"
      ],
      "text/plain": [
       "    call_from      call_tel                                  sid\n",
       "0               15757825866  SIDf96ec87c35db3acaa5f8ff2ae0dc030b\n",
       "1                     10010  SIDf96ec87c35db3acaa5f8ff2ae0dc030b\n",
       "2               15304615172  SIDf96ec87c35db3acaa5f8ff2ae0dc030b\n",
       "3               13163419056  SIDf96ec87c35db3acaa5f8ff2ae0dc030b\n",
       "4                4006695588  SIDf96ec87c35db3acaa5f8ff2ae0dc030b\n",
       "5                     10010  SIDf96ec87c35db3acaa5f8ff2ae0dc030b\n",
       "6                     95588  SIDf96ec87c35db3acaa5f8ff2ae0dc030b\n",
       "7                     10010  SIDf96ec87c35db3acaa5f8ff2ae0dc030b\n",
       "8                     95511  SIDf96ec87c35db3acaa5f8ff2ae0dc030b\n",
       "9               15321370829  SIDf96ec87c35db3acaa5f8ff2ae0dc030b\n",
       "10                    10010  SIDf96ec87c35db3acaa5f8ff2ae0dc030b\n",
       "11              15321370829  SIDf96ec87c35db3acaa5f8ff2ae0dc030b\n",
       "12              15304615172  SIDf96ec87c35db3acaa5f8ff2ae0dc030b\n",
       "13                    10010  SIDf96ec87c35db3acaa5f8ff2ae0dc030b\n",
       "14              15304615172  SIDf96ec87c35db3acaa5f8ff2ae0dc030b\n",
       "15              15304615172  SIDf96ec87c35db3acaa5f8ff2ae0dc030b\n",
       "16              15304615172  SIDf96ec87c35db3acaa5f8ff2ae0dc030b\n",
       "17              02160576550  SIDf96ec87c35db3acaa5f8ff2ae0dc030b\n",
       "18                    10010  SIDf96ec87c35db3acaa5f8ff2ae0dc030b\n",
       "19              15304615172  SIDf96ec87c35db3acaa5f8ff2ae0dc030b\n",
       "20              01083023688  SIDf96ec87c35db3acaa5f8ff2ae0dc030b\n",
       "21              15321370829  SIDf96ec87c35db3acaa5f8ff2ae0dc030b\n",
       "22              17350031944  SIDf96ec87c35db3acaa5f8ff2ae0dc030b\n",
       "23              15304615172  SIDf96ec87c35db3acaa5f8ff2ae0dc030b\n",
       "24                    10010  SIDf96ec87c35db3acaa5f8ff2ae0dc030b\n",
       "25              15304615172  SIDf96ec87c35db3acaa5f8ff2ae0dc030b\n",
       "26              05356844070  SIDf96ec87c35db3acaa5f8ff2ae0dc030b\n",
       "27              15321370829  SIDf96ec87c35db3acaa5f8ff2ae0dc030b\n",
       "28              13796227771  SIDf96ec87c35db3acaa5f8ff2ae0dc030b\n",
       "29              18750202347  SIDf96ec87c35db3acaa5f8ff2ae0dc030b\n",
       "..        ...           ...                                  ...\n",
       "539                   95599  SIDf96ec87c35db3acaa5f8ff2ae0dc030b\n",
       "540             15097552293  SIDf96ec87c35db3acaa5f8ff2ae0dc030b\n",
       "541             15097552293  SIDf96ec87c35db3acaa5f8ff2ae0dc030b\n",
       "542                   95599  SIDf96ec87c35db3acaa5f8ff2ae0dc030b\n",
       "543             01087409058  SIDf96ec87c35db3acaa5f8ff2ae0dc030b\n",
       "544             15114666365  SIDf96ec87c35db3acaa5f8ff2ae0dc030b\n",
       "545             13796146180  SIDf96ec87c35db3acaa5f8ff2ae0dc030b\n",
       "546            075561822173  SIDf96ec87c35db3acaa5f8ff2ae0dc030b\n",
       "547            075561821930  SIDf96ec87c35db3acaa5f8ff2ae0dc030b\n",
       "548             01087409058  SIDf96ec87c35db3acaa5f8ff2ae0dc030b\n",
       "549             13694622991  SIDf96ec87c35db3acaa5f8ff2ae0dc030b\n",
       "550              4008101555  SIDf96ec87c35db3acaa5f8ff2ae0dc030b\n",
       "551             18745107748  SIDf96ec87c35db3acaa5f8ff2ae0dc030b\n",
       "552             13796227771  SIDf96ec87c35db3acaa5f8ff2ae0dc030b\n",
       "553             18732562008  SIDf96ec87c35db3acaa5f8ff2ae0dc030b\n",
       "554                 1001011  SIDf96ec87c35db3acaa5f8ff2ae0dc030b\n",
       "555                02195510  SIDf96ec87c35db3acaa5f8ff2ae0dc030b\n",
       "556             18645068312  SIDf96ec87c35db3acaa5f8ff2ae0dc030b\n",
       "557                 1001011  SIDf96ec87c35db3acaa5f8ff2ae0dc030b\n",
       "558              4006808888  SIDf96ec87c35db3acaa5f8ff2ae0dc030b\n",
       "559             02868593879  SIDf96ec87c35db3acaa5f8ff2ae0dc030b\n",
       "560             13134517633  SIDf96ec87c35db3acaa5f8ff2ae0dc030b\n",
       "561                   95599  SIDf96ec87c35db3acaa5f8ff2ae0dc030b\n",
       "562                84320691  SIDf96ec87c35db3acaa5f8ff2ae0dc030b\n",
       "563             13199477772  SIDf96ec87c35db3acaa5f8ff2ae0dc030b\n",
       "564             13796227771  SIDf96ec87c35db3acaa5f8ff2ae0dc030b\n",
       "565             13796227771  SIDf96ec87c35db3acaa5f8ff2ae0dc030b\n",
       "566             15114565024  SIDf96ec87c35db3acaa5f8ff2ae0dc030b\n",
       "567                58905965  SIDf96ec87c35db3acaa5f8ff2ae0dc030b\n",
       "568            075561828794  SIDf96ec87c35db3acaa5f8ff2ae0dc030b\n",
       "\n",
       "[569 rows x 3 columns]"
      ]
     },
     "execution_count": 11,
     "metadata": {},
     "output_type": "execute_result"
    }
   ],
   "source": [
    "import pandas as pd\n",
    "det=pd.DataFrame(x for x in data)\n",
    "det"
   ]
  },
  {
   "cell_type": "code",
   "execution_count": 115,
   "metadata": {
    "collapsed": true
   },
   "outputs": [],
   "source": [
    "tel='13265009661'"
   ]
  },
  {
   "cell_type": "code",
   "execution_count": 158,
   "metadata": {
    "collapsed": true
   },
   "outputs": [],
   "source": [
    "data=db_conn.sid_info.find({'tel':tel,'status':0},{'sid':1,'_id':0})"
   ]
  },
  {
   "cell_type": "code",
   "execution_count": 159,
   "metadata": {},
   "outputs": [],
   "source": [
    "ret={}\n",
    "for x in list(data):\n",
    "    sid=x['sid']\n",
    "    report=db_conn.report.find_one({'sid':sid})\n",
    "    ret[sid]=report['calls_overview']\n",
    "    "
   ]
  },
  {
   "cell_type": "code",
   "execution_count": 160,
   "metadata": {
    "collapsed": true
   },
   "outputs": [],
   "source": [
    "import time\n",
    "def time_to_today(timeStamp):\n",
    "    timeArray = time.localtime(int(timeStamp))\n",
    "    timeArray =time.strftime(\"%Y-%m-%d %H:%I:%S\",timeArray)\n",
    "    return timeArray   # 2013"
   ]
  },
  {
   "cell_type": "code",
   "execution_count": 161,
   "metadata": {
    "scrolled": true
   },
   "outputs": [
    {
     "name": "stdout",
     "output_type": "stream",
     "text": [
      "tel: 13265009661\n",
      "sid: SIDed39113350264533bd2a0c232585f4b4\n",
      "\n",
      "sid: SIDb486c46cc7804495b9bc29ea13ebf4ad\n",
      "\n",
      "sid: SIDdc27fc7928654839aa9eea53a0b821f4\n",
      "\n",
      "sid: SIDf854e8baedbf476d930a773ac355e829\n",
      "['1536039605', '1536322973', '78.71']\n"
     ]
    },
    {
     "ename": "IndexError",
     "evalue": "list index out of range",
     "output_type": "error",
     "traceback": [
      "\u001b[1;31m---------------------------------------------------------------------------\u001b[0m",
      "\u001b[1;31mIndexError\u001b[0m                                Traceback (most recent call last)",
      "\u001b[1;32m<ipython-input-161-8c06cd3fb9f5>\u001b[0m in \u001b[0;36m<module>\u001b[1;34m()\u001b[0m\n\u001b[0;32m     10\u001b[0m             \u001b[0mpd_call\u001b[0m\u001b[1;33m=\u001b[0m\u001b[0mpd\u001b[0m\u001b[1;33m.\u001b[0m\u001b[0mDataFrame\u001b[0m\u001b[1;33m(\u001b[0m\u001b[0mx\u001b[0m \u001b[1;32mfor\u001b[0m \u001b[0mx\u001b[0m \u001b[1;32min\u001b[0m \u001b[0mcall_log\u001b[0m\u001b[1;33m)\u001b[0m\u001b[1;33m\u001b[0m\u001b[0m\n\u001b[0;32m     11\u001b[0m \u001b[1;33m\u001b[0m\u001b[0m\n\u001b[1;32m---> 12\u001b[1;33m             \u001b[1;32mif\u001b[0m \u001b[0mone\u001b[0m\u001b[1;33m[\u001b[0m\u001b[1;36m3\u001b[0m\u001b[1;33m]\u001b[0m\u001b[1;33m>\u001b[0m\u001b[1;36m0\u001b[0m\u001b[1;33m:\u001b[0m\u001b[1;33m\u001b[0m\u001b[0m\n\u001b[0m\u001b[0;32m     13\u001b[0m                 \u001b[0mpd_call\u001b[0m\u001b[1;33m=\u001b[0m\u001b[0mpd_call\u001b[0m\u001b[1;33m.\u001b[0m\u001b[0mloc\u001b[0m\u001b[1;33m[\u001b[0m\u001b[0mnp\u001b[0m\u001b[1;33m.\u001b[0m\u001b[0mlogical_and\u001b[0m\u001b[1;33m(\u001b[0m\u001b[0mpd_call\u001b[0m\u001b[1;33m.\u001b[0m\u001b[0mcall_time\u001b[0m\u001b[1;33m>\u001b[0m\u001b[0mone\u001b[0m\u001b[1;33m[\u001b[0m\u001b[1;36m0\u001b[0m\u001b[1;33m]\u001b[0m\u001b[1;33m,\u001b[0m\u001b[0mpd_call\u001b[0m\u001b[1;33m.\u001b[0m\u001b[0mcall_time\u001b[0m\u001b[1;33m<\u001b[0m\u001b[0mone\u001b[0m\u001b[1;33m[\u001b[0m\u001b[1;36m1\u001b[0m\u001b[1;33m]\u001b[0m\u001b[1;33m)\u001b[0m\u001b[1;33m,\u001b[0m\u001b[1;33m:\u001b[0m\u001b[1;33m]\u001b[0m\u001b[1;33m\u001b[0m\u001b[0m\n\u001b[0;32m     14\u001b[0m                 \u001b[0mone\u001b[0m\u001b[1;33m.\u001b[0m\u001b[0mappend\u001b[0m\u001b[1;33m(\u001b[0m\u001b[0mpd_call\u001b[0m\u001b[1;33m.\u001b[0m\u001b[0mshape\u001b[0m\u001b[1;33m[\u001b[0m\u001b[1;36m0\u001b[0m\u001b[1;33m]\u001b[0m\u001b[1;33m)\u001b[0m\u001b[1;33m\u001b[0m\u001b[0m\n",
      "\u001b[1;31mIndexError\u001b[0m: list index out of range"
     ]
    }
   ],
   "source": [
    "print('tel:',tel)\n",
    "for sid,values in ret.items():\n",
    "    print('sid:',sid)\n",
    "    blank_times_list=values.get('blank_times_list','')\n",
    "    if len(blank_times_list)>0:\n",
    "        for one in blank_times_list:\n",
    "            call_log=db_conn.call_log.find({'sid':sid})\n",
    "            pd_call=pd.DataFrame(x for x in call_log)\n",
    "            if pd_call.shape[0]>0:\n",
    "                pd_call=pd_call.loc[np.logical_and(pd_call.call_time>one[0],pd_call.call_time<one[1]),:]\n",
    "                one.append(pd_call.shape[0])\n",
    "                print(pd_call['call_time'])\n",
    "                one.append(pd_call['month'].tolist())\n",
    "            one[0]=time_to_today(one[0])\n",
    "            one[1]=time_to_today(one[1])\n",
    "            print(one )\n",
    "    else:\n",
    "        print(blank_times_list)\n",
    "    "
   ]
  },
  {
   "cell_type": "code",
   "execution_count": 13,
   "metadata": {},
   "outputs": [
    {
     "data": {
      "text/plain": [
       "[{'sid': 'SIDed39113350264533bd2a0c232585f4b4'},\n",
       " {'sid': 'SIDb486c46cc7804495b9bc29ea13ebf4ad'},\n",
       " {'sid': 'SIDdc27fc7928654839aa9eea53a0b821f4'},\n",
       " {'sid': 'SIDf854e8baedbf476d930a773ac355e829'}]"
      ]
     },
     "execution_count": 13,
     "metadata": {},
     "output_type": "execute_result"
    }
   ],
   "source": [
    "list(data)"
   ]
  },
  {
   "cell_type": "code",
   "execution_count": 3,
   "metadata": {
    "collapsed": true
   },
   "outputs": [],
   "source": [
    "data=db_conn.sid_info.find({'end_time':{'$gte':1535468522,'$lte':1535504522},'status':0,'status_report':{'$exists':False}},{'sid':1,'_id':0})"
   ]
  },
  {
   "cell_type": "code",
   "execution_count": 8,
   "metadata": {},
   "outputs": [
    {
     "name": "stderr",
     "output_type": "stream",
     "text": [
      "C:\\ProgramData\\Anaconda3\\lib\\site-packages\\ipykernel_launcher.py:1: DeprecationWarning: count is deprecated. Use Collection.count_documents instead.\n",
      "  \"\"\"Entry point for launching an IPython kernel.\n"
     ]
    },
    {
     "data": {
      "text/plain": [
       "68178"
      ]
     },
     "execution_count": 8,
     "metadata": {},
     "output_type": "execute_result"
    }
   ],
   "source": [
    "db_conn.sid_info.find({\"end_time\":{'$gte':1534694400,'$lte':1536076800},'status':0,'crawler_channel':{'$exists':False}}).count()"
   ]
  },
  {
   "cell_type": "code",
   "execution_count": 9,
   "metadata": {},
   "outputs": [
    {
     "name": "stderr",
     "output_type": "stream",
     "text": [
      "C:\\ProgramData\\Anaconda3\\lib\\site-packages\\ipykernel_launcher.py:1: DeprecationWarning: count is deprecated. Use Collection.count_documents instead.\n",
      "  \"\"\"Entry point for launching an IPython kernel.\n"
     ]
    },
    {
     "data": {
      "text/plain": [
       "8625"
      ]
     },
     "execution_count": 9,
     "metadata": {},
     "output_type": "execute_result"
    }
   ],
   "source": [
    "db_conn.sid_info.find({\"end_time\":{'$gte':1534694400,'$lte':1536076800},'status':0,'crawler_channel':{'$exists':False},'call_log_missing_month_list':{'$exists':True,'$ne':[]}}).count()"
   ]
  },
  {
   "cell_type": "code",
   "execution_count": 12,
   "metadata": {},
   "outputs": [
    {
     "name": "stderr",
     "output_type": "stream",
     "text": [
      "C:\\ProgramData\\Anaconda3\\lib\\site-packages\\ipykernel_launcher.py:1: DeprecationWarning: count is deprecated. Use Collection.count_documents instead.\n",
      "  \"\"\"Entry point for launching an IPython kernel.\n"
     ]
    },
    {
     "data": {
      "text/plain": [
       "17727"
      ]
     },
     "execution_count": 12,
     "metadata": {},
     "output_type": "execute_result"
    }
   ],
   "source": [
    "db_conn.sid_info.find({\"end_time\":{'$gte':1534694400,'$lte':1536076800},'status':0,'crawler_channel':{'$exists':False},'cid':'270'}).count()"
   ]
  },
  {
   "cell_type": "code",
   "execution_count": 13,
   "metadata": {},
   "outputs": [
    {
     "name": "stderr",
     "output_type": "stream",
     "text": [
      "C:\\ProgramData\\Anaconda3\\lib\\site-packages\\ipykernel_launcher.py:1: DeprecationWarning: count is deprecated. Use Collection.count_documents instead.\n",
      "  \"\"\"Entry point for launching an IPython kernel.\n"
     ]
    },
    {
     "data": {
      "text/plain": [
       "2660"
      ]
     },
     "execution_count": 13,
     "metadata": {},
     "output_type": "execute_result"
    }
   ],
   "source": [
    "db_conn.sid_info.find({\"end_time\":{'$gte':1534694400,'$lte':1536076800},'status':0,'crawler_channel':{'$exists':False},'call_log_missing_month_list':{'$exists':True,'$ne':[]},'cid':'270'}).count()"
   ]
  },
  {
   "cell_type": "code",
   "execution_count": 4,
   "metadata": {
    "scrolled": true
   },
   "outputs": [
    {
     "data": {
      "text/plain": [
       "[]"
      ]
     },
     "execution_count": 4,
     "metadata": {},
     "output_type": "execute_result"
    }
   ],
   "source": [
    "68178  --yulore 全部sid\n",
    "8625    ---完全缺失\n",
    "17727  --270 全部sid\n",
    "2660   --270 完全缺失"
   ]
  },
  {
   "cell_type": "code",
   "execution_count": 19,
   "metadata": {
    "collapsed": true
   },
   "outputs": [],
   "source": [
    "tels=[13432089222,\n",
    "15118230801\t,\n",
    "15812487944\t,\n",
    "13729316468\t,\n",
    "15216994436\t,\n",
    "13822289387\t,\n",
    "13724833861,\n",
    "13682412317\t,\n",
    "18218260250\t,\n",
    "13538525382\t,\n",
    "15919277538\t,\n",
    "18719043153\t,\n",
    "13719129223\t,\n",
    "13922840147\t,\n",
    "15712073560\t,\n",
    "13711117996\t,\n",
    "13631560310\t,\n",
    "13724833861\t,\n",
    "13702305917\t,\n",
    "13928855404\t,\n",
    "15986836628\t,\n",
    "15889689413\t,\n",
    "15919277538\t,\n",
    "18218260250\t,\n",
    "15992014371\t,\n",
    "13711263982\t,\n",
    "13676162121\t,\n",
    "13414318588\t,\n",
    "15919221197\t,\n",
    "13534106064\t,\n",
    "13553613817\t,\n",
    "13450430469\t,\n",
    "15219256379\t,\n",
    "13631560310\t,\n",
    "15919277538\t,\n",
    "13713360440\t,\n",
    "13535582533,\n",
    "15814061677\t,\n",
    "13829928408\t,\n",
    "13713360440\t,\n",
    "13809878166\t,\n",
    "13926568921\t,\n",
    "13715556114\t,\n",
    "15920144125\t,\n",
    "13534106064\t,\n",
    "13560563007\t,\n",
    "13631590280\t,\n",
    "13620006036\t,\n",
    "13829928408\t,\n",
    "13539435077\t,\n",
    "13712840028\t,\n",
    "15089331777\t,\n",
    "15089331777\t,\n",
    "13828849660\t,\n",
    "13822259925\t,\n",
    "13760663884\t,\n",
    "13631518774\t,\n",
    "13697450770\t,\n",
    "13828986676\t,\n",
    "13823385768\t,\n",
    "13532852445\t,\n",
    "18818870430\t,\n",
    "15986610670\t,\n",
    "13427996432\t,\n",
    "13824461749\t,\n",
    "15707565028\t,\n",
    "13420275043\t,\n",
    "13726013683\t,\n",
    "15011952339\t,\n",
    "18823281595\t,\n",
    "13570686873\t,\n",
    "13480814687\t,\n",
    "15918721887\t,\n",
    "13538586620\t,\n",
    "13556795062\t,\n",
    "15992041322\t,\n",
    "15914178688\t,\n",
    "15876985506\t,\n",
    "18319667988\t,\n",
    "13712272852\t,\n",
    "15876507373\t,\n",
    "13450900564\t,\n",
    "15017281776\t,\n",
    "13417988073\t,\n",
    "13538807602\t,\n",
    "15813218819\t,\n",
    "13413831497\t,\n",
    "13726013683\t,\n",
    "13925033908\t,\n",
    "13534559101\t,\n",
    "13516608490\t,\n",
    "18718685774\t,\n",
    "13662855556\t,\n",
    "13516608490\t,\n",
    "13712153375\t,\n",
    "13560568888\t,\n",
    "13798806288\t,\n",
    "13727108101\t,\n",
    "13532669064\t,\n",
    "15107500221\t,\n",
    "15917997086\t,\n",
    "15218205483\t,\n",
    "15917997086\t,\n",
    "15917997086\t,\n",
    "13532069563\t,\n",
    "13544210950\t,\n",
    "13631423836]\n"
   ]
  },
  {
   "cell_type": "code",
   "execution_count": 37,
   "metadata": {
    "collapsed": true
   },
   "outputs": [],
   "source": [
    "for x in tels:\n",
    "    data=db_conn.call_log_details.find_one({'tel':str(x)},{'tel':1,'_id':1})\n",
    "    if data:\n",
    "        print(data)\n"
   ]
  },
  {
   "cell_type": "code",
   "execution_count": 10,
   "metadata": {
    "scrolled": false
   },
   "outputs": [
    {
     "name": "stderr",
     "output_type": "stream",
     "text": [
      "C:\\ProgramData\\Anaconda3\\lib\\site-packages\\ipykernel_launcher.py:2: DeprecationWarning: count is deprecated. Use Collection.count_documents instead.\n",
      "  \n"
     ]
    },
    {
     "data": {
      "text/plain": [
       "1073273"
      ]
     },
     "execution_count": 10,
     "metadata": {},
     "output_type": "execute_result"
    }
   ],
   "source": [
    "\n",
    "data=db_conn.sid_info.find({}).count()\n",
    "data"
   ]
  },
  {
   "cell_type": "code",
   "execution_count": 4,
   "metadata": {
    "collapsed": true
   },
   "outputs": [],
   "source": [
    "data=db_conn.sid_info.find({'end_time': {'$lte': 1532707199.0, '$gte': 1535521368.0}},{'_id':0,'cid':1})\n",
    "db_cid=list(set(x['cid'] for x in data if 'cid' in x))"
   ]
  },
  {
   "cell_type": "code",
   "execution_count": 18,
   "metadata": {},
   "outputs": [
    {
     "data": {
      "text/plain": [
       "['122']"
      ]
     },
     "execution_count": 18,
     "metadata": {},
     "output_type": "execute_result"
    }
   ],
   "source": [
    "[x for x in db_cid if x not in select_cid]"
   ]
  },
  {
   "cell_type": "code",
   "execution_count": 19,
   "metadata": {},
   "outputs": [
    {
     "name": "stderr",
     "output_type": "stream",
     "text": [
      "C:\\ProgramData\\Anaconda3\\lib\\site-packages\\ipykernel_launcher.py:1: DeprecationWarning: count is deprecated. Use Collection.count_documents instead.\n",
      "  \"\"\"Entry point for launching an IPython kernel.\n"
     ]
    },
    {
     "data": {
      "text/plain": [
       "416"
      ]
     },
     "execution_count": 19,
     "metadata": {},
     "output_type": "execute_result"
    }
   ],
   "source": [
    "db_conn.sid_info.find({'end_time': {'$lte': 1532707199.0, '$gte': 1532620800.0},'cid':'122'},{'_id':0,'cid':1}).count()"
   ]
  },
  {
   "cell_type": "code",
   "execution_count": 20,
   "metadata": {},
   "outputs": [
    {
     "name": "stderr",
     "output_type": "stream",
     "text": [
      "C:\\ProgramData\\Anaconda3\\lib\\site-packages\\ipykernel_launcher.py:1: DeprecationWarning: count is deprecated. Use Collection.count_documents instead.\n",
      "  \"\"\"Entry point for launching an IPython kernel.\n"
     ]
    },
    {
     "data": {
      "text/plain": [
       "416"
      ]
     },
     "execution_count": 20,
     "metadata": {},
     "output_type": "execute_result"
    }
   ],
   "source": [
    "db_conn.sid_info.find({'end_time': {'$lte': 1532707199.0, '$gte': 1532620800.0},'cid':'122','status':0},{'_id':0,'cid':1}).count()"
   ]
  },
  {
   "cell_type": "code",
   "execution_count": 21,
   "metadata": {},
   "outputs": [
    {
     "name": "stderr",
     "output_type": "stream",
     "text": [
      "C:\\ProgramData\\Anaconda3\\lib\\site-packages\\ipykernel_launcher.py:1: DeprecationWarning: count is deprecated. Use Collection.count_documents instead.\n",
      "  \"\"\"Entry point for launching an IPython kernel.\n"
     ]
    },
    {
     "data": {
      "text/plain": [
       "105"
      ]
     },
     "execution_count": 21,
     "metadata": {},
     "output_type": "execute_result"
    }
   ],
   "source": [
    "db_conn.sid_info.find({'end_time': {'$lte': 1532707199.0, '$gte': 1532620800.0},'cid':{'$exists':False}},{'_id':0,'cid':1}).count()"
   ]
  },
  {
   "cell_type": "code",
   "execution_count": 22,
   "metadata": {},
   "outputs": [
    {
     "name": "stderr",
     "output_type": "stream",
     "text": [
      "C:\\ProgramData\\Anaconda3\\lib\\site-packages\\ipykernel_launcher.py:1: DeprecationWarning: count is deprecated. Use Collection.count_documents instead.\n",
      "  \"\"\"Entry point for launching an IPython kernel.\n"
     ]
    },
    {
     "data": {
      "text/plain": [
       "0"
      ]
     },
     "execution_count": 22,
     "metadata": {},
     "output_type": "execute_result"
    }
   ],
   "source": [
    "db_conn.sid_info.find({'end_time': {'$lte': 1532707199.0, '$gte': 1532620800.0},'cid':{'$exists':False},'status':0},{'_id':0,'cid':1}).count()"
   ]
  },
  {
   "cell_type": "code",
   "execution_count": 35,
   "metadata": {},
   "outputs": [
    {
     "data": {
      "text/plain": [
       "<pymongo.cursor.Cursor at 0x1c68e10d6d8>"
      ]
     },
     "execution_count": 35,
     "metadata": {},
     "output_type": "execute_result"
    }
   ],
   "source": [
    "db_conn.log.find({'created_at': {'$lte': 1532707199.0, '$gte': 1532620800.0},'log_name':'mongo_log','insert_data.sid':'SID2372908afd78430dae772cb9f0c75939'})"
   ]
  },
  {
   "cell_type": "code",
   "execution_count": 72,
   "metadata": {
    "collapsed": true
   },
   "outputs": [],
   "source": [
    "no_cid=db_conn.sid_info.find({'end_time': {'$lte': 1533139200.0, '$gte': 1533052800.0},'cid':{'$exists':False}},{'_id':0,'sid':1,'tel':1,'status' :1})"
   ]
  },
  {
   "cell_type": "code",
   "execution_count": 73,
   "metadata": {
    "collapsed": true
   },
   "outputs": [],
   "source": [
    "no_cid=pd.DataFrame([x for x in no_cid ])"
   ]
  },
  {
   "cell_type": "code",
   "execution_count": 74,
   "metadata": {},
   "outputs": [
    {
     "data": {
      "text/plain": [
       "1       82\n",
       "3099     6\n",
       "Name: status, dtype: int64"
      ]
     },
     "execution_count": 74,
     "metadata": {},
     "output_type": "execute_result"
    }
   ],
   "source": [
    "no_cid['status'].value_counts()"
   ]
  },
  {
   "cell_type": "code",
   "execution_count": 75,
   "metadata": {
    "collapsed": true
   },
   "outputs": [],
   "source": [
    "no_cid.to_html('20180801_no_cid.html')"
   ]
  },
  {
   "cell_type": "code",
   "execution_count": 76,
   "metadata": {
    "collapsed": true
   },
   "outputs": [],
   "source": [
    "no_cid=db_conn.sid_info.find({'end_time': {'$lte': 1533139200.0, '$gte': 1533052800.0},'status':1},{'_id':0,'sid':1,'cid':1,'tel':1})\n",
    "no_cid=pd.DataFrame([x for x in no_cid ])\n",
    "no_cid['cid'].value_counts()\n",
    "no_cid.to_html('20180801_status==1.html')"
   ]
  },
  {
   "cell_type": "code",
   "execution_count": 77,
   "metadata": {},
   "outputs": [
    {
     "data": {
      "text/plain": [
       "159    11\n",
       "21     10\n",
       "245     8\n",
       "126     3\n",
       "30      1\n",
       "94      1\n",
       "Name: cid, dtype: int64"
      ]
     },
     "execution_count": 77,
     "metadata": {},
     "output_type": "execute_result"
    }
   ],
   "source": [
    "no_cid['cid'].value_counts()"
   ]
  },
  {
   "cell_type": "code",
   "execution_count": 37,
   "metadata": {},
   "outputs": [
    {
     "data": {
      "text/plain": [
       "{'IPv4': 'cp211-spider',\n",
       " 'crawler': 'china_mobile.all_entry',\n",
       " 'created_at': 1531022957.838027,\n",
       " 'file_line': 454,\n",
       " 'level': 'ERROR',\n",
       " 'log_name': 'state_log',\n",
       " 'message': 'success:UnderCrawl',\n",
       " 'sid': 'SIDba44647efe7b4f3cac0e91e3f39d68e6',\n",
       " 'state_log': {'bill_cache_hit_month_list': [],\n",
       "  'bill_fusion_cost_time': 0.009245157241821289,\n",
       "  'cache_hit_month_list': [],\n",
       "  'call_log_missing_month_list': ['201805', '201804', '201803', '201802'],\n",
       "  'call_log_part_missing_list': ['201806'],\n",
       "  'call_log_possibly_missing_month_list': [],\n",
       "  'crawl_status': 0,\n",
       "  'data_fusion_cost_time': 0.048928022384643555,\n",
       "  'execute_msg': 'success',\n",
       "  'execute_status': 0,\n",
       "  'next_action': 'Finish',\n",
       "  'state_flag': 'End',\n",
       "  'state_name': 'UnderCrawl'}}"
      ]
     },
     "execution_count": 37,
     "metadata": {},
     "output_type": "execute_result"
    }
   ],
   "source": [
    "dict_str={  \"log_name\" : \"state_log\", \"level\" : \"ERROR\", \"created_at\" : 1531022957.838027, \"file_line\" : 454, \"IPv4\" : \"cp211-spider\", \"state_log\" : { \"execute_msg\" : \"success\", \"bill_cache_hit_month_list\" : [ ], \"cache_hit_month_list\" : [ ], \"next_action\" : \"Finish\", \"state_name\" : \"UnderCrawl\", \"call_log_possibly_missing_month_list\" : [ ], \"call_log_missing_month_list\" : [ \"201805\", \"201804\", \"201803\", \"201802\" ], \"call_log_part_missing_list\" : [ \"201806\" ], \"execute_status\" : 0, \"state_flag\" : \"End\", \"bill_fusion_cost_time\" : 0.009245157241821289, \"data_fusion_cost_time\" : 0.048928022384643555, \"crawl_status\" : 0 }, \"sid\" : \"SIDba44647efe7b4f3cac0e91e3f39d68e6\", \"message\" : \"success:UnderCrawl\", \"crawler\" : \"china_mobile.all_entry\" }\n",
    "dict_str"
   ]
  },
  {
   "cell_type": "code",
   "execution_count": 45,
   "metadata": {
    "collapsed": true
   },
   "outputs": [],
   "source": [
    "data=db_conn.sid_info.find({'sid':'SIDbfeead16c55b41bd9137ad52345832d2'})"
   ]
  },
  {
   "cell_type": "code",
   "execution_count": 46,
   "metadata": {},
   "outputs": [
    {
     "data": {
      "text/plain": [
       "[{'_id': ObjectId('5b5e78c1dfd6ee77a2d949e8'),\n",
       "  'cid': '244',\n",
       "  'end_time': 1532917953,\n",
       "  'expire_time': 1532918253,\n",
       "  'job_id': ObjectId('5b5e78c2dfd6ee77a2d949e9'),\n",
       "  'message': 'start to crawl',\n",
       "  'sid': 'SIDbfeead16c55b41bd9137ad52345832d2',\n",
       "  'start_time': 1532917953,\n",
       "  'status': 1,\n",
       "  'tel': '17665466001',\n",
       "  'tel_info': {'city': '深圳',\n",
       "   'flow_type': '10010',\n",
       "   'province': '广东',\n",
       "   'pwd_reset_link': 'https://uac.10010.com/cust/resetpwd/inputName',\n",
       "   'register_link': 'https://uac.10010.com/portal/register.html',\n",
       "   'telecom': '联通'},\n",
       "  'uid': '1532917952898',\n",
       "  'user_info': {'user_idcard': '130434198406060523', 'user_name': '王艳利'}}]"
      ]
     },
     "execution_count": 46,
     "metadata": {},
     "output_type": "execute_result"
    }
   ],
   "source": [
    "list(data)"
   ]
  },
  {
   "cell_type": "code",
   "execution_count": null,
   "metadata": {
    "collapsed": true
   },
   "outputs": [],
   "source": []
  },
  {
   "cell_type": "code",
   "execution_count": 49,
   "metadata": {
    "collapsed": true
   },
   "outputs": [],
   "source": [
    "data=db_conn.sid_info_data_rpt.find({'rpt_date':'20180730'})"
   ]
  },
  {
   "cell_type": "code",
   "execution_count": 50,
   "metadata": {
    "collapsed": true
   },
   "outputs": [],
   "source": [
    "data=pd.DataFrame([x for x in data ])\n",
    "data.to_csv('rpt_20180730.csv')"
   ]
  },
  {
   "cell_type": "code",
   "execution_count": 61,
   "metadata": {},
   "outputs": [
    {
     "data": {
      "text/plain": [
       "[{'count_call_log_cache': 659054, 'rpt_date': '2018-07-25'}]"
      ]
     },
     "execution_count": 61,
     "metadata": {},
     "output_type": "execute_result"
    }
   ],
   "source": [
    "data=db_conn['data_fusion_rpt'].find({\"rpt_date\":{'$gte':'2018-07-24'}},{'rpt_date':1,'count_call_log_cache':1,'_id':0}).limit(1)\n",
    "list(data)"
   ]
  },
  {
   "cell_type": "code",
   "execution_count": 63,
   "metadata": {
    "collapsed": true
   },
   "outputs": [],
   "source": [
    "import numpy as np\n"
   ]
  },
  {
   "cell_type": "code",
   "execution_count": 66,
   "metadata": {
    "collapsed": true
   },
   "outputs": [],
   "source": [
    "t3=np.array(range(179,240,3))"
   ]
  },
  {
   "cell_type": "code",
   "execution_count": 67,
   "metadata": {},
   "outputs": [
    {
     "data": {
      "text/plain": [
       "array([179, 182, 185, 188, 191, 194, 197, 200, 200, 200, 200, 200, 200,\n",
       "       200, 200, 200, 200, 200, 200, 200, 200])"
      ]
     },
     "execution_count": 67,
     "metadata": {},
     "output_type": "execute_result"
    }
   ],
   "source": [
    "np.maximum(-100, np.minimum(200, t3))"
   ]
  },
  {
   "cell_type": "code",
   "execution_count": 81,
   "metadata": {
    "collapsed": true
   },
   "outputs": [],
   "source": [
    "prv_list={    '北京':'11',\n",
    "    '天津':'12',\n",
    "    '上海':'31',\n",
    "    '重庆':'50',\n",
    "    '河北':'13',\n",
    "    '河南':'41',\n",
    "    '云南':'53',\n",
    "    '辽宁':'21',\n",
    "    '黑龙江':'23',\n",
    "    '湖南':'43',\n",
    "    '安徽':'34',\n",
    "    '山东':'37',\n",
    "    '新疆':'65',\n",
    "    '江苏':'32',\n",
    "    '浙江':'33',\n",
    "    '江西':'36',\n",
    "    '湖北':'42',\n",
    "    '广西':'45',\n",
    "    '甘肃':'62',\n",
    "    '山西':'14',\n",
    "    '内蒙古':'15',\n",
    "    '陕西':'61',\n",
    "    '吉林':'22',\n",
    "    '福建':'35',\n",
    "    '贵州':'52',\n",
    "    '广东':'44',\n",
    "    '青海':'63',\n",
    "    '西藏':'54',\n",
    "    '四川':'51',\n",
    "    '宁夏':'64',\n",
    "    '海南':'46' ,}"
   ]
  },
  {
   "cell_type": "code",
   "execution_count": 82,
   "metadata": {},
   "outputs": [
    {
     "data": {
      "text/plain": [
       "{'11': '北京',\n",
       " '12': '天津',\n",
       " '13': '河北',\n",
       " '14': '山西',\n",
       " '15': '内蒙古',\n",
       " '21': '辽宁',\n",
       " '22': '吉林',\n",
       " '23': '黑龙江',\n",
       " '31': '上海',\n",
       " '32': '江苏',\n",
       " '33': '浙江',\n",
       " '34': '安徽',\n",
       " '35': '福建',\n",
       " '36': '江西',\n",
       " '37': '山东',\n",
       " '41': '河南',\n",
       " '42': '湖北',\n",
       " '43': '湖南',\n",
       " '44': '广东',\n",
       " '45': '广西',\n",
       " '46': '海南',\n",
       " '50': '重庆',\n",
       " '51': '四川',\n",
       " '52': '贵州',\n",
       " '53': '云南',\n",
       " '54': '西藏',\n",
       " '61': '陕西',\n",
       " '62': '甘肃',\n",
       " '63': '青海',\n",
       " '64': '宁夏',\n",
       " '65': '新疆'}"
      ]
     },
     "execution_count": 82,
     "metadata": {},
     "output_type": "execute_result"
    }
   ],
   "source": [
    "new_prv_list={}\n",
    "for key,v in prv_list.items():\n",
    "    new_prv_list[v]=key\n",
    "new_prv_list"
   ]
  },
  {
   "cell_type": "code",
   "execution_count": 17,
   "metadata": {
    "collapsed": true
   },
   "outputs": [],
   "source": [
    "data=db_conn.call_log_details.find({'tel':'15038610771'})"
   ]
  },
  {
   "cell_type": "code",
   "execution_count": 18,
   "metadata": {
    "collapsed": true
   },
   "outputs": [],
   "source": [
    "data=list(data)[0]"
   ]
  },
  {
   "cell_type": "code",
   "execution_count": 23,
   "metadata": {},
   "outputs": [
    {
     "data": {
      "text/plain": [
       "[{'cot': '0.00',\n",
       "  'cte': '15937984760',\n",
       "  'cto': '',\n",
       "  'dur': '85',\n",
       "  'frm': '洛阳',\n",
       "  'mon': '201805',\n",
       "  'mtd': '主叫',\n",
       "  'tel': '15038610771',\n",
       "  'tim': '1526094028',\n",
       "  'tye': '本地主叫本地'},\n",
       " {'cot': '0.00',\n",
       "  'cte': '13213595222',\n",
       "  'cto': '',\n",
       "  'dur': '114',\n",
       "  'frm': '洛阳',\n",
       "  'mon': '201805',\n",
       "  'mtd': '被叫',\n",
       "  'tel': '15038610771',\n",
       "  'tim': '1526094845',\n",
       "  'tye': '国内被叫'},\n",
       " {'cot': '0.00',\n",
       "  'cte': '15937984760',\n",
       "  'cto': '',\n",
       "  'dur': '65',\n",
       "  'frm': '洛阳',\n",
       "  'mon': '201805',\n",
       "  'mtd': '主叫',\n",
       "  'tel': '15038610771',\n",
       "  'tim': '1526095047',\n",
       "  'tye': '本地主叫本地'},\n",
       " {'cot': '0.00',\n",
       "  'cte': '15937984760',\n",
       "  'cto': '',\n",
       "  'dur': '85',\n",
       "  'frm': '洛阳',\n",
       "  'mon': '201805',\n",
       "  'mtd': '主叫',\n",
       "  'tel': '15038610771',\n",
       "  'tim': '1526094028',\n",
       "  'tye': '本地主叫本地'},\n",
       " {'cot': '0.00',\n",
       "  'cte': '13213595222',\n",
       "  'cto': '',\n",
       "  'dur': '114',\n",
       "  'frm': '洛阳',\n",
       "  'mon': '201805',\n",
       "  'mtd': '被叫',\n",
       "  'tel': '15038610771',\n",
       "  'tim': '1526094845',\n",
       "  'tye': '国内被叫'},\n",
       " {'cot': '0.00',\n",
       "  'cte': '15937984760',\n",
       "  'cto': '',\n",
       "  'dur': '65',\n",
       "  'frm': '洛阳',\n",
       "  'mon': '201805',\n",
       "  'mtd': '主叫',\n",
       "  'tel': '15038610771',\n",
       "  'tim': '1526095047',\n",
       "  'tye': '本地主叫本地'}]"
      ]
     },
     "execution_count": 23,
     "metadata": {},
     "output_type": "execute_result"
    }
   ],
   "source": [
    "data['201805']['det']"
   ]
  },
  {
   "cell_type": "code",
   "execution_count": 21,
   "metadata": {},
   "outputs": [
    {
     "data": {
      "text/html": [
       "<div>\n",
       "<style>\n",
       "    .dataframe thead tr:only-child th {\n",
       "        text-align: right;\n",
       "    }\n",
       "\n",
       "    .dataframe thead th {\n",
       "        text-align: left;\n",
       "    }\n",
       "\n",
       "    .dataframe tbody tr th {\n",
       "        vertical-align: top;\n",
       "    }\n",
       "</style>\n",
       "<table border=\"1\" class=\"dataframe\">\n",
       "  <thead>\n",
       "    <tr style=\"text-align: right;\">\n",
       "      <th></th>\n",
       "      <th>cot</th>\n",
       "      <th>cte</th>\n",
       "      <th>cto</th>\n",
       "      <th>dur</th>\n",
       "      <th>frm</th>\n",
       "      <th>mon</th>\n",
       "      <th>mtd</th>\n",
       "      <th>tel</th>\n",
       "      <th>tim</th>\n",
       "      <th>tye</th>\n",
       "    </tr>\n",
       "  </thead>\n",
       "  <tbody>\n",
       "    <tr>\n",
       "      <th>0</th>\n",
       "      <td>0.00</td>\n",
       "      <td>15937984760</td>\n",
       "      <td></td>\n",
       "      <td>85</td>\n",
       "      <td>洛阳</td>\n",
       "      <td>201805</td>\n",
       "      <td>主叫</td>\n",
       "      <td>15038610771</td>\n",
       "      <td>1526094028</td>\n",
       "      <td>本地主叫本地</td>\n",
       "    </tr>\n",
       "    <tr>\n",
       "      <th>1</th>\n",
       "      <td>0.00</td>\n",
       "      <td>13213595222</td>\n",
       "      <td></td>\n",
       "      <td>114</td>\n",
       "      <td>洛阳</td>\n",
       "      <td>201805</td>\n",
       "      <td>被叫</td>\n",
       "      <td>15038610771</td>\n",
       "      <td>1526094845</td>\n",
       "      <td>国内被叫</td>\n",
       "    </tr>\n",
       "    <tr>\n",
       "      <th>2</th>\n",
       "      <td>0.00</td>\n",
       "      <td>15937984760</td>\n",
       "      <td></td>\n",
       "      <td>65</td>\n",
       "      <td>洛阳</td>\n",
       "      <td>201805</td>\n",
       "      <td>主叫</td>\n",
       "      <td>15038610771</td>\n",
       "      <td>1526095047</td>\n",
       "      <td>本地主叫本地</td>\n",
       "    </tr>\n",
       "    <tr>\n",
       "      <th>3</th>\n",
       "      <td>0.00</td>\n",
       "      <td>15937984760</td>\n",
       "      <td></td>\n",
       "      <td>85</td>\n",
       "      <td>洛阳</td>\n",
       "      <td>201805</td>\n",
       "      <td>主叫</td>\n",
       "      <td>15038610771</td>\n",
       "      <td>1526094028</td>\n",
       "      <td>本地主叫本地</td>\n",
       "    </tr>\n",
       "    <tr>\n",
       "      <th>4</th>\n",
       "      <td>0.00</td>\n",
       "      <td>13213595222</td>\n",
       "      <td></td>\n",
       "      <td>114</td>\n",
       "      <td>洛阳</td>\n",
       "      <td>201805</td>\n",
       "      <td>被叫</td>\n",
       "      <td>15038610771</td>\n",
       "      <td>1526094845</td>\n",
       "      <td>国内被叫</td>\n",
       "    </tr>\n",
       "    <tr>\n",
       "      <th>5</th>\n",
       "      <td>0.00</td>\n",
       "      <td>15937984760</td>\n",
       "      <td></td>\n",
       "      <td>65</td>\n",
       "      <td>洛阳</td>\n",
       "      <td>201805</td>\n",
       "      <td>主叫</td>\n",
       "      <td>15038610771</td>\n",
       "      <td>1526095047</td>\n",
       "      <td>本地主叫本地</td>\n",
       "    </tr>\n",
       "  </tbody>\n",
       "</table>\n",
       "</div>"
      ],
      "text/plain": [
       "    cot          cte cto  dur frm     mon mtd          tel         tim     tye\n",
       "0  0.00  15937984760       85  洛阳  201805  主叫  15038610771  1526094028  本地主叫本地\n",
       "1  0.00  13213595222      114  洛阳  201805  被叫  15038610771  1526094845    国内被叫\n",
       "2  0.00  15937984760       65  洛阳  201805  主叫  15038610771  1526095047  本地主叫本地\n",
       "3  0.00  15937984760       85  洛阳  201805  主叫  15038610771  1526094028  本地主叫本地\n",
       "4  0.00  13213595222      114  洛阳  201805  被叫  15038610771  1526094845    国内被叫\n",
       "5  0.00  15937984760       65  洛阳  201805  主叫  15038610771  1526095047  本地主叫本地"
      ]
     },
     "execution_count": 21,
     "metadata": {},
     "output_type": "execute_result"
    }
   ],
   "source": [
    "import pandas as pd\n",
    "det=pd.DataFrame(x for x in data['201805']['det'])\n",
    "det"
   ]
  },
  {
   "cell_type": "code",
   "execution_count": null,
   "metadata": {
    "collapsed": true
   },
   "outputs": [],
   "source": []
  }
 ],
 "metadata": {
  "kernelspec": {
   "display_name": "Python 3",
   "language": "python",
   "name": "python3"
  },
  "language_info": {
   "codemirror_mode": {
    "name": "ipython",
    "version": 3
   },
   "file_extension": ".py",
   "mimetype": "text/x-python",
   "name": "python",
   "nbconvert_exporter": "python",
   "pygments_lexer": "ipython3",
   "version": "3.6.3"
  }
 },
 "nbformat": 4,
 "nbformat_minor": 2
}
