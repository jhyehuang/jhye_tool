{
 "cells": [
  {
   "cell_type": "code",
   "execution_count": 1,
   "metadata": {
    "collapsed": true
   },
   "outputs": [],
   "source": [
    "from  lib.mongo_db  import db_conn"
   ]
  },
  {
   "cell_type": "code",
   "execution_count": 2,
   "metadata": {
    "collapsed": true
   },
   "outputs": [],
   "source": [
    "select_cid=['1', '3', '4', '5', '6', '7', '8', '9', '10', '11', '12', '13', '14', '15', '16', '17', '18', '19', '20', '21', '22', '23', '24', '25', '26', '27', '28', '29', '30', '31', '32', '33', '34', '35', '36', '37', '38', '39', '40', '41', '42', '43', '44', '45', '46', '47', '48', '49', '50', '51', '52', '53', '54', '55', '56', '57', '58', '59', '60', '61', '62', '63', '64', '65', '66', '67', '68', '69', '70', '71', '72', '73', '74', '75', '76', '77', '78', '79', '80', '81', '82', '83', '84', '85', '86', '87', '88', '89', '90', '91', '92', '93', '94', '95', '96', '97', '98', '99', '100', '101', '102', '103', '104', '105', '106', '107', '108', '109', '110', '111', '112', '113', '114', '115', '116', '117', '118', '119', '120', '121', '123', '124', '125', '126', '127', '128', '129', '130', '131', '132', '133', '134', '135', '136', '137', '138', '139', '140', '141', '142', '143', '144', '145', '146', '147', '148', '149', '150', '151', '152', '153', '154', '155', '156', '157', '158', '159', '160', '161', '162', '163', '164', '165', '166', '167', '168', '169', '170', '171', '172', '173', '174', '175', '176', '177', '178', '179', '180', '181', '182', '183', '184', '185', '186', '187', '188', '189', '190', '191', '192', '193', '194', '195', '196', '197', '198', '199', '200', '201', '202', '203', '204', '205', '206', '207', '208', '209', '210', '211', '212', '213', '214', '215', '216', '217', '218', '219', '220', '221', '222', '223', '224', '225', '226', '227', '228', '229', '230', '231', '232', '233', '234', '235', '236', '237', '238', '239', '240', '241', '242', '243', '244', '245', '246', '247', '248', '249', '250', '251', '252', '253', '254', '255', '256', '257', '258', '259', '260', '261', '262', '263', '264', '265']"
   ]
  },
  {
   "cell_type": "code",
   "execution_count": 3,
   "metadata": {},
   "outputs": [
    {
     "name": "stderr",
     "output_type": "stream",
     "text": [
      "C:\\ProgramData\\Anaconda3\\lib\\site-packages\\ipykernel_launcher.py:2: DeprecationWarning: count is deprecated. Use Collection.count_documents instead.\n",
      "  \n"
     ]
    },
    {
     "data": {
      "text/plain": [
       "1038453"
      ]
     },
     "execution_count": 3,
     "metadata": {},
     "output_type": "execute_result"
    }
   ],
   "source": [
    "\n",
    "data=db_conn.sid_info.find({}).count()\n",
    "data"
   ]
  },
  {
   "cell_type": "code",
   "execution_count": 4,
   "metadata": {},
   "outputs": [],
   "source": [
    "data=db_conn.sid_info.find({'end_time': {'$lte': 1532707199.0, '$gte': 1532620800.0}},{'_id':0,'cid':1})\n",
    "db_cid=list(set(x['cid'] for x in data if 'cid' in x))"
   ]
  },
  {
   "cell_type": "code",
   "execution_count": 18,
   "metadata": {},
   "outputs": [
    {
     "data": {
      "text/plain": [
       "['122']"
      ]
     },
     "execution_count": 18,
     "metadata": {},
     "output_type": "execute_result"
    }
   ],
   "source": [
    "[x for x in db_cid if x not in select_cid]"
   ]
  },
  {
   "cell_type": "code",
   "execution_count": 19,
   "metadata": {},
   "outputs": [
    {
     "name": "stderr",
     "output_type": "stream",
     "text": [
      "C:\\ProgramData\\Anaconda3\\lib\\site-packages\\ipykernel_launcher.py:1: DeprecationWarning: count is deprecated. Use Collection.count_documents instead.\n",
      "  \"\"\"Entry point for launching an IPython kernel.\n"
     ]
    },
    {
     "data": {
      "text/plain": [
       "416"
      ]
     },
     "execution_count": 19,
     "metadata": {},
     "output_type": "execute_result"
    }
   ],
   "source": [
    "db_conn.sid_info.find({'end_time': {'$lte': 1532707199.0, '$gte': 1532620800.0},'cid':'122'},{'_id':0,'cid':1}).count()"
   ]
  },
  {
   "cell_type": "code",
   "execution_count": 20,
   "metadata": {},
   "outputs": [
    {
     "name": "stderr",
     "output_type": "stream",
     "text": [
      "C:\\ProgramData\\Anaconda3\\lib\\site-packages\\ipykernel_launcher.py:1: DeprecationWarning: count is deprecated. Use Collection.count_documents instead.\n",
      "  \"\"\"Entry point for launching an IPython kernel.\n"
     ]
    },
    {
     "data": {
      "text/plain": [
       "416"
      ]
     },
     "execution_count": 20,
     "metadata": {},
     "output_type": "execute_result"
    }
   ],
   "source": [
    "db_conn.sid_info.find({'end_time': {'$lte': 1532707199.0, '$gte': 1532620800.0},'cid':'122','status':0},{'_id':0,'cid':1}).count()"
   ]
  },
  {
   "cell_type": "code",
   "execution_count": 21,
   "metadata": {},
   "outputs": [
    {
     "name": "stderr",
     "output_type": "stream",
     "text": [
      "C:\\ProgramData\\Anaconda3\\lib\\site-packages\\ipykernel_launcher.py:1: DeprecationWarning: count is deprecated. Use Collection.count_documents instead.\n",
      "  \"\"\"Entry point for launching an IPython kernel.\n"
     ]
    },
    {
     "data": {
      "text/plain": [
       "105"
      ]
     },
     "execution_count": 21,
     "metadata": {},
     "output_type": "execute_result"
    }
   ],
   "source": [
    "db_conn.sid_info.find({'end_time': {'$lte': 1532707199.0, '$gte': 1532620800.0},'cid':{'$exists':False}},{'_id':0,'cid':1}).count()"
   ]
  },
  {
   "cell_type": "code",
   "execution_count": 22,
   "metadata": {},
   "outputs": [
    {
     "name": "stderr",
     "output_type": "stream",
     "text": [
      "C:\\ProgramData\\Anaconda3\\lib\\site-packages\\ipykernel_launcher.py:1: DeprecationWarning: count is deprecated. Use Collection.count_documents instead.\n",
      "  \"\"\"Entry point for launching an IPython kernel.\n"
     ]
    },
    {
     "data": {
      "text/plain": [
       "0"
      ]
     },
     "execution_count": 22,
     "metadata": {},
     "output_type": "execute_result"
    }
   ],
   "source": [
    "db_conn.sid_info.find({'end_time': {'$lte': 1532707199.0, '$gte': 1532620800.0},'cid':{'$exists':False},'status':0},{'_id':0,'cid':1}).count()"
   ]
  },
  {
   "cell_type": "code",
   "execution_count": 35,
   "metadata": {},
   "outputs": [
    {
     "data": {
      "text/plain": [
       "<pymongo.cursor.Cursor at 0x1c68e10d6d8>"
      ]
     },
     "execution_count": 35,
     "metadata": {},
     "output_type": "execute_result"
    }
   ],
   "source": [
    "db_conn.log.find({'created_at': {'$lte': 1532707199.0, '$gte': 1532620800.0},'log_name':'mongo_log','insert_data.sid':'SID2372908afd78430dae772cb9f0c75939'})"
   ]
  },
  {
   "cell_type": "code",
   "execution_count": 72,
   "metadata": {
    "collapsed": true
   },
   "outputs": [],
   "source": [
    "no_cid=db_conn.sid_info.find({'end_time': {'$lte': 1533139200.0, '$gte': 1533052800.0},'cid':{'$exists':False}},{'_id':0,'sid':1,'tel':1,'status' :1})"
   ]
  },
  {
   "cell_type": "code",
   "execution_count": 73,
   "metadata": {
    "collapsed": true
   },
   "outputs": [],
   "source": [
    "no_cid=pd.DataFrame([x for x in no_cid ])"
   ]
  },
  {
   "cell_type": "code",
   "execution_count": 74,
   "metadata": {},
   "outputs": [
    {
     "data": {
      "text/plain": [
       "1       82\n",
       "3099     6\n",
       "Name: status, dtype: int64"
      ]
     },
     "execution_count": 74,
     "metadata": {},
     "output_type": "execute_result"
    }
   ],
   "source": [
    "no_cid['status'].value_counts()"
   ]
  },
  {
   "cell_type": "code",
   "execution_count": 75,
   "metadata": {
    "collapsed": true
   },
   "outputs": [],
   "source": [
    "no_cid.to_html('20180801_no_cid.html')"
   ]
  },
  {
   "cell_type": "code",
   "execution_count": 76,
   "metadata": {
    "collapsed": true
   },
   "outputs": [],
   "source": [
    "no_cid=db_conn.sid_info.find({'end_time': {'$lte': 1533139200.0, '$gte': 1533052800.0},'status':1},{'_id':0,'sid':1,'cid':1,'tel':1})\n",
    "no_cid=pd.DataFrame([x for x in no_cid ])\n",
    "no_cid['cid'].value_counts()\n",
    "no_cid.to_html('20180801_status==1.html')"
   ]
  },
  {
   "cell_type": "code",
   "execution_count": 77,
   "metadata": {},
   "outputs": [
    {
     "data": {
      "text/plain": [
       "159    11\n",
       "21     10\n",
       "245     8\n",
       "126     3\n",
       "30      1\n",
       "94      1\n",
       "Name: cid, dtype: int64"
      ]
     },
     "execution_count": 77,
     "metadata": {},
     "output_type": "execute_result"
    }
   ],
   "source": [
    "no_cid['cid'].value_counts()"
   ]
  },
  {
   "cell_type": "code",
   "execution_count": 37,
   "metadata": {},
   "outputs": [
    {
     "data": {
      "text/plain": [
       "{'IPv4': 'cp211-spider',\n",
       " 'crawler': 'china_mobile.all_entry',\n",
       " 'created_at': 1531022957.838027,\n",
       " 'file_line': 454,\n",
       " 'level': 'ERROR',\n",
       " 'log_name': 'state_log',\n",
       " 'message': 'success:UnderCrawl',\n",
       " 'sid': 'SIDba44647efe7b4f3cac0e91e3f39d68e6',\n",
       " 'state_log': {'bill_cache_hit_month_list': [],\n",
       "  'bill_fusion_cost_time': 0.009245157241821289,\n",
       "  'cache_hit_month_list': [],\n",
       "  'call_log_missing_month_list': ['201805', '201804', '201803', '201802'],\n",
       "  'call_log_part_missing_list': ['201806'],\n",
       "  'call_log_possibly_missing_month_list': [],\n",
       "  'crawl_status': 0,\n",
       "  'data_fusion_cost_time': 0.048928022384643555,\n",
       "  'execute_msg': 'success',\n",
       "  'execute_status': 0,\n",
       "  'next_action': 'Finish',\n",
       "  'state_flag': 'End',\n",
       "  'state_name': 'UnderCrawl'}}"
      ]
     },
     "execution_count": 37,
     "metadata": {},
     "output_type": "execute_result"
    }
   ],
   "source": [
    "dict_str={  \"log_name\" : \"state_log\", \"level\" : \"ERROR\", \"created_at\" : 1531022957.838027, \"file_line\" : 454, \"IPv4\" : \"cp211-spider\", \"state_log\" : { \"execute_msg\" : \"success\", \"bill_cache_hit_month_list\" : [ ], \"cache_hit_month_list\" : [ ], \"next_action\" : \"Finish\", \"state_name\" : \"UnderCrawl\", \"call_log_possibly_missing_month_list\" : [ ], \"call_log_missing_month_list\" : [ \"201805\", \"201804\", \"201803\", \"201802\" ], \"call_log_part_missing_list\" : [ \"201806\" ], \"execute_status\" : 0, \"state_flag\" : \"End\", \"bill_fusion_cost_time\" : 0.009245157241821289, \"data_fusion_cost_time\" : 0.048928022384643555, \"crawl_status\" : 0 }, \"sid\" : \"SIDba44647efe7b4f3cac0e91e3f39d68e6\", \"message\" : \"success:UnderCrawl\", \"crawler\" : \"china_mobile.all_entry\" }\n",
    "dict_str"
   ]
  },
  {
   "cell_type": "code",
   "execution_count": 45,
   "metadata": {
    "collapsed": true
   },
   "outputs": [],
   "source": [
    "data=db_conn.sid_info.find({'sid':'SIDbfeead16c55b41bd9137ad52345832d2'})"
   ]
  },
  {
   "cell_type": "code",
   "execution_count": 46,
   "metadata": {},
   "outputs": [
    {
     "data": {
      "text/plain": [
       "[{'_id': ObjectId('5b5e78c1dfd6ee77a2d949e8'),\n",
       "  'cid': '244',\n",
       "  'end_time': 1532917953,\n",
       "  'expire_time': 1532918253,\n",
       "  'job_id': ObjectId('5b5e78c2dfd6ee77a2d949e9'),\n",
       "  'message': 'start to crawl',\n",
       "  'sid': 'SIDbfeead16c55b41bd9137ad52345832d2',\n",
       "  'start_time': 1532917953,\n",
       "  'status': 1,\n",
       "  'tel': '17665466001',\n",
       "  'tel_info': {'city': '深圳',\n",
       "   'flow_type': '10010',\n",
       "   'province': '广东',\n",
       "   'pwd_reset_link': 'https://uac.10010.com/cust/resetpwd/inputName',\n",
       "   'register_link': 'https://uac.10010.com/portal/register.html',\n",
       "   'telecom': '联通'},\n",
       "  'uid': '1532917952898',\n",
       "  'user_info': {'user_idcard': '130434198406060523', 'user_name': '王艳利'}}]"
      ]
     },
     "execution_count": 46,
     "metadata": {},
     "output_type": "execute_result"
    }
   ],
   "source": [
    "list(data)"
   ]
  },
  {
   "cell_type": "code",
   "execution_count": null,
   "metadata": {
    "collapsed": true
   },
   "outputs": [],
   "source": []
  },
  {
   "cell_type": "code",
   "execution_count": 49,
   "metadata": {
    "collapsed": true
   },
   "outputs": [],
   "source": [
    "data=db_conn.sid_info_data_rpt.find({'rpt_date':'20180730'})"
   ]
  },
  {
   "cell_type": "code",
   "execution_count": 50,
   "metadata": {
    "collapsed": true
   },
   "outputs": [],
   "source": [
    "data=pd.DataFrame([x for x in data ])\n",
    "data.to_csv('rpt_20180730.csv')"
   ]
  },
  {
   "cell_type": "code",
   "execution_count": 61,
   "metadata": {},
   "outputs": [
    {
     "data": {
      "text/plain": [
       "[{'count_call_log_cache': 659054, 'rpt_date': '2018-07-25'}]"
      ]
     },
     "execution_count": 61,
     "metadata": {},
     "output_type": "execute_result"
    }
   ],
   "source": [
    "data=db_conn['data_fusion_rpt'].find({\"rpt_date\":{'$gte':'2018-07-24'}},{'rpt_date':1,'count_call_log_cache':1,'_id':0}).limit(1)\n",
    "list(data)"
   ]
  },
  {
   "cell_type": "code",
   "execution_count": 63,
   "metadata": {
    "collapsed": true
   },
   "outputs": [],
   "source": [
    "import numpy as np\n"
   ]
  },
  {
   "cell_type": "code",
   "execution_count": 66,
   "metadata": {
    "collapsed": true
   },
   "outputs": [],
   "source": [
    "t3=np.array(range(179,240,3))"
   ]
  },
  {
   "cell_type": "code",
   "execution_count": 67,
   "metadata": {},
   "outputs": [
    {
     "data": {
      "text/plain": [
       "array([179, 182, 185, 188, 191, 194, 197, 200, 200, 200, 200, 200, 200,\n",
       "       200, 200, 200, 200, 200, 200, 200, 200])"
      ]
     },
     "execution_count": 67,
     "metadata": {},
     "output_type": "execute_result"
    }
   ],
   "source": [
    "np.maximum(-100, np.minimum(200, t3))"
   ]
  },
  {
   "cell_type": "code",
   "execution_count": 81,
   "metadata": {
    "collapsed": true
   },
   "outputs": [],
   "source": [
    "prv_list={    '北京':'11',\n",
    "    '天津':'12',\n",
    "    '上海':'31',\n",
    "    '重庆':'50',\n",
    "    '河北':'13',\n",
    "    '河南':'41',\n",
    "    '云南':'53',\n",
    "    '辽宁':'21',\n",
    "    '黑龙江':'23',\n",
    "    '湖南':'43',\n",
    "    '安徽':'34',\n",
    "    '山东':'37',\n",
    "    '新疆':'65',\n",
    "    '江苏':'32',\n",
    "    '浙江':'33',\n",
    "    '江西':'36',\n",
    "    '湖北':'42',\n",
    "    '广西':'45',\n",
    "    '甘肃':'62',\n",
    "    '山西':'14',\n",
    "    '内蒙古':'15',\n",
    "    '陕西':'61',\n",
    "    '吉林':'22',\n",
    "    '福建':'35',\n",
    "    '贵州':'52',\n",
    "    '广东':'44',\n",
    "    '青海':'63',\n",
    "    '西藏':'54',\n",
    "    '四川':'51',\n",
    "    '宁夏':'64',\n",
    "    '海南':'46' ,}"
   ]
  },
  {
   "cell_type": "code",
   "execution_count": 82,
   "metadata": {},
   "outputs": [
    {
     "data": {
      "text/plain": [
       "{'11': '北京',\n",
       " '12': '天津',\n",
       " '13': '河北',\n",
       " '14': '山西',\n",
       " '15': '内蒙古',\n",
       " '21': '辽宁',\n",
       " '22': '吉林',\n",
       " '23': '黑龙江',\n",
       " '31': '上海',\n",
       " '32': '江苏',\n",
       " '33': '浙江',\n",
       " '34': '安徽',\n",
       " '35': '福建',\n",
       " '36': '江西',\n",
       " '37': '山东',\n",
       " '41': '河南',\n",
       " '42': '湖北',\n",
       " '43': '湖南',\n",
       " '44': '广东',\n",
       " '45': '广西',\n",
       " '46': '海南',\n",
       " '50': '重庆',\n",
       " '51': '四川',\n",
       " '52': '贵州',\n",
       " '53': '云南',\n",
       " '54': '西藏',\n",
       " '61': '陕西',\n",
       " '62': '甘肃',\n",
       " '63': '青海',\n",
       " '64': '宁夏',\n",
       " '65': '新疆'}"
      ]
     },
     "execution_count": 82,
     "metadata": {},
     "output_type": "execute_result"
    }
   ],
   "source": [
    "new_prv_list={}\n",
    "for key,v in prv_list.items():\n",
    "    new_prv_list[v]=key\n",
    "new_prv_list"
   ]
  },
  {
   "cell_type": "code",
   "execution_count": null,
   "metadata": {
    "collapsed": true
   },
   "outputs": [],
   "source": []
  }
 ],
 "metadata": {
  "kernelspec": {
   "display_name": "Python 3",
   "language": "python",
   "name": "python3"
  },
  "language_info": {
   "codemirror_mode": {
    "name": "ipython",
    "version": 3
   },
   "file_extension": ".py",
   "mimetype": "text/x-python",
   "name": "python",
   "nbconvert_exporter": "python",
   "pygments_lexer": "ipython3",
   "version": "3.6.3"
  }
 },
 "nbformat": 4,
 "nbformat_minor": 2
}
