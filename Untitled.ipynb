{
 "cells": [
  {
   "cell_type": "code",
   "execution_count": 6,
   "metadata": {},
   "outputs": [],
   "source": [
    "import requests  \n",
    "import json  \n",
    "from requests.packages.urllib3.exceptions import InsecureRequestWarning,InsecurePlatformWarning \n",
    "requests.packages.urllib3.disable_warnings(InsecureRequestWarning) \n",
    "requests.packages.urllib3.disable_warnings(InsecurePlatformWarning)\n",
    "\n",
    "\n",
    "url = 'https://rmfygg.court.gov.cn/web/rmfyportal/noticeinfo?p_p_id=noticelist_WAR_rmfynoticeListportlet&p_p_lifecycle=2&p_p_state=normal&p_p_mode=view&p_p_resource_id=initNoticeList&p_p_cacheability=cacheLevelPage&p_p_col_id=column-1&p_p_col_count=1'\n",
    "   "
   ]
  },
  {
   "cell_type": "code",
   "execution_count": 108,
   "metadata": {},
   "outputs": [],
   "source": [
    "header={}\n",
    "header['Accept']=\"application/json,text/javascript,*/*;q=0.01\"\n",
    "header['Accept-Encoding']='gzip,deflate,br'\n",
    "header['Accept-Language']=\"zh-CN,zh;q=0.8,zh-TW;q=0.7,zh-HK;q=0.5,en-US;q=0.3,en;q=0.2\"\n",
    "header['Cache-Control']=\"max-age=0\"\n",
    "header['Connection']=\"keep-alive\"\n",
    "header['Content-Length']='1097'\n",
    "header['Content-Type']=\"application/x-www-form-urlencoded;charset=UTF-8\"\n",
    "header['TE']='Trailers'\n",
    "header['User-Agent']=\"Mozilla/5.0 Gecko/20100101 Firefox/62.0\"\n",
    "header['X-Requested-With']='XMLHttpRequest' \n"
   ]
  },
  {
   "cell_type": "code",
   "execution_count": 110,
   "metadata": {},
   "outputs": [],
   "source": [
    "data ={} \n",
    "data['_noticelist_WAR_rmfynoticeListportlet_aoData']=[{\"name\":\"sEcho\",\"value\":1},\n",
    "                                                      {\"name\":\"iColumns\",\"value\":6},\n",
    "                                                      {\"name\":\"sColumns\",\"value\":\",,,,,\"},\n",
    "                                                      {\"name\":\"iDisplayStart\",\"value\":0},\n",
    "                                                      {\"name\":\"iDisplayLength\",\"value\":15},\n",
    "                                                      {\"name\":\"mDataProp_0\",\"value\":None},\n",
    "                                                      {\"name\":\"mDataProp_1\",\"value\":None},\n",
    "                                                      {\"name\":\"mDataProp_2\",\"value\":None},\n",
    "                                                      {\"name\":\"mDataProp_3\",\"value\":None},\n",
    "                                                      {\"name\":\"mDataProp_4\",\"value\":None},\n",
    "                                                      {\"name\":\"mDataProp_5\",\"value\":None}]\n",
    "data['_noticelist_WAR_rmfynoticeListportlet_content']=''\n",
    "data['_noticelist_WAR_rmfynoticeListportlet_courtParam']=''\n",
    "data['_noticelist_WAR_rmfynoticeListportlet_flag']='init'\n",
    "data['_noticelist_WAR_rmfynoticeListportlet_IEVersion']='ie'\n",
    "data['_noticelist_WAR_rmfynoticeListportlet_noticeType']='66'\n",
    "data['_noticelist_WAR_rmfynoticeListportlet_noticeTypeVal']='执行文书'\n",
    "data['_noticelist_WAR_rmfynoticeListportlet_searchContent']=''\n"
   ]
  },
  {
   "cell_type": "code",
   "execution_count": 111,
   "metadata": {},
   "outputs": [],
   "source": [
    "cookies={}\n",
    "cookies['CNZZDATA1273632440']='1075069879-1539783711-|1539789174'\n",
    "cookies['JSESSIONID']='422A23CC55188A62772397E204FE8364'\n",
    "cookies['LFR_SESSION_STATE_20158']='1539789819894'\n",
    "cookies['tgw_l7_route']='fb4686ab27ce2dbeb7cbdd7edefce9f4'\n",
    "cookies['UM_distinctid']='16682844456a-075a0ee45c2db08-75276752-1fa400-16682844457ef'"
   ]
  },
  {
   "cell_type": "code",
   "execution_count": 115,
   "metadata": {},
   "outputs": [],
   "source": [
    "wbdata = requests.post(url='https://rmfygg.court.gov.cn/web/rmfyportal/noticedetail?paramStr=5004996',data=data,headers=header,cookies=cookies)"
   ]
  },
  {
   "cell_type": "code",
   "execution_count": 122,
   "metadata": {},
   "outputs": [],
   "source": [
    "wbdata = requests.get(url='https://rmfygg.court.gov.cn/web/rmfyportal/noticedetail?paramStr=5004996')"
   ]
  },
  {
   "cell_type": "code",
   "execution_count": 123,
   "metadata": {},
   "outputs": [
    {
     "data": {
      "text/plain": [
       "<Response [200]>"
      ]
     },
     "execution_count": 123,
     "metadata": {},
     "output_type": "execute_result"
    }
   ],
   "source": [
    "wbdata"
   ]
  },
  {
   "cell_type": "code",
   "execution_count": 3,
   "metadata": {},
   "outputs": [
    {
     "ename": "ModuleNotFoundError",
     "evalue": "No module named 'PyQt4'",
     "output_type": "error",
     "traceback": [
      "\u001b[0;31m---------------------------------------------------------------------------\u001b[0m",
      "\u001b[0;31mModuleNotFoundError\u001b[0m                       Traceback (most recent call last)",
      "\u001b[0;32m<ipython-input-3-8fc864e2d243>\u001b[0m in \u001b[0;36m<module>\u001b[0;34m()\u001b[0m\n\u001b[1;32m      2\u001b[0m \u001b[0;32mimport\u001b[0m \u001b[0msys\u001b[0m\u001b[0;34m\u001b[0m\u001b[0m\n\u001b[1;32m      3\u001b[0m \u001b[0;32mfrom\u001b[0m \u001b[0mbs4\u001b[0m \u001b[0;32mimport\u001b[0m \u001b[0mBeautifulSoup\u001b[0m\u001b[0;34m\u001b[0m\u001b[0m\n\u001b[0;32m----> 4\u001b[0;31m \u001b[0;32mfrom\u001b[0m \u001b[0mPyQt4\u001b[0m\u001b[0;34m.\u001b[0m\u001b[0mQtWebKit\u001b[0m \u001b[0;32mimport\u001b[0m \u001b[0;34m*\u001b[0m\u001b[0;34m\u001b[0m\u001b[0m\n\u001b[0m\u001b[1;32m      5\u001b[0m \u001b[0;32mfrom\u001b[0m \u001b[0mPyQt4\u001b[0m\u001b[0;34m.\u001b[0m\u001b[0mQtGui\u001b[0m \u001b[0;32mimport\u001b[0m \u001b[0;34m*\u001b[0m\u001b[0;34m\u001b[0m\u001b[0m\n\u001b[1;32m      6\u001b[0m \u001b[0;32mfrom\u001b[0m \u001b[0mPyQt4\u001b[0m\u001b[0;34m.\u001b[0m\u001b[0mQtCore\u001b[0m \u001b[0;32mimport\u001b[0m \u001b[0;34m*\u001b[0m\u001b[0;34m\u001b[0m\u001b[0m\n",
      "\u001b[0;31mModuleNotFoundError\u001b[0m: No module named 'PyQt4'"
     ]
    }
   ],
   "source": [
    "#-*- coding:utf-8 -*-\n",
    "import sys \n",
    "from bs4 import BeautifulSoup \n",
    "from PyQt4.QtWebKit import * \n",
    "from PyQt4.QtGui import * \n",
    "from PyQt4.QtCore import * \n",
    "class Render(QWebPage):\n",
    "    def __init__(self,url): \n",
    "        self.app = QApplication(sys.argv) \n",
    "        QWebPage.__init__(self) \n",
    "        self.loadFinished.connect(self._loadFinished) \n",
    "        self.mainFrame().load(QUrl(url)) \n",
    "        self.app.exec_() \n",
    "    def _loadFinished(self, result): \n",
    "        self.frame = self.mainFrame() \n",
    "        self.app.quit() \n",
    "url = 'https://movie.douban.com'\n",
    "r = Render(url) \n",
    "html = r.frame.toHtml()\n",
    "html = html.toUtf8() \n",
    "html = unicode(html,'utf8','ignore') #把html转为我们所需要的python unicode类型\n",
    "soup=BeautifulSoup(html,'html.parser') \n",
    "for item in soup.select('img'): \n",
    "    print(item['alt']+\" \"+item['src']) #获取img标签下图片 以及名字信息\n"
   ]
  },
  {
   "cell_type": "code",
   "execution_count": null,
   "metadata": {},
   "outputs": [],
   "source": []
  }
 ],
 "metadata": {
  "kernelspec": {
   "display_name": "Python 3",
   "language": "python",
   "name": "python3"
  },
  "language_info": {
   "codemirror_mode": {
    "name": "ipython",
    "version": 3
   },
   "file_extension": ".py",
   "mimetype": "text/x-python",
   "name": "python",
   "nbconvert_exporter": "python",
   "pygments_lexer": "ipython3",
   "version": "3.6.4"
  }
 },
 "nbformat": 4,
 "nbformat_minor": 2
}
